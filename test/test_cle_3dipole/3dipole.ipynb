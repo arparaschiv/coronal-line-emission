{
 "cells": [
  {
   "cell_type": "code",
   "execution_count": 1,
   "metadata": {},
   "outputs": [
    {
     "data": {
      "text/plain": [
       "<Figure size 1080x1080 with 0 Axes>"
      ]
     },
     "metadata": {},
     "output_type": "display_data"
    }
   ],
   "source": [
    "import struct\n",
    "import numpy as np\n",
    "import os.path\n",
    "import math\n",
    "import re\n",
    "import numba\n",
    "from scipy import stats\n",
    "from pylab import *\n",
    "##file manipulation\n",
    "from astropy.io import ascii\n",
    "from astropy.io import fits\n",
    "from scipy.io import FortranFile\n",
    "import h5py\n",
    "import pickle\n",
    "##os and other stuff\n",
    "import time\n",
    "import warnings\n",
    "import os\n",
    "import sys\n",
    "from numba import jit\n",
    "#for ulterior plotting\n",
    "import matplotlib.pyplot as plt\n",
    "import matplotlib.patches as patches\n",
    "import matplotlib as mpl\n",
    "plt.ion()\n",
    "\n",
    "## to import the custom library in ipython\n",
    "sys.path.insert(1, '/home/alin/Documents/physics_prog/cle/python/')\n",
    "import importlib        ### to reload external files after changes are made within modules.\n",
    "import cle_utils\n",
    "\n",
    "## kr              transition index (the atom contains several radiative transitions, kr is in the order defined in the used ATOM file\n",
    "##                 e.g. for Fe XIII kr=0 means 1074.7nm and kr=1 means 1079.8nm\n",
    "##\n",
    "## simpath_out     takes the path to the CLE OUT file.\n",
    "## simpath_atmos   takes the path to the CLE OUT file.\n",
    "##\n",
    "## no_rot          is a binary argument used to not rotate q and u vectors from CLE.\n",
    "##                 The CLE roune corona.f contains the definition of the reference direction.\n",
    "##                 The Stokes is computed using a ref direction parallel to the z-axis [N-S] to a \n",
    "##                 polarization vector in the frame of (y,z) [E-W, N-S] in the plane of the sky. \n",
    "##                 The input numbers q,u are replaced with these componenttis.       \n",
    "\n",
    "\n",
    "# colorbar function to have nice colorbars in figures\n",
    "def colorbar(mappable):\n",
    "   from mpl_toolkits.axes_grid1 import make_axes_locatable\n",
    "   import matplotlib.pyplot as plt\n",
    "   last_axes = plt.gca()\n",
    "   ax = mappable.axes\n",
    "   fig = ax.figure\n",
    "   divider = make_axes_locatable(ax)\n",
    "   cax = divider.append_axes(\"right\", size=\"3.5%\", pad=0.05)\n",
    "   cbar = fig.colorbar(mappable, cax=cax)\n",
    "   #cbar.formatter.set_powerlimits((4, 9))\n",
    "   plt.sca(last_axes)\n",
    "   return cbar"
   ]
  },
  {
   "cell_type": "code",
   "execution_count": 3,
   "metadata": {},
   "outputs": [],
   "source": [
    "# simpath_out=    '/home/alin/Documents/physics_prog/cle/test_cle_3dipole/OUT1_o'\n",
    "# simpath_atmos=  '/home/alin/Documents/physics_prog/cle/test_cle_3dipole/ATMOS1_o'\n",
    "\n",
    "# kr_out=0\n",
    "# no_rot_out =1\n",
    "\n",
    "# ##put everything from OUT in a variable\n",
    "# s = cle_utils.out_params(simpath_out,kr_out,no_rot_out)\n",
    "\n",
    "\n",
    "# ##put everything from ATMOS in a variable\n",
    "# atm=cle_utils.atmos_params(simpath_atmos)\n",
    "# ##save atmos VTK datacubes for paraview rendering\n",
    "# #cle_utils.atmos2vtk(atm,\"/home/alin/Desktop/REU_Aatiya_wave/\",\"test_deg\",bx=1,by=1,bz=1,nne=1,te=1)"
   ]
  },
  {
   "cell_type": "code",
   "execution_count": 13,
   "metadata": {},
   "outputs": [
    {
     "name": "stdout",
     "output_type": "stream",
     "text": [
      "Length of buffer is 12201634\n",
      "Length of buffer is 3699770\n",
      "Length of buffer is 13681882\n",
      "shape is: (800, 280, 600)\n"
     ]
    },
    {
     "name": "stderr",
     "output_type": "stream",
     "text": [
      "/home/alin/anaconda3/lib/python3.7/site-packages/ipykernel_launcher.py:29: RuntimeWarning: invalid value encountered in true_divide\n",
      "/home/alin/anaconda3/lib/python3.7/site-packages/ipykernel_launcher.py:47: RuntimeWarning: invalid value encountered in true_divide\n",
      "/home/alin/anaconda3/lib/python3.7/site-packages/ipykernel_launcher.py:81: RuntimeWarning: invalid value encountered in true_divide\n",
      "/home/alin/anaconda3/lib/python3.7/site-packages/ipykernel_launcher.py:99: RuntimeWarning: invalid value encountered in true_divide\n"
     ]
    },
    {
     "data": {
      "application/vnd.jupyter.widget-view+json": {
       "model_id": "b6763b591d424be99ee8bb4992075d25",
       "version_major": 2,
       "version_minor": 0
      },
      "text/plain": [
       "Canvas(toolbar=Toolbar(toolitems=[('Home', 'Reset original view', 'home', 'home'), ('Back', 'Back to previous …"
      ]
     },
     "metadata": {},
     "output_type": "display_data"
    }
   ],
   "source": [
    "## Integrated profiles and magnetic field components\n",
    "\n",
    "## load 3 atmos files\n",
    "atm1=cle_utils.atmos_params('/home/alin/Documents/physics_prog/cle/test_cle_3dipole/A_DIPOLE/ATMOS')\n",
    "atm2=cle_utils.atmos_params('/home/alin/Documents/physics_prog/cle/test_cle_3dipole/B_DIPOLE//ATMOS')\n",
    "atm3=cle_utils.atmos_params('/home/alin/Documents/physics_prog/cle/test_cle_3dipole/C_DIPOLE//ATMOS')\n",
    "## \n",
    "bx1=( np.average(atm1.bx,axis=0)+np.average(atm2.bx,axis=0)+np.average(atm3.bx,axis=0) )/3.\n",
    "by1=( np.average(atm1.by,axis=0)+np.average(atm2.by,axis=0)+np.average(atm3.by,axis=0) )/3.\n",
    "bz1=( np.average(atm1.bz,axis=0)+np.average(atm2.bz,axis=0)+np.average(atm3.bz,axis=0) )/3.\n",
    "\n",
    "print(\"shape is:\",atm1.nne.shape)\n",
    "\n",
    "#nne1=(np.average(atm1.nne[60:90,:,:],axis=0)+np.average(atm2.nne[60:90,:,:],axis=0)+np.average(atm3.nne[90:120,:,:],axis=0)  )/3.\n",
    "va=np.sum(atm1.nne,axis=0)\n",
    "va[isnan(va)]=0\n",
    "vb=np.sum(atm2.nne,axis=0)\n",
    "vb[isnan(vb)]=0\n",
    "vc=np.sum(atm3.nne,axis=0)\n",
    "vc[isnan(vc)]=0\n",
    "\n",
    "vaa=(np.count_nonzero(atm1.nne,axis=0))\n",
    "vaa[isnan(vaa)]=0\n",
    "vbb=(np.count_nonzero(atm2.nne,axis=0))\n",
    "vbb[isnan(vbb)]=0\n",
    "vcc=(np.count_nonzero(atm3.nne,axis=0))\n",
    "vcc[isnan(vcc)]=0\n",
    "\n",
    "nne1=(va+vb+vc)/(vaa+vbb+vcc)\n",
    "\n",
    "\n",
    "#te1=(np.average(atm1.te[60:90,:,:],axis=0)+np.average(atm2.te[60:90,:,:],axis=0)+np.average(atm3.te[90:120,:,:],axis=0)  )/3.\n",
    "va=np.sum(atm1.te,axis=0)\n",
    "va[isnan(va)]=0\n",
    "vb=np.sum(atm2.te,axis=0)\n",
    "vb[isnan(vb)]=0\n",
    "vc=np.sum(atm3.te,axis=0)\n",
    "vc[isnan(vc)]=0\n",
    "\n",
    "vaa=(np.count_nonzero(atm1.te,axis=0))\n",
    "vaa[isnan(vaa)]=0\n",
    "vbb=(np.count_nonzero(atm2.te,axis=0))\n",
    "vbb[isnan(vbb)]=0\n",
    "vcc=(np.count_nonzero(atm3.te,axis=0))\n",
    "vcc[isnan(vcc)]=0\n",
    "\n",
    "te1=(va+vb+vc)/(vaa+vbb+vcc)\n",
    "\n",
    "\n",
    "#v1=(np.sum(atm1.v,axis=0)/np.count_nonzero(atm1.v,axis=0))+(np.sum(atm2.v,axis=0)/np.count_nonzero(atm2.v,axis=0) )+(np.sum(atm3.v,axis=0)/np.count_nonzero(atm3.v,axis=0) ) \n",
    "# va=np.sum(atm1.v,axis=0)/np.count_nonzero(atm1.v,axis=0)\n",
    "# va[isnan(va)]=0\n",
    "# vb=np.sum(atm2.v,axis=0)/np.count_nonzero(atm2.v,axis=0)\n",
    "# vb[isnan(vb)]=0\n",
    "# vc=np.sum(atm3.v,axis=0)/np.count_nonzero(atm3.v,axis=0)\n",
    "# vc[isnan(vc)]=0\n",
    "\n",
    "# vaa=(np.count_nonzero(atm1.v,axis=0)/np.count_nonzero(atm1.v,axis=0))\n",
    "# vaa[isnan(vaa)]=0\n",
    "# vbb=(np.count_nonzero(atm2.v,axis=0)/np.count_nonzero(atm2.v,axis=0))\n",
    "# vbb[isnan(vbb)]=0\n",
    "# vcc=(np.count_nonzero(atm3.v,axis=0)/np.count_nonzero(atm3.v,axis=0))\n",
    "# vcc[isnan(vcc)]=0\n",
    "\n",
    "# v1=(va+vb+vc)/(vaa+vbb+vcc)\n",
    "\n",
    "va=np.sum(atm1.v,axis=0)\n",
    "va[isnan(va)]=0\n",
    "vb=np.sum(atm2.v,axis=0)\n",
    "vb[isnan(vb)]=0\n",
    "vc=np.sum(atm3.v,axis=0)\n",
    "vc[isnan(vc)]=0\n",
    "\n",
    "vaa=(np.count_nonzero(atm1.v,axis=0))\n",
    "vaa[isnan(vaa)]=0\n",
    "vbb=(np.count_nonzero(atm2.v,axis=0))\n",
    "vbb[isnan(vbb)]=0\n",
    "vcc=(np.count_nonzero(atm3.v,axis=0))\n",
    "vcc[isnan(vcc)]=0\n",
    "\n",
    "v1=(va+vb+vc)/(vaa+vbb+vcc)\n",
    "\n",
    "#vt1=(np.average(atm1.vt[60:90,:,:],axis=0)+np.average(atm2.vt[60:90,:,:],axis=0)+np.average(atm3.vt[90:120,:,:],axis=0)   ) /3\n",
    "vta=np.sum(atm1.vt,axis=0)\n",
    "vta[isnan(vta)]=0\n",
    "vtb=np.sum(atm2.vt,axis=0)\n",
    "vtb[isnan(vtb)]=0\n",
    "vtc=np.sum(atm3.vt,axis=0)\n",
    "vtc[isnan(vtc)]=0\n",
    "\n",
    "vtaa=(np.count_nonzero(atm1.vt,axis=0))\n",
    "vtaa[isnan(vtaa)]=0\n",
    "vtbb=(np.count_nonzero(atm2.vt,axis=0))\n",
    "vtbb[isnan(vtbb)]=0\n",
    "vtcc=(np.count_nonzero(atm3.vt,axis=0))\n",
    "vtcc[isnan(vtcc)]=0\n",
    "\n",
    "\n",
    "vt1=(vta+vtb+vtc)/(vtaa+vtbb+vtcc)\n",
    "\n",
    "btot=np.sqrt(bx1*bx1+by1*by1+bz1*bz1)\n",
    "# a=np.where(atm.te[75,:,:]==0)\n",
    "# fig, plots = plt.subplots(nrows=2, ncols=4, figsize=(11, 9))\n",
    "# plots[0,0].imshow(te1.T,extent=[0.8,1.5,-1.1,1.1])\n",
    "# c1 =patches.Circle((0, 0),1, color='red')\n",
    "# plots[0,0].add_patch(c1)\n",
    "\n",
    "%matplotlib widget\n",
    "\n",
    "fig, plots = plt.subplots(nrows=2, ncols=4, figsize=(11, 9))\n",
    "ab=plots[0,0].imshow(bx1.T/1000,extent=[0.8,1.5,-0.8,0.8],vmin=-2,vmax=2)\n",
    "colorbar(ab)\n",
    "plots[0,0].set_title('B$_x$')\n",
    "plots[0,0].set_ylabel('Z [R$_\\odot$]')\n",
    "plots[0,0].set_xlabel('Y [R$_\\odot$]')\n",
    "c1 =patches.Circle((0, 0),1, color='black')\n",
    "plots[0,0].add_patch(c1)\n",
    "\n",
    "ab=plots[0,1].imshow(by1.T/1000,extent=[0.8,1.5,-0.8,0.8],vmin=-20,vmax=20)\n",
    "plots[0,1].set_title('B$_y$')\n",
    "colorbar(ab)\n",
    "c1 =patches.Circle((0, 0),1, color='black')\n",
    "plots[0,1].add_patch(c1)\n",
    "\n",
    "ab=plots[0,2].imshow(bz1.T/1000,extent=[0.8,1.5,-0.8,0.8],vmin=-30,vmax=30)\n",
    "plots[0,2].set_title('B$_z$')\n",
    "colorbar(ab)\n",
    "c1 =patches.Circle((0, 0),1, color='black')\n",
    "plots[0,2].add_patch(c1)\n",
    "\n",
    "ab=plots[0,3].imshow(btot.T/1000,extent=[0.8,1.5,-0.8,0.8],vmin=-0,vmax=40)#,cmap='Reds')\n",
    "plots[0,3].set_title('|B$_{tot}$|')\n",
    "colorbar(ab)\n",
    "c1 =patches.Circle((0, 0),1, color='black')\n",
    "plots[0,3].add_patch(c1)\n",
    "\n",
    "ab=plots[1,0].imshow(nne1.T,extent=[0.8,1.5,-0.8,0.8],vmin=0,vmax=5e8,cmap='BuGn')\n",
    "plots[1,0].set_title('$\\\\rho$')\n",
    "colorbar(ab)\n",
    "plots[1,0].set_ylabel('Z [R$_\\odot$]')\n",
    "plots[1,0].set_xlabel('Y [R$_\\odot$]')\n",
    "c1 =patches.Circle((0, 0),1, color='black')\n",
    "plots[1,0].add_patch(c1)\n",
    "\n",
    "ab=plots[1,1].imshow(te1.T,extent=[0.8,1.5,-0.8,0.8],vmin=0,vmax=2.5e6,cmap='Reds')\n",
    "plots[1,1].set_title('T$_e$')\n",
    "colorbar(ab)\n",
    "c1 =patches.Circle((0, 0),1, color='black')\n",
    "plots[1,1].add_patch(c1)\n",
    "\n",
    "ab=plots[1,2].imshow(v1.T,extent=[0.8,1.5,-0.8,0.8],vmin=-40,vmax=40,cmap='bwr')\n",
    "plots[1,2].set_title('LOS Speed')\n",
    "colorbar(ab)\n",
    "c1 =patches.Circle((0, 0),1, color='black')\n",
    "plots[1,2].add_patch(c1)\n",
    "\n",
    "ab=plots[1,3].imshow(vt1.T,extent=[0.8,1.5,-0.8,0.8],vmin=-0,vmax=25,cmap='BuGn')\n",
    "plots[1,3].set_title('Turb. speed')\n",
    "colorbar(ab)\n",
    "c1 =patches.Circle((0, 0),1, color='black')\n",
    "plots[1,3].add_patch(c1)\n",
    "\n",
    "#plt.imshow(vaa+vbb+vcc)\n",
    "plots[1,1].annotate('A', xy=(1.04,0.1), xytext=(1.04,0.3),arrowprops=dict(facecolor='black',arrowstyle=\"->\"))\n",
    "plots[1,1].annotate('B', xy=(1.04,-0.02), xytext=(1.04,-0.27),arrowprops=dict(facecolor='black',arrowstyle=\"->\"))\n",
    "plots[1,1].annotate('C', xy=(1.15,0.01), xytext=(1.3,0.01),arrowprops=dict(facecolor='black',arrowstyle=\"->\"))\n",
    "\n",
    "\n",
    "\n",
    "\n",
    "plt.tight_layout()\n"
   ]
  },
  {
   "cell_type": "code",
   "execution_count": 19,
   "metadata": {},
   "outputs": [
    {
     "data": {
      "application/vnd.jupyter.widget-view+json": {
       "model_id": "b7043a29115f43e8b8324a8c422623ac",
       "version_major": 2,
       "version_minor": 0
      },
      "text/plain": [
       "Canvas(toolbar=Toolbar(toolitems=[('Home', 'Reset original view', 'home', 'home'), ('Back', 'Back to previous …"
      ]
     },
     "metadata": {},
     "output_type": "display_data"
    },
    {
     "name": "stdout",
     "output_type": "stream",
     "text": [
      "8.03148022230743 0.0025033950805664062 3.963764508565267 -2.3883899052937827\n"
     ]
    }
   ],
   "source": [
    "plt.figure()\n",
    "plt.plot(atm3.bx[:,130,270])\n",
    "plt.plot(atm3.by[:,130,270])\n",
    "plt.plot(atm3.bz[:,130,270])\n",
    "print(np.log10(nne1[130,270]),bx1[130,270],by1[130,270],bz1[130,270])"
   ]
  },
  {
   "cell_type": "code",
   "execution_count": 16,
   "metadata": {},
   "outputs": [
    {
     "data": {
      "application/vnd.jupyter.widget-view+json": {
       "model_id": "3633b155f08741a49d24e257f36dcfd2",
       "version_major": 2,
       "version_minor": 0
      },
      "text/plain": [
       "Canvas(toolbar=Toolbar(toolitems=[('Home', 'Reset original view', 'home', 'home'), ('Back', 'Back to previous …"
      ]
     },
     "metadata": {},
     "output_type": "display_data"
    },
    {
     "data": {
      "text/plain": [
       "[<matplotlib.lines.Line2D at 0x7f30e3b61b10>]"
      ]
     },
     "execution_count": 16,
     "metadata": {},
     "output_type": "execute_result"
    }
   ],
   "source": [
    "##### print(atm1.te.shape)\n",
    "gg1=atm1.nne[:,:,310].copy()   ## old low-resolution version has 110 index\n",
    "#gg1[:68,:]=0\n",
    "#gg1[79:,:]=0\n",
    "gg2=atm2.nne[:,:,340].copy()\n",
    "#gg2[:10,:]=0\n",
    "#gg2[20:,:]=0\n",
    "\n",
    "gg3=atm3.nne[:,:,340].copy()*50\n",
    "\n",
    "plt.figure(figsize=(10, 10))\n",
    "plt.xlim(-0.1,1.5)\n",
    "plt.imshow(gg1+gg2+gg3,extent=[0.8,1.5,-0.75,0.75],vmin=0,vmax=5e8,cmap='BuGn')\n",
    "plt.ylabel('X [R$_\\odot$]')\n",
    "plt.xlabel('Y [R$_\\odot$]')\n",
    "plt.title(\"Ecliptic plane $xy$; $z=0$ \")\n",
    "\n",
    "plt.annotate('Loop C', xy=(1.23,0.5), xytext=(1.34,0.5),arrowprops=dict(facecolor='black',arrowstyle=\"->\"))\n",
    "plt.annotate('Loop B', xy=(1.07,-0.25), xytext=(1.18,-0.25),arrowprops=dict(facecolor='black',arrowstyle=\"->\"))\n",
    "plt.annotate('Loops A', xy=(1.1,-0.01), xytext=(1.2,-0.01),arrowprops=dict(facecolor='black',arrowstyle=\"->\"))\n",
    "\n",
    "plt.plot([1,1],[-0.75,0.75],color='b')\n",
    "plt.text(0.97,-0.73,'Apparent limb \\n    observed',rotation=90,fontsize=10,color='b')\n",
    "plt.text(0.65,-0.71,'Solar Limb',rotation=50,fontsize=10,color='k')\n",
    "plt.text(1.43,0.02,'$\\leftarrow$ to observer',rotation=90,fontsize=10)\n",
    "\n",
    "\n",
    "alpha = np.arange(100)/99.\n",
    "mn=43* np.pi/180\n",
    "mx=138* np.pi/180\n",
    "alpha = mn + (alpha)*(mx-mn)\n",
    "plt.plot(np.sin(alpha),np.cos(alpha),'k',linewidth=.7)\n",
    "\n",
    "plt.plot([0,0.83],[0,0.5],'k--',linewidth=.7)\n",
    "plt.plot([0.83,1.2],[0.5,0.5],'k',linewidth=.7)\n",
    "\n",
    "plt.plot([0,0.97],[0,-0.01],'k--',linewidth=.7)\n",
    "plt.plot([0.97,1.08],[-0.01,-0.01],'k',linewidth=.7)\n",
    "\n",
    "plt.plot([0,0.94],[0,-0.26],'k--',linewidth=.7)\n",
    "plt.plot([0.94,1.05],[-0.26,-0.26],'k',linewidth=.7)\n",
    "plt.text(-0.01,-0.05,'O',fontsize=8)\n",
    "\n",
    "#angle definitions\n",
    "plt.plot([0,0],[0,0.2],'k',linewidth=.7)\n",
    "\n",
    "plt.text(0.06,0.09,'59$^\\circ$',rotation=29,fontsize=7,color='k')\n",
    "plt.text(0.1,0.015,'91$^\\circ$',rotation=0,fontsize=7,color='k')\n",
    "plt.text(0.11,-0.035,'105$^\\circ$',rotation=-9,fontsize=7,color='k')\n",
    "\n",
    "alpha = np.arange(100)/99.\n",
    "mn=0* np.pi/180\n",
    "mx=59* np.pi/180\n",
    "alpha = mn + (alpha)*(mx-mn)\n",
    "plt.plot(np.sin(alpha)/10,np.cos(alpha)/10,'k',linewidth=.7)\n",
    "\n",
    "alpha = np.arange(100)/99.\n",
    "mn=0* np.pi/180\n",
    "mx=91* np.pi/180\n",
    "alpha = mn + (alpha)*(mx-mn)\n",
    "plt.plot(np.sin(alpha)/12,np.cos(alpha)/12,'k',linewidth=.7)\n",
    "\n",
    "alpha = np.arange(100)/99.\n",
    "mn=0* np.pi/180\n",
    "mx=105* np.pi/180\n",
    "alpha = mn + (alpha)*(mx-mn)\n",
    "plt.plot(np.sin(alpha)/15,np.cos(alpha)/15,'k',linewidth=.7)"
   ]
  },
  {
   "cell_type": "code",
   "execution_count": 2,
   "metadata": {},
   "outputs": [
    {
     "name": "stdout",
     "output_type": "stream",
     "text": [
      "<class 'int'>\n",
      "Full Stokes profiles were also outputted, stored in s.data_q, s.data_full\n",
      "<class 'int'>\n",
      "Full Stokes profiles were also outputted, stored in s.data_q, s.data_full\n",
      "<class 'int'>\n",
      "Full Stokes profiles were also outputted, stored in s.data_q, s.data_full\n"
     ]
    }
   ],
   "source": [
    "##plot IQUV - 10747\n",
    "kr_out=0       ##transition indexes and rotation parameters.\n",
    "no_rot_out =1\n",
    "\n",
    "s = cle_utils.out_params('/home/alin/Documents/physics_prog/cle/test_cle_3dipole/A_DIPOLE/OUT',kr_out,no_rot_out)\n",
    "s1=s.data_full.T\n",
    "s1q=s.data_q.T\n",
    "ss1_i=s.data1.T\n",
    "ss1_q=s.data2.T\n",
    "ss1_u=s.data3.T\n",
    "ss1_v=s.data4.T\n",
    "\n",
    "s = cle_utils.out_params('/home/alin/Documents/physics_prog/cle/test_cle_3dipole/B_DIPOLE/OUT',kr_out,no_rot_out)\n",
    "s2=s.data_full.T\n",
    "s2q=s.data_q.T\n",
    "ss2_i=s.data1.T\n",
    "ss2_q=s.data2.T\n",
    "ss2_u=s.data3.T\n",
    "ss2_v=s.data4.T\n",
    "\n",
    "s = cle_utils.out_params('/home/alin/Documents/physics_prog/cle/test_cle_3dipole/C_DIPOLE/OUT',kr_out,no_rot_out)\n",
    "s3=s.data_full.T\n",
    "s3q=s.data_q.T\n",
    "ss3_i=s.data1.T\n",
    "ss3_q=s.data2.T\n",
    "ss3_u=s.data3.T\n",
    "ss3_v=s.data4.T\n"
   ]
  },
  {
   "cell_type": "code",
   "execution_count": 4,
   "metadata": {},
   "outputs": [
    {
     "name": "stdout",
     "output_type": "stream",
     "text": [
      "<class 'int'>\n",
      "Full Stokes profiles were also outputted, stored in s.data_q, s.data_full\n",
      "<class 'int'>\n",
      "Full Stokes profiles were also outputted, stored in s.data_q, s.data_full\n",
      "<class 'int'>\n",
      "Full Stokes profiles were also outputted, stored in s.data_q, s.data_full\n"
     ]
    }
   ],
   "source": [
    "##plot IQUV - 10798\n",
    "kr_out=1\n",
    "#%matplotlib widget\n",
    "\n",
    "s = cle_utils.out_params('/home/alin/Documents/physics_prog/cle/test_cle_3dipole/A_DIPOLE/OUT',kr_out,no_rot_out)\n",
    "s12=s.data_full.T\n",
    "s1q2=s.data_q.T\n",
    "ss1_i2=s.data1.T\n",
    "ss1_q2=s.data2.T\n",
    "ss1_u2=s.data3.T\n",
    "ss1_v2=s.data4.T\n",
    "\n",
    "s = cle_utils.out_params('/home/alin/Documents/physics_prog/cle/test_cle_3dipole/B_DIPOLE/OUT',kr_out,no_rot_out)\n",
    "s22=s.data_full.T\n",
    "s2q2=s.data_q.T\n",
    "ss2_i2=s.data1.T\n",
    "ss2_q2=s.data2.T\n",
    "ss2_u2=s.data3.T\n",
    "ss2_v2=s.data4.T\n",
    "\n",
    "s = cle_utils.out_params('/home/alin/Documents/physics_prog/cle/test_cle_3dipole/C_DIPOLE/OUT',kr_out,no_rot_out)\n",
    "s32=s.data_full.T\n",
    "s3q2=s.data_q.T\n",
    "ss3_i2=s.data1.T\n",
    "ss3_q2=s.data2.T\n",
    "ss3_u2=s.data3.T\n",
    "ss3_v2=s.data4.T\n",
    "kr_out=0"
   ]
  },
  {
   "cell_type": "code",
   "execution_count": 21,
   "metadata": {},
   "outputs": [
    {
     "name": "stderr",
     "output_type": "stream",
     "text": [
      "/home/alin/anaconda3/lib/python3.7/site-packages/ipykernel_launcher.py:34: RuntimeWarning: invalid value encountered in true_divide\n"
     ]
    },
    {
     "data": {
      "text/plain": [
       "280"
      ]
     },
     "execution_count": 21,
     "metadata": {},
     "output_type": "execute_result"
    }
   ],
   "source": [
    "## Save a pickle for inversion with DB-Invert\n",
    "\n",
    "##sobs_array\n",
    "\n",
    "##3 dipole 1074 simulation\n",
    "i1=ss1_i+ss2_i+ss3_i\n",
    "q1=ss1_q+ss2_q+ss3_q\n",
    "u1=ss1_u+ss2_u+ss3_u\n",
    "v1=ss1_v+ss2_v+ss3_v\n",
    "\n",
    "## 3dipole 1079 simulation\n",
    "i2=ss1_i2+ss2_i2+ss3_i2\n",
    "q2=ss1_q2+ss2_q2+ss3_q2\n",
    "u2=ss1_u2+ss2_u2+ss3_u2\n",
    "v2=ss1_v2+ss2_v2+ss3_v2\n",
    "\n",
    "\n",
    "## data size\n",
    "xxl=i1.shape[1]\n",
    "yyl=i1.shape[0]\n",
    "wwl=\n",
    "\n",
    "sobs=np.zeros((xxl,yyl,8),dtype=np.float64)\n",
    "sobs[:,:,0]=i1.T\n",
    "sobs[:,:,1]=q1.T\n",
    "sobs[:,:,2]=u1.T\n",
    "sobs[:,:,3]=v1.T\n",
    "sobs[:,:,4]=i2.T\n",
    "sobs[:,:,5]=q2.T\n",
    "sobs[:,:,6]=u2.T\n",
    "sobs[:,:,7]=v2.T\n",
    "\n",
    "for i in np.arange(0,8):\n",
    "    sobs[:,:,i]= sobs[:,:,i]/sobs[:,:,0]\n",
    "\n",
    "    \n",
    "##yobs_array\n",
    "#[0.8,1.5,-1.1,1.1] size from CLEDB GRID.DAT for the 3dipole simulation\n",
    "x0=0.8\n",
    "y0=-1.1\n",
    "dx=(1.5-0.8)/xxl\n",
    "dy=(1.1-(-1.1))/yyl\n",
    "\n",
    "yobs=np.empty((xxl,yyl),dtype=np.float_)\n",
    "for xx in range(xxl):\n",
    "    for yy in range(yyl):\n",
    "        yobs[xx,yy]=np.sqrt((x0+(xx*dx))**2+(y0+(yy*dy))**2 )\n",
    "\n",
    "## RMS is simple and unused for the moment\n",
    "rms=np.ones((8),dtype=np.float_)\n",
    "sobs.shape\n",
    "xxl\n"
   ]
  },
  {
   "cell_type": "code",
   "execution_count": 22,
   "metadata": {},
   "outputs": [],
   "source": [
    "# # # Saving the objects:\n",
    "with open('obsstokes_3dipole_hires.pkl', 'wb') as f:  # Python 3: open(..., 'wb')\n",
    "   pickle.dump([sobs,yobs,rms,xxl,yyl],f)"
   ]
  },
  {
   "cell_type": "code",
   "execution_count": 14,
   "metadata": {},
   "outputs": [
    {
     "name": "stdout",
     "output_type": "stream",
     "text": [
      "600 280 30\n"
     ]
    }
   ],
   "source": [
    "## full data save\n",
    "##sobs_array\n",
    "\n",
    "##3 dipole 1074 simulation\n",
    "i1=s1[:,:,:,0]+s2[:,:,:,0]+s3[:,:,:,0]\n",
    "q1=s1[:,:,:,1]+s2[:,:,:,1]+s3[:,:,:,1]\n",
    "u1=s1[:,:,:,2]+s2[:,:,:,2]+s3[:,:,:,2]\n",
    "v1=s1[:,:,:,3]+s2[:,:,:,3]+s3[:,:,:,3]\n",
    "\n",
    "# ## 3dipole 1079 simulation\n",
    "i2=s12[:,:,:,0]+s22[:,:,:,0]+s32[:,:,:,0]\n",
    "q2=s12[:,:,:,1]+s22[:,:,:,1]+s32[:,:,:,1]\n",
    "u2=s12[:,:,:,2]+s22[:,:,:,2]+s32[:,:,:,2]\n",
    "v2=s12[:,:,:,3]+s22[:,:,:,3]+s32[:,:,:,3]\n",
    "\n",
    "\n",
    "# ## data size\n",
    "xxl=i1.shape[0]\n",
    "yyl=i1.shape[1]\n",
    "wwl=i1.shape[2]\n",
    "print(xxl,yyl,wwl)\n",
    "\n",
    "sobs_full=np.zeros((xxl,yyl,wwl,8),dtype=np.float64)\n",
    "sobs_full[:,:,:,0]=i1\n",
    "sobs_full[:,:,:,1]=q1\n",
    "sobs_full[:,:,:,2]=u1\n",
    "sobs_full[:,:,:,3]=v1\n",
    "sobs_full[:,:,:,4]=i2\n",
    "sobs_full[:,:,:,5]=q2\n",
    "sobs_full[:,:,:,6]=u2\n",
    "sobs_full[:,:,:,7]=v2\n",
    "\n",
    "sobs_a=np.zeros((xxl,yyl,wwl,8),dtype=np.float64)\n",
    "sobs_a[:,:,:,0]=s1[:,:,:,0]\n",
    "sobs_a[:,:,:,1]=s1[:,:,:,1]\n",
    "sobs_a[:,:,:,2]=s1[:,:,:,2]\n",
    "sobs_a[:,:,:,3]=s1[:,:,:,3]\n",
    "sobs_a[:,:,:,4]=s12[:,:,:,0]\n",
    "sobs_a[:,:,:,5]=s12[:,:,:,1]\n",
    "sobs_a[:,:,:,6]=s12[:,:,:,2]\n",
    "sobs_a[:,:,:,7]=s12[:,:,:,3]\n",
    "\n",
    "\n",
    "sobs_b=np.zeros((xxl,yyl,wwl,8),dtype=np.float64)\n",
    "sobs_b[:,:,:,0]=s2[:,:,:,0]\n",
    "sobs_b[:,:,:,1]=s2[:,:,:,1]\n",
    "sobs_b[:,:,:,2]=s2[:,:,:,2]\n",
    "sobs_b[:,:,:,3]=s2[:,:,:,3]\n",
    "sobs_b[:,:,:,4]=s22[:,:,:,0]\n",
    "sobs_b[:,:,:,5]=s22[:,:,:,1]\n",
    "sobs_b[:,:,:,6]=s22[:,:,:,2]\n",
    "sobs_b[:,:,:,7]=s22[:,:,:,3]\n",
    "\n",
    "sobs_c=np.zeros((xxl,yyl,wwl,8),dtype=np.float64)\n",
    "sobs_c[:,:,:,0]=s3[:,:,:,0]\n",
    "sobs_c[:,:,:,1]=s3[:,:,:,1]\n",
    "sobs_c[:,:,:,2]=s3[:,:,:,2]\n",
    "sobs_c[:,:,:,3]=s3[:,:,:,3]\n",
    "sobs_c[:,:,:,4]=s32[:,:,:,0]\n",
    "sobs_c[:,:,:,5]=s32[:,:,:,1]\n",
    "sobs_c[:,:,:,6]=s32[:,:,:,2]\n",
    "sobs_c[:,:,:,7]=s32[:,:,:,3]"
   ]
  },
  {
   "cell_type": "code",
   "execution_count": 13,
   "metadata": {},
   "outputs": [],
   "source": [
    "# # # Saving the objects:\n",
    "with open('obsstokes_3dipole_hires_fullspectra.pkl', 'wb') as f:  # Python 3: open(..., 'wb')\n",
    "   pickle.dump([sobs_a,sobs_b,sobs_c,sobs_full,s1q,s1q2],f)"
   ]
  },
  {
   "cell_type": "code",
   "execution_count": 53,
   "metadata": {},
   "outputs": [
    {
     "data": {
      "application/vnd.jupyter.widget-view+json": {
       "model_id": "84dcff7d74804980bd197c29f4f7a917",
       "version_major": 2,
       "version_minor": 0
      },
      "text/plain": [
       "Canvas(toolbar=Toolbar(toolitems=[('Home', 'Reset original view', 'home', 'home'), ('Back', 'Back to previous …"
      ]
     },
     "metadata": {},
     "output_type": "display_data"
    },
    {
     "data": {
      "text/plain": [
       "<matplotlib.image.AxesImage at 0x7f77439fc590>"
      ]
     },
     "execution_count": 53,
     "metadata": {},
     "output_type": "execute_result"
    }
   ],
   "source": [
    "## check if everything is right with the array\n",
    "plt.figure()\n",
    "#plt.imshow(sobs[:,:,3].T)\n",
    "plt.imshow(yobs.T)\n"
   ]
  },
  {
   "cell_type": "code",
   "execution_count": 3,
   "metadata": {},
   "outputs": [],
   "source": [
    "with open('outparams_3dipole_20210511.pkl','rb') as f:\n",
    "   out = pickle.load(f)  "
   ]
  },
  {
   "cell_type": "code",
   "execution_count": 28,
   "metadata": {},
   "outputs": [
    {
     "data": {
      "text/plain": [
       "<Figure size 432x288 with 0 Axes>"
      ]
     },
     "metadata": {},
     "output_type": "display_data"
    },
    {
     "data": {
      "image/png": "[encoded data removed]",
      "text/plain": [
       "<Figure size 792x648 with 16 Axes>"
      ]
     },
     "metadata": {
      "needs_background": "light"
     },
     "output_type": "display_data"
    }
   ],
   "source": [
    "## plots of the inversion outputs\n",
    "plt.figure()\n",
    "\n",
    "fig, plots = plt.subplots(nrows=2, ncols=4, figsize=(11, 9))\n",
    "ab=plots[0,0].imshow(out[:,:,0,7].T/100,extent=[0.8,1.5,-1.1,1.1],vmin=-2,vmax=2)\n",
    "colorbar(ab)\n",
    "plots[0,0].set_title('B$_x$')\n",
    "plots[0,0].set_ylabel('Z [R$_\\odot$]')\n",
    "plots[0,0].set_xlabel('Y [R$_\\odot$]')\n",
    "c1 =patches.Circle((0, 0),1, color='black')\n",
    "plots[0,0].add_patch(c1)\n",
    "\n",
    "ab=plots[0,1].imshow(out[:,:,0,8].T,extent=[0.8,1.5,-1.1,1.1],vmin=-20,vmax=20)\n",
    "plots[0,1].set_title('B$_y$')\n",
    "colorbar(ab)\n",
    "c1 =patches.Circle((0, 0),1, color='black')\n",
    "plots[0,1].add_patch(c1)\n",
    "\n",
    "ab=plots[0,2].imshow(out[:,:,0,9].T,extent=[0.8,1.5,-1.1,1.1],vmin=-30,vmax=30)\n",
    "plots[0,2].set_title('B$_z$')\n",
    "colorbar(ab)\n",
    "c1 =patches.Circle((0, 0),1, color='black')\n",
    "plots[0,2].add_patch(c1)\n",
    "\n",
    "ab=plots[0,3].imshow((out[:,:,0,7].T+out[:,:,0,8].T+out[:,:,0,9].T)/3.,extent=[0.8,1.5,-1.1,1.1],vmin=-0,vmax=40)#,cmap='Reds')\n",
    "plots[0,3].set_title('|B$_{tot}$|')\n",
    "colorbar(ab)\n",
    "c1 =patches.Circle((0, 0),1, color='black')\n",
    "plots[0,3].add_patch(c1)\n",
    "\n",
    "ab=plots[1,0].imshow(out[:,:,0,3].T*2.6,extent=[0.8,1.5,-1.1,1.1],vmin=0,vmax=8,cmap='BuGn')\n",
    "plots[1,0].set_title('$alog(\\\\rho$)')\n",
    "colorbar(ab)\n",
    "plots[1,0].set_ylabel('Z [R$_\\odot$]')\n",
    "plots[1,0].set_xlabel('Y [R$_\\odot$]')\n",
    "c1 =patches.Circle((0, 0),1, color='black')\n",
    "plots[1,0].add_patch(c1)\n",
    "\n",
    "ab=plots[1,1].imshow(out[:,:,0,1].T,extent=[0.8,1.5,-1.1,1.1],cmap='Reds')\n",
    "plots[1,1].set_title('chi^2$')\n",
    "colorbar(ab)\n",
    "c1 =patches.Circle((0, 0),1, color='black')\n",
    "plots[1,1].add_patch(c1)\n",
    "\n",
    "ab=plots[1,2].imshow(out[:,:,0,3].T,extent=[0.8,1.5,-1.1,1.1],cmap='bwr')\n",
    "plots[1,2].set_title('height (where computed)')\n",
    "colorbar(ab)\n",
    "c1 =patches.Circle((0, 0),1, color='black')\n",
    "plots[1,2].add_patch(c1)\n",
    "\n",
    "ab=plots[1,3].imshow(out[:,:,0,4].T,extent=[0.8,1.5,-1.1,1.1],cmap='BuGn')\n",
    "plots[1,3].set_title('LOS position')\n",
    "colorbar(ab)\n",
    "c1 =patches.Circle((0, 0),1, color='black')\n",
    "plots[1,3].add_patch(c1)\n",
    "\n",
    "plt.savefig('/home/alin/Desktop/3dipole_invert.png',dpi=100)"
   ]
  },
  {
   "cell_type": "code",
   "execution_count": 24,
   "metadata": {},
   "outputs": [
    {
     "name": "stdout",
     "output_type": "stream",
     "text": [
      "(600, 280)\n"
     ]
    },
    {
     "data": {
      "application/vnd.jupyter.widget-view+json": {
       "model_id": "277cc6ce492c4b99ae114022d11035c5",
       "version_major": 2,
       "version_minor": 0
      },
      "text/plain": [
       "Canvas(toolbar=Toolbar(toolitems=[('Home', 'Reset original view', 'home', 'home'), ('Back', 'Back to previous …"
      ]
     },
     "metadata": {},
     "output_type": "display_data"
    },
    {
     "name": "stderr",
     "output_type": "stream",
     "text": [
      "/home/alin/anaconda3/lib/python3.7/site-packages/ipykernel_launcher.py:15: RuntimeWarning: invalid value encountered in true_divide\n",
      "  from ipykernel import kernelapp as app\n",
      "/home/alin/anaconda3/lib/python3.7/site-packages/ipykernel_launcher.py:21: RuntimeWarning: invalid value encountered in true_divide\n",
      "/home/alin/anaconda3/lib/python3.7/site-packages/ipykernel_launcher.py:27: RuntimeWarning: invalid value encountered in true_divide\n"
     ]
    }
   ],
   "source": [
    "print(ss1_v.shape)\n",
    "fig, plots0 = plt.subplots(nrows=1, ncols=4, figsize=(11, 7))\n",
    "cd=plots0[0].imshow(((ss1_i+ss2_i+ss3_i)/3)/np.max((ss1_i+ss2_i+ss3_i)/3) ,extent=[0.8,1.5,-1.1,1.1],vmin=0,vmax=1,cmap=\"Blues\")\n",
    "colorbar(cd)\n",
    "c1 =patches.Circle((0, 0),1, color='black')\n",
    "plots0[0].add_patch(c1)\n",
    "plots0[0].set_title('Normalized Stokes I')\n",
    "plots0[0].annotate('A', xy=(1.04,0.1), xytext=(1.04,0.3),arrowprops=dict(facecolor='black',arrowstyle=\"->\"))\n",
    "plots0[0].annotate('B', xy=(1.04,-0.02), xytext=(1.04,-0.27),arrowprops=dict(facecolor='black',arrowstyle=\"->\"))\n",
    "plots0[0].annotate('C', xy=(1.15,0.01), xytext=(1.3,0.01),arrowprops=dict(facecolor='black',arrowstyle=\"->\"))\n",
    "plots0[0].annotate('CS', xy=(1.04,0.01), xytext=(1.2,-0.25),arrowprops=dict(facecolor='black',arrowstyle=\"->\"))\n",
    "plots0[0].annotate('D1', xy=(1.11,0.1), xytext=(1.25,0.25),arrowprops=dict(facecolor='black',arrowstyle=\"->\"))\n",
    "plots0[0].annotate('D2', xy=(1.02,-0.05), xytext=(0.95,-0.4),arrowprops=dict(facecolor='black',arrowstyle=\"->\"))\n",
    "\n",
    "ab=plots0[1].imshow(((ss1_v+ss2_v+ss3_v)/30)/((ss1_i+ss2_i+ss3_i)/3),extent=[0.8,1.5,-1.1,1.1],vmin=-0.01,vmax=0.01,cmap=\"RdBu\")\n",
    "plots0[1].set_title('Normalized Stokes V')\n",
    "c1 =patches.Circle((0, 0),1, color='black')\n",
    "plots0[1].add_patch(c1)\n",
    "colorbar(ab)\n",
    "\n",
    "ab=plots0[2].imshow(((ss1_q+ss2_q+ss3_q)/3)/((ss1_i+ss2_i+ss3_i)/3),extent=[0.8,1.5,-1.1,1.1],vmin=-0.05,vmax=0.05,cmap=\"RdBu\")\n",
    "plots0[2].set_title('Normalized Stokes Q')\n",
    "c1 =patches.Circle((0, 0),1, color='black')\n",
    "plots0[2].add_patch(c1)\n",
    "colorbar(ab)\n",
    "\n",
    "ab=plots0[3].imshow(((ss1_u+ss2_u+ss3_u)/3)/((ss1_i+ss2_i+ss3_i)/3),extent=[0.8,1.5,-1.1,1.1],vmin=-0.05,vmax=0.05,cmap=\"RdBu\")\n",
    "colorbar(ab)\n",
    "plots0[3].set_title('Normalized Stokes U')\n",
    "c1 =patches.Circle((0, 0),1, color='black')\n",
    "plots0[3].add_patch(c1)\n",
    "\n",
    "\n",
    "plots0[0].set_ylabel('Z [R$_\\odot$]')\n",
    "plots0[0].set_xlabel('Y [R$_\\odot$]')\n",
    "#plt.title('LS Coupling')\n",
    "plt.tight_layout()"
   ]
  },
  {
   "cell_type": "code",
   "execution_count": 26,
   "metadata": {},
   "outputs": [
    {
     "data": {
      "application/vnd.jupyter.widget-view+json": {
       "model_id": "ee8b958162534b84b17b0515e212337e",
       "version_major": 2,
       "version_minor": 0
      },
      "text/plain": [
       "Canvas(toolbar=Toolbar(toolitems=[('Home', 'Reset original view', 'home', 'home'), ('Back', 'Back to previous …"
      ]
     },
     "metadata": {},
     "output_type": "display_data"
    },
    {
     "name": "stdout",
     "output_type": "stream",
     "text": [
      "(600, 280)\n",
      "[0.0, 0.0, 0.0, 0.0, 0.0, 0.0, 0.0, 0.0]\n",
      "[0.0, 0.0, 0.0, 0.0, 0.0, 0.0, 0.0, 0.0]\n",
      "[0.0, 0.0, 0.0, 0.0, 0.0, 0.0, 0.0, 0.0]\n"
     ]
    }
   ],
   "source": [
    "plt.figure()\n",
    "plt.imshow(((ss1_i+ss2_i+ss3_i)/3)/np.max((ss1_i+ss2_i+ss3_i)/3))\n",
    "#39,107; 1.20\n",
    "print(ss1_i.shape)\n",
    "print([ss3_i[107,39],ss3_q[107,39],ss3_u[107,39],ss3_v[107,39],ss3_i2[107,39],ss3_q2[107,39],ss3_u2[107,39],ss3_v2[107,39]])\n",
    "\n",
    "#32,116 ;1.13\n",
    "print([ss1_i[116,32],ss1_q[116,32],ss1_u[116,32],ss1_v[116,32],ss1_i2[116,32],ss1_q2[116,32],ss1_u2[116,32],ss1_v2[116,32]])\n",
    "\n",
    "#26,104; 1.07\n",
    "print([ss2_i[104,26],ss2_q[104,26],ss2_u[104,26],ss2_v[104,26],ss2_i2[104,26],ss2_q2[104,26],ss2_u2[104,26],ss2_v2[104,26]])\n",
    "\n"
   ]
  },
  {
   "cell_type": "code",
   "execution_count": 25,
   "metadata": {},
   "outputs": [
    {
     "name": "stdout",
     "output_type": "stream",
     "text": [
      "(600, 280, 30, 5) (30,)\n"
     ]
    },
    {
     "data": {
      "application/vnd.jupyter.widget-view+json": {
       "model_id": "fd28e0a3898c45338ff9a998f50b7b58",
       "version_major": 2,
       "version_minor": 0
      },
      "text/plain": [
       "Canvas(toolbar=Toolbar(toolitems=[('Home', 'Reset original view', 'home', 'home'), ('Back', 'Back to previous …"
      ]
     },
     "metadata": {},
     "output_type": "display_data"
    }
   ],
   "source": [
    "print(s1.shape,s1q.shape)\n",
    "fig, plots0 = plt.subplots(nrows=1, ncols=4, figsize=(11, 5))\n",
    "#plt.imshow((ss1_i+ss2_i+ss3_i)/3)\n",
    "#plots0[0].plot(s1q+10747,(s1[110,22,:,0]+s2[110,22,:,0]+s3[110,22,:,0]),label='Obs.')\n",
    "plots0[0].plot(s1q+10747,(s1[110,22,:,0]),label='A')\n",
    "plots0[0].plot(s1q+10747,(s2[110,22,:,0]),label='B')\n",
    "plots0[0].plot(s1q+10747,(3000*s3[110,22,:,0]),label='C')\n",
    "plots0[0].plot(s1q+10747,(s1[110,22,:,0]+s2[110,22,:,0]+s3[110,22,:,0]),label='Obs.',color='black')\n",
    "\n",
    "plots0[0].set_title('Normalized Stokes I')\n",
    "plots0[0].set_ylabel('Normalized Intensity')\n",
    "plots0[0].set_xlabel('Wavelength [$\\AA$]')\n",
    "#plots0[0].annotate('x,y $\\\\approx$ 1.04,0.01 R$_\\odot$', xy=(10747.5,0.75))\n",
    "plots0[0].legend(loc=1,frameon=True)\n",
    "fig.suptitle('(y,z) $\\\\approx$ (1.04,0.01) R$_\\odot$')\n",
    "\n",
    "plots0[1].plot(s1q+10747,(s1[110,22,:,3]),label='A')\n",
    "plots0[1].plot(s1q+10747,(s2[110,22,:,3]),label='B')\n",
    "plots0[1].plot(s1q+10747,(3000*s3[110,22,:,3]),label='C')\n",
    "plots0[1].plot(s1q+10747,(s1[110,22,:,3]+s2[110,22,:,3]+s3[110,22,:,3]),label='Obs.',color='black')\n",
    "\n",
    "plots0[1].set_title('Normalized Stokes V')\n",
    "#plots0[1].legend(loc=1,frameon=True)\n",
    "\n",
    "plots0[2].plot(s1q+10747,(s1[110,22,:,1]),label='A')\n",
    "plots0[2].plot(s1q+10747,(s2[110,22,:,1]),label='B')\n",
    "plots0[2].plot(s1q+10747,(3000*s3[110,22,:,1]),label='C')\n",
    "plots0[2].plot(s1q+10747,(s1[110,22,:,1]+s2[110,22,:,1]+s3[110,22,:,1]),label='Obs.',color='black')\n",
    "\n",
    "plots0[2].set_title('Normalized Stokes Q')\n",
    "\n",
    "plots0[3].plot(s1q+10747,(s1[110,22,:,2]),label='A')\n",
    "plots0[3].plot(s1q+10747,(s2[110,22,:,2]),label='B')\n",
    "plots0[3].plot(s1q+10747,(3000*s3[110,22,:,2]),label='C')\n",
    "plots0[3].plot(s1q+10747,(s1[110,22,:,2]+s2[110,22,:,2]+s3[110,22,:,2]),label='Obs.',color='black')\n",
    "\n",
    "plots0[3].set_title('Normalized Stokes U')\n",
    "plt.tight_layout()\n",
    "fig.subplots_adjust(top=0.88)\n"
   ]
  },
  {
   "cell_type": "code",
   "execution_count": 9,
   "metadata": {},
   "outputs": [],
   "source": [
    "## plot locations with two profiles along LOS.\n",
    "## to invert we need to integrate these!\n",
    "\n",
    "## extent  [0.8,1.5,-1.1,1.1] \n",
    "## array size [70;219]\n",
    "## dx (1.5-0.8)/70=0.01\n",
    "## dy (1.1-(-1.1)/219)=0.01\n",
    "\n",
    "## D1 [1.11,0.10]\n",
    "## D2 [1.02,-0.06]\n",
    "## D1 xy 0.8+x*0.01=1.11 -1.1+y*0.01=0.1  x=31 y=120\n",
    "## D2 xy 0.8+x*0.01=1.02 -1.1+y*0.01=-0.06 x=22 y=105"
   ]
  },
  {
   "cell_type": "code",
   "execution_count": 10,
   "metadata": {},
   "outputs": [
    {
     "data": {
      "application/vnd.jupyter.widget-view+json": {
       "model_id": "ec108639e1024b5aacb27b05bed4dc07",
       "version_major": 2,
       "version_minor": 0
      },
      "text/plain": [
       "Canvas(toolbar=Toolbar(toolitems=[('Home', 'Reset original view', 'home', 'home'), ('Back', 'Back to previous …"
      ]
     },
     "metadata": {},
     "output_type": "display_data"
    }
   ],
   "source": [
    "## D1  - 10747\n",
    "fig, plots2 = plt.subplots(nrows=1, ncols=4, figsize=(11, 5))\n",
    "plots2[0].plot(s1q+10747,s1[120,31,:,0]/np.max(s1[120,31,:,0]),label='A')\n",
    "plots2[0].plot(s1q+10747,s3[120,31,:,0]/np.max(s1[120,31,:,0]),label='C',color=\"C2\")\n",
    "plots2[0].plot(s1q+10747,(s1[120,31,:,0]+s3[120,31,:,0])/np.max(s1[120,31,:,0]),label='Obs.',color='black')\n",
    "\n",
    "plots2[0].set_title('Normalized Stokes I')\n",
    "plots2[0].set_ylabel('Normalized Intensity')\n",
    "plots2[0].set_xlabel('Wavelength [$\\AA$]')\n",
    "plots2[0].legend(loc=1,frameon=True)\n",
    "fig.suptitle('Fe XIII 1074.7nm Point D1 (y,z) $\\\\approx$ (1.11,0.1) R$_\\odot$')\n",
    "\n",
    "plots2[1].plot(s1q+10747,(s1[120,31,:,1]/np.max(s1[120,31,:,0])),label='A')\n",
    "plots2[1].plot(s1q+10747,(s3[120,31,:,1]/np.max(s1[120,31,:,0])),label='C',color=\"C2\")\n",
    "plots2[1].plot(s1q+10747,(s1[120,31,:,1]+s3[120,31,:,1])/np.max(s1[120,31,:,0]),label='Obs.',color='black')\n",
    "plots2[1].set_title('Normalized Stokes Q')\n",
    "\n",
    "plots2[2].plot(s1q+10747,(s1[120,31,:,2]/np.max(s1[120,31,:,0])),label='A')\n",
    "plots2[2].plot(s1q+10747,(s3[120,31,:,2]/np.max(s1[120,31,:,0])),label='C',color=\"C2\")\n",
    "plots2[2].plot(s1q+10747,(s1[120,31,:,2]+s3[120,31,:,2])/np.max(s1[120,31,:,0]),label='Obs.',color='black')\n",
    "plots2[2].set_title('Normalized Stokes U')\n",
    "\n",
    "\n",
    "plots2[3].plot(s1q+10747,(s1[120,31,:,3]/np.max(s1[120,31,:,0])),label='A')\n",
    "plots2[3].plot(s1q+10747,(s3[120,31,:,3]/np.max(s1[120,31,:,0])),label='C',color=\"C2\")\n",
    "plots2[3].plot(s1q+10747,(s1[120,31,:,3]+s3[120,31,:,3])/np.max(s1[120,31,:,0]),label='Obs.',color='black')\n",
    "plots2[3].set_title('Normalized Stokes V')\n",
    "\n",
    "\n",
    "plt.tight_layout()\n",
    "fig.subplots_adjust(top=0.88)"
   ]
  },
  {
   "cell_type": "code",
   "execution_count": 11,
   "metadata": {},
   "outputs": [
    {
     "data": {
      "application/vnd.jupyter.widget-view+json": {
       "model_id": "0f9faf785a9146129dc25749ceb1103d",
       "version_major": 2,
       "version_minor": 0
      },
      "text/plain": [
       "Canvas(toolbar=Toolbar(toolitems=[('Home', 'Reset original view', 'home', 'home'), ('Back', 'Back to previous …"
      ]
     },
     "metadata": {},
     "output_type": "display_data"
    }
   ],
   "source": [
    "## D1  - 10798\n",
    "fig, plots2 = plt.subplots(nrows=1, ncols=4, figsize=(11, 5))\n",
    "plots2[0].plot(s1q2+10798,s12[120,31,:,0]/np.max(s12[120,31,:,0]),label='A')\n",
    "plots2[0].plot(s1q2+10798,s32[120,31,:,0]/np.max(s12[120,31,:,0]),label='C',color=\"C2\")\n",
    "plots2[0].plot(s1q2+10798,(s12[120,31,:,0]+s32[120,31,:,0])/np.max(s12[120,31,:,0]),label='Obs.',color='black')\n",
    "\n",
    "plots2[0].set_title('Normalized Stokes I')\n",
    "plots2[0].set_ylabel('Normalized Intensity')\n",
    "plots2[0].set_xlabel('Wavelength [$\\AA$]')\n",
    "plots2[0].legend(loc=1,frameon=True)\n",
    "fig.suptitle('Fe XIII 1079.8nm Point D1 (y,z) $\\\\approx$ (1.11,0.1) R$_\\odot$')\n",
    "\n",
    "plots2[1].plot(s1q2+10798,(s12[120,31,:,1]/np.max(s12[120,31,:,0])),label='A')\n",
    "plots2[1].plot(s1q2+10798,(s32[120,31,:,1]/np.max(s12[120,31,:,0])),label='C',color=\"C2\")\n",
    "plots2[1].plot(s1q2+10798,(s12[120,31,:,1]+s32[120,31,:,1])/np.max(s12[120,31,:,0]),label='Obs.',color='black')\n",
    "plots2[1].set_title('Normalized Stokes Q')\n",
    "\n",
    "plots2[2].plot(s1q2+10798,(s12[120,31,:,2]/np.max(s12[120,31,:,0])),label='A')\n",
    "plots2[2].plot(s1q2+10798,(s32[120,31,:,2]/np.max(s12[120,31,:,0])),label='C',color=\"C2\")\n",
    "plots2[2].plot(s1q2+10798,(s12[120,31,:,2]+s32[120,31,:,2])/np.max(s12[120,31,:,0]),label='Obs.',color='black')\n",
    "plots2[2].set_title('Normalized Stokes U')\n",
    "\n",
    "\n",
    "plots2[3].plot(s1q2+10798,(s12[120,31,:,3]/np.max(s12[120,31,:,0])),label='A')\n",
    "plots2[3].plot(s1q2+10798,(s32[120,31,:,3]/np.max(s12[120,31,:,0])),label='C',color=\"C2\")\n",
    "plots2[3].plot(s1q2+10798,(s12[120,31,:,3]+s32[120,31,:,3])/np.max(s12[120,31,:,0]),label='Obs.',color='black')\n",
    "plots2[3].set_title('Normalized Stokes V')\n",
    "\n",
    "\n",
    "plt.tight_layout()\n",
    "fig.subplots_adjust(top=0.88)\n"
   ]
  },
  {
   "cell_type": "code",
   "execution_count": 12,
   "metadata": {},
   "outputs": [
    {
     "name": "stdout",
     "output_type": "stream",
     "text": [
      "[ 2.77147984e+00 -1.30364644e-02 -8.49817523e-03 -5.08774743e-02\n",
      "  1.90001667e+00 -3.30449505e-04 -2.13886508e-04 -7.47483540e-02]\n"
     ]
    }
   ],
   "source": [
    "#compute the totals for D1 to invert.\n",
    "v_d1=np.zeros((8))\n",
    "#I\n",
    "v_d1[0]=np.sum(s1[120,31,:,0]+s3[120,31,:,0])\n",
    "v_d1[4]=np.sum(s12[120,31,:,0]+s32[120,31,:,0])\n",
    "#Q\n",
    "v_d1[1]=np.sum(s1[120,31,:,1]+s3[120,31,:,1])\n",
    "v_d1[5]=np.sum(s12[120,31,:,1]+s32[120,31,:,1])\n",
    "#U\n",
    "v_d1[2]=np.sum(s1[120,31,:,2]+s3[120,31,:,2])\n",
    "v_d1[6]=np.sum(s12[120,31,:,2]+s32[120,31,:,2])\n",
    "#V  sign is dependent on the slope peak signs of Stokes V -+=- and +-=+\n",
    "v_d1[3]=-np.sum(np.abs(s1[120,31,:,3]+s3[120,31,:,3]))\n",
    "v_d1[7]=-np.sum(np.abs(s12[120,31,:,3]+s32[120,31,:,3]))\n",
    "\n",
    "print(v_d1)"
   ]
  },
  {
   "cell_type": "code",
   "execution_count": 13,
   "metadata": {},
   "outputs": [
    {
     "data": {
      "application/vnd.jupyter.widget-view+json": {
       "model_id": "8214701a100a4fe39f33ec6a50b6641f",
       "version_major": 2,
       "version_minor": 0
      },
      "text/plain": [
       "Canvas(toolbar=Toolbar(toolitems=[('Home', 'Reset original view', 'home', 'home'), ('Back', 'Back to previous …"
      ]
     },
     "metadata": {},
     "output_type": "display_data"
    }
   ],
   "source": [
    "## D2  - 10747\n",
    "fig, plots2 = plt.subplots(nrows=1, ncols=4, figsize=(11, 5))\n",
    "plots2[0].plot(s1q+10747,s2[105,22,:,0]/np.max(s2[105,22,:,0]),label='B',color=\"C1\")\n",
    "plots2[0].plot(s1q+10747,s3[105,22,:,0]/np.max(s2[105,22,:,0]),label='C',color=\"C2\")\n",
    "plots2[0].plot(s1q+10747,(s2[105,22,:,0]+s3[105,22,:,0])/np.max(s2[105,22,:,0]),label='Obs.',color='black')\n",
    "\n",
    "plots2[0].set_title('Normalized Stokes I')\n",
    "plots2[0].set_ylabel('Normalized Intensity')\n",
    "plots2[0].set_xlabel('Wavelength [$\\AA$]')\n",
    "plots2[0].legend(loc=1,frameon=True)\n",
    "fig.suptitle('Fe XIII 1074.7nm Point D2 (y,z) $\\\\approx$ (1.02,-0.06) R$_\\odot$')\n",
    "\n",
    "plots2[1].plot(s1q+10747,(s2[105,22,:,1]/np.max(s2[105,22,:,0])),label='B',color=\"C1\")\n",
    "plots2[1].plot(s1q+10747,(s3[105,22,:,1]/np.max(s2[105,22,:,0])),label='C',color=\"C2\")\n",
    "plots2[1].plot(s1q+10747,(s2[105,22,:,1]+s3[105,22,:,1])/np.max(s2[105,22,:,0]),label='Obs.',color='black')\n",
    "plots2[1].set_title('Normalized Stokes Q')\n",
    "\n",
    "plots2[2].plot(s1q+10747,(s2[105,22,:,2]/np.max(s2[105,22,:,0])),label='B',color=\"C1\")\n",
    "plots2[2].plot(s1q+10747,(s3[105,22,:,2]/np.max(s2[105,22,:,0])),label='C',color=\"C2\")\n",
    "plots2[2].plot(s1q+10747,(s2[105,22,:,2]+s3[105,22,:,2])/np.max(s2[105,22,:,0]),label='Obs.',color='black')\n",
    "plots2[2].set_title('Normalized Stokes U')\n",
    "\n",
    "\n",
    "plots2[3].plot(s1q+10747,(s2[105,22,:,3]/np.max(s2[105,22,:,0])),label='B',color=\"C1\")\n",
    "plots2[3].plot(s1q+10747,(s3[105,22,:,3]/np.max(s2[105,22,:,0])),label='C',color=\"C2\")\n",
    "plots2[3].plot(s1q+10747,(s2[105,22,:,3]+s3[105,22,:,3])/np.max(s2[105,22,:,0]),label='Obs.',color='black')\n",
    "plots2[3].set_title('Normalized Stokes V')\n",
    "\n",
    "\n",
    "plt.tight_layout()\n",
    "fig.subplots_adjust(top=0.88)"
   ]
  },
  {
   "cell_type": "code",
   "execution_count": 14,
   "metadata": {},
   "outputs": [
    {
     "data": {
      "application/vnd.jupyter.widget-view+json": {
       "model_id": "b39440e3276b4d3894a066dcc349603e",
       "version_major": 2,
       "version_minor": 0
      },
      "text/plain": [
       "Canvas(toolbar=Toolbar(toolitems=[('Home', 'Reset original view', 'home', 'home'), ('Back', 'Back to previous …"
      ]
     },
     "metadata": {},
     "output_type": "display_data"
    }
   ],
   "source": [
    "## D2  - 10798\n",
    "fig, plots2 = plt.subplots(nrows=1, ncols=4, figsize=(11, 5))\n",
    "plots2[0].plot(s1q2+10798,s22[105,22,:,0]/np.max(s22[105,22,:,0]),label='B',color=\"C1\")\n",
    "plots2[0].plot(s1q2+10798,s32[105,22,:,0]/np.max(s22[105,22,:,0]),label='C',color=\"C2\")\n",
    "plots2[0].plot(s1q2+10798,(s22[105,22,:,0]+s32[105,22,:,0])/np.max(s22[105,22,:,0]),label='Obs.',color='black')\n",
    "\n",
    "plots2[0].set_title('Normalized Stokes I')\n",
    "plots2[0].set_ylabel('Normalized Intensity')\n",
    "plots2[0].set_xlabel('Wavelength [$\\AA$]')\n",
    "plots2[0].legend(loc=1,frameon=True)\n",
    "fig.suptitle('Fe XIII 1079.8nm Point D2 (y,z) $\\\\approx$ (1.02,-0.06) R$_\\odot$')\n",
    "\n",
    "plots2[1].plot(s1q2+10798,(s22[105,22,:,1]/np.max(s22[105,22,:,0])),label='B',color=\"C1\")\n",
    "plots2[1].plot(s1q2+10798,(s32[105,22,:,1]/np.max(s22[105,22,:,0])),label='C',color=\"C2\")\n",
    "plots2[1].plot(s1q2+10798,(s22[105,22,:,1]+s32[105,22,:,1])/np.max(s22[105,22,:,0]),label='Obs.',color='black')\n",
    "plots2[1].set_title('Normalized Stokes Q')\n",
    "\n",
    "plots2[2].plot(s1q2+10798,(s22[105,22,:,2]/np.max(s22[105,22,:,0])),label='B',color=\"C1\")\n",
    "plots2[2].plot(s1q2+10798,(s32[105,22,:,2]/np.max(s22[105,22,:,0])),label='C',color=\"C2\")\n",
    "plots2[2].plot(s1q2+10798,(s22[105,22,:,2]+s32[105,22,:,2])/np.max(s22[105,22,:,0]),label='Obs.',color='black')\n",
    "plots2[2].set_title('Normalized Stokes U')\n",
    "\n",
    "\n",
    "plots2[3].plot(s1q2+10798,(s22[105,22,:,3]/np.max(s22[105,22,:,0])),label='B',color=\"C1\")\n",
    "plots2[3].plot(s1q2+10798,(s32[105,22,:,3]/np.max(s22[105,22,:,0])),label='C',color=\"C2\")\n",
    "plots2[3].plot(s1q2+10798,(s22[105,22,:,3]+s32[105,22,:,3])/np.max(s22[105,22,:,0]),label='Obs.',color='black')\n",
    "plots2[3].set_title('Normalized Stokes V')\n",
    "\n",
    "plt.tight_layout()\n",
    "fig.subplots_adjust(top=0.88)\n"
   ]
  },
  {
   "cell_type": "code",
   "execution_count": 15,
   "metadata": {},
   "outputs": [
    {
     "name": "stdout",
     "output_type": "stream",
     "text": [
      "[ 2.72472332e+00 -1.47195132e-04 -2.54103877e-05 -1.67518594e-01\n",
      "  1.67537050e+00 -4.83628247e-06 -8.17960103e-07 -2.43508440e-01]\n"
     ]
    }
   ],
   "source": [
    "#compute the totals for D2 to invert.\n",
    "v_d2=np.zeros((8))\n",
    "#I\n",
    "v_d2[0]=np.sum(s2[105,22,:,0]+s3[105,22,:,0])\n",
    "v_d2[4]=np.sum(s22[105,22,:,0]+s32[105,22,:,0])\n",
    "#Q\n",
    "v_d2[1]=np.sum(s2[105,22,:,1]+s3[105,22,:,1])\n",
    "v_d2[5]=np.sum(s22[105,22,:,1]+s32[105,22,:,1])\n",
    "#U\n",
    "v_d2[2]=np.sum(s2[105,22,:,2]+s3[105,22,:,2])\n",
    "v_d2[6]=np.sum(s22[105,22,:,2]+s32[105,22,:,2])\n",
    "#V  sign is dependent on the slope peak signs of Stokes V -+=- and +-=+\n",
    "v_d2[3]=-np.sum(np.abs(s2[105,22,:,3]+s3[105,22,:,3]))\n",
    "v_d2[7]=-np.sum(np.abs(s22[105,22,:,3]+s32[105,22,:,3]))\n",
    "\n",
    "print(v_d2)"
   ]
  },
  {
   "cell_type": "code",
   "execution_count": 16,
   "metadata": {},
   "outputs": [
    {
     "data": {
      "application/vnd.jupyter.widget-view+json": {
       "model_id": "1d0dbd3db6da4ea0abd1b0297c98f94b",
       "version_major": 2,
       "version_minor": 0
      },
      "text/plain": [
       "Canvas(toolbar=Toolbar(toolitems=[('Home', 'Reset original view', 'home', 'home'), ('Back', 'Back to previous …"
      ]
     },
     "metadata": {},
     "output_type": "display_data"
    },
    {
     "name": "stdout",
     "output_type": "stream",
     "text": [
      "<class 'int'>\n",
      "Full Stokes profiles were also outputted, stored in s.data_q, s.data_full\n",
      "<class 'int'>\n",
      "Full Stokes profiles were also outputted, stored in s.data_q, s.data_full\n",
      "<class 'int'>\n",
      "Full Stokes profiles were also outputted, stored in s.data_q, s.data_full\n"
     ]
    }
   ],
   "source": [
    "##plot Stokes I for all 3 in the old model!\n",
    "\n",
    "%matplotlib widget\n",
    "\n",
    "fig, plots0 = plt.subplots(nrows=2, ncols=3, figsize=(8, 7))\n",
    "\n",
    "s = cle_utils.out_params('/home/alin/Documents/physics_prog/cle/test_cle_3dipole/OUT1',kr_out,no_rot_out)\n",
    "ss1=s.data1.T\n",
    "# plots0[0,0].imshow(s.data1.T,aspect=0.5,extent=[0.8,1.5,-1.1,1.1])\n",
    "# plots0[0,0].set_title('Stokes I - $\\Theta_{LOS}$= 60')\n",
    "# plots0[0,0].set_ylabel('Z [R$_\\odot$]')\n",
    "# plots0[0,0].set_xlabel('Y [R$_\\odot$]')\n",
    "# c1 =patches.Circle((0, 0),1, color='red')\n",
    "# plots0[0,0].add_patch(c1)\n",
    "\n",
    "s = cle_utils.out_params('/home/alin/Documents/physics_prog/cle/test_cle_3dipole/OUT',kr_out,no_rot_out)\n",
    "ss2=s.data1.T\n",
    "# plots0[0,1].imshow(s.data1.T,aspect=0.5,extent=[0.8,1.5,-1.1,1.1])\n",
    "# plots0[0,1].set_title('Stokes I - $\\Theta_{LOS}$= 90')\n",
    "# c1 =patches.Circle((0, 0),1, color='blue')\n",
    "# plots0[0,1].add_patch(c1)\n",
    "\n",
    "\n",
    "s = cle_utils.out_params('/home/alin/Documents/physics_prog/cle/test_cle_3dipole/OUT3',kr_out,no_rot_out)\n",
    "ss3=s.data1.T\n",
    "# plots0[0,2].imshow(s.data1.T,aspect=0.5,extent=[0.8,1.5,-1.1,1.1])\n",
    "# plots0[0,2].set_title('Stokes I - $\\Theta_{LOS}$= 125')\n",
    "# c1 =patches.Circle((0, 0),1, color='green')\n",
    "# plots0[0,2].add_patch(c1)\n",
    "\n",
    "\n",
    "plots0[1,1].imshow((ss1+ss2+ss3)/3,aspect=0.5,extent=[0.8,1.5,-1.1,1.1])\n",
    "plots0[1,1].set_title('Stokes I - Combined')\n",
    "c1 =patches.Circle((0, 0),1, color='black')\n",
    "plots0[1,1].add_patch(c1)\n",
    "plots0[1,1].set_ylabel('Z [R$_\\odot$]')\n",
    "plots0[1,1].set_xlabel('Y [R$_\\odot$]')\n",
    "\n",
    "plots0[1,0].axis('off')\n",
    "plots0[1,2].axis('off')\n",
    "#plt.title('LS Coupling')\n",
    "plt.tight_layout()"
   ]
  },
  {
   "cell_type": "code",
   "execution_count": null,
   "metadata": {},
   "outputs": [],
   "source": []
  }
 ],
 "metadata": {
  "kernelspec": {
   "display_name": "Python 3",
   "language": "python",
   "name": "python3"
  },
  "language_info": {
   "codemirror_mode": {
    "name": "ipython",
    "version": 3
   },
   "file_extension": ".py",
   "mimetype": "text/x-python",
   "name": "python",
   "nbconvert_exporter": "python",
   "pygments_lexer": "ipython3",
   "version": "3.8.5"
  }
 },
 "nbformat": 4,
 "nbformat_minor": 4
}
