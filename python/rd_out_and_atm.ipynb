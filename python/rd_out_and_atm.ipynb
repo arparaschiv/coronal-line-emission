{
 "cells": [
  {
   "cell_type": "markdown",
   "metadata": {},
   "source": [
    "# Script for reading and plotting cle output of both OUT Stokes IQUV and ATMOS atmospheric parameters"
   ]
  },
  {
   "cell_type": "markdown",
   "metadata": {},
   "source": [
    "### 1. Controling variables and imports "
   ]
  },
  {
   "cell_type": "code",
   "execution_count": 13,
   "metadata": {},
   "outputs": [],
   "source": [
    "import struct\n",
    "import numpy as np\n",
    "import os.path\n",
    "import math\n",
    "import re\n",
    "import numba\n",
    "from scipy import stats\n",
    "from pylab import *\n",
    "##file manipulation\n",
    "from astropy.io import ascii\n",
    "from astropy.io import fits\n",
    "from scipy.io import FortranFile\n",
    "import h5py\n",
    "import pickle\n",
    "##os and other stuff\n",
    "import time\n",
    "import warnings\n",
    "import os\n",
    "import sys\n",
    "from numba import jit\n",
    "#for ulterior plotting\n",
    "import matplotlib.pyplot as plt\n",
    "import matplotlib.patches as patches\n",
    "import matplotlib as mpl\n",
    "plt.ion()\n",
    "\n",
    "## to import the custom library in ipython\n",
    "sys.path.insert(1, '/home/alin/Documents/physics_prog/cle/python/')\n",
    "import importlib        ### to reload external files after changes are made within modules.\n",
    "import cle_utils\n",
    "import cle\n",
    "\n",
    "## kr              transition index (the atom contains several radiative transitions, kr is in the order defined in the used ATOM file\n",
    "##                 e.g. for Fe XIII kr=0 means 1074.7nm and kr=1 means 1079.8nm\n",
    "##\n",
    "## simpath_out     takes the path to the CLE OUT file.\n",
    "## simpath_atmos   takes the path to the CLE OUT file.\n",
    "##\n",
    "## no_rot          is a binary argument used to not rotate q and u vectors from CLE.\n",
    "##                 The CLE routine corona.f contains the definition of the reference direction.\n",
    "##                 The Stokes is computed using a ref direction parallel to the z-axis [N-S] to a \n",
    "##                 polarization vector in the frame of (y,z) [E-W, N-S] in the plane of the sky. \n",
    "##                 The input numbers q,u are replaced with these components.       \n",
    "\n",
    "kr_out=0\n",
    "no_rot_out =1\n",
    "simpath_out=    '/home/alin/Documents/physics_prog/cle/test_cle_degeneracy/OUT_001_095_090_090_ls'\n",
    "simpath_atmos=  '/home/alin/Documents/physics_prog/cle/test_cle_degeneracy/ATMOS'\n",
    "\n",
    "# colorbar function to have nice colorbars in figures\n",
    "def colorbar(mappable):\n",
    "   from mpl_toolkits.axes_grid1 import make_axes_locatable\n",
    "   import matplotlib.pyplot as plt\n",
    "   last_axes = plt.gca()\n",
    "   ax = mappable.axes\n",
    "   fig = ax.figure\n",
    "   divider = make_axes_locatable(ax)\n",
    "   cax = divider.append_axes(\"right\", size=\"3.5%\", pad=0.05)\n",
    "   cbar = fig.colorbar(mappable, cax=cax)\n",
    "   #cbar.formatter.set_powerlimits((4, 9))\n",
    "   plt.sca(last_axes)\n",
    "   return cbar"
   ]
  },
  {
   "cell_type": "markdown",
   "metadata": {},
   "source": [
    "### 2. Class to read the OUT and ATMOS file"
   ]
  },
  {
   "cell_type": "code",
   "execution_count": 4,
   "metadata": {},
   "outputs": [
    {
     "name": "stdout",
     "output_type": "stream",
     "text": [
      "<class 'int'>\n",
      "Wavelength integrated Stokes were written\n",
      "Length of buffer is 463026\n"
     ]
    }
   ],
   "source": [
    "##put everything from OUT in a variable\n",
    "s = cle_utils.out_params(simpath_out,kr_out,no_rot_out)\n",
    "\n",
    "\n",
    "##put everything from ATMOS in a variable\n",
    "atm=cle_utils.atmos_params(simpath_atmos)"
   ]
  },
  {
   "cell_type": "code",
   "execution_count": 5,
   "metadata": {},
   "outputs": [],
   "source": [
    "# Integrated profiles and magnetic field components\n",
    "# bx1=np.sum(atm.bx,axis=0)\n",
    "# by1=np.sum(atm.by,axis=0)\n",
    "# bz1=np.sum(atm.bz,axis=0)\n",
    "# nne1=np.average(atm.nne[60:90,:,:],axis=0)\n",
    "# te1=np.average(atm.te[60:90,:,:],axis=0)\n",
    "# #te1=atm.te[75,:,:]\n",
    "# v1=np.average(atm.v,axis=0)\n",
    "# vt1=np.average(atm.vt[60:90,:,:],axis=0)\n",
    "\n",
    "# btot=np.sqrt(bx1*bx1+by1*by1+bz1*bz1)\n",
    "# # a=np.where(atm.te[75,:,:]==0)\n",
    "# # fig, plots = plt.subplots(nrows=2, ncols=4, figsize=(11, 9))\n",
    "# # plots[0,0].imshow(te1.T,extent=[0.8,1.5,-1.1,1.1])\n",
    "# # c1 =patches.Circle((0, 0),1, color='red')\n",
    "# # plots[0,0].add_patch(c1)\n",
    "# %matplotlib widget\n",
    "\n",
    "# fig, plots = plt.subplots(nrows=2, ncols=4, figsize=(11, 9))\n",
    "# ab=plots[0,0].imshow(bx1.T/1000,extent=[0.8,1.5,-1.1,1.1])\n",
    "# colorbar(ab)\n",
    "# plots[0,0].set_title('B$_x$')\n",
    "# plots[0,0].set_ylabel('Z [R$_\\odot$]')\n",
    "# plots[0,0].set_xlabel('Y [R$_\\odot$]')\n",
    "# c1 =patches.Circle((0, 0),1, color='black')\n",
    "# plots[0,0].add_patch(c1)\n",
    "\n",
    "# ab=plots[0,1].imshow(by1.T/1000,extent=[0.8,1.5,-1.1,1.1])\n",
    "# plots[0,1].set_title('B$_y$')\n",
    "# colorbar(ab)\n",
    "# c1 =patches.Circle((0, 0),1, color='black')\n",
    "# plots[0,1].add_patch(c1)\n",
    "\n",
    "# ab=plots[0,2].imshow(bz1.T/1000,extent=[0.8,1.5,-1.1,1.1])\n",
    "# plots[0,2].set_title('B$_z$')\n",
    "# colorbar(ab)\n",
    "# c1 =patches.Circle((0, 0),1, color='black')\n",
    "# plots[0,2].add_patch(c1)\n",
    "\n",
    "# ab=plots[0,3].imshow(btot.T/1000,extent=[0.8,1.5,-1.1,1.1])\n",
    "# plots[0,3].set_title('B$_{tot}$')\n",
    "# colorbar(ab)\n",
    "# c1 =patches.Circle((0, 0),1, color='black')\n",
    "# plots[0,3].add_patch(c1)\n",
    "\n",
    "# ab=plots[1,0].imshow(nne1.T/5,extent=[0.8,1.5,-1.1,1.1])\n",
    "# plots[1,0].set_title('$\\\\rho$')\n",
    "# colorbar(ab)\n",
    "# plots[1,0].set_ylabel('Z [R$_\\odot$]')\n",
    "# plots[1,0].set_xlabel('Y [R$_\\odot$]')\n",
    "# c1 =patches.Circle((0, 0),1, color='black')\n",
    "# plots[1,0].add_patch(c1)\n",
    "\n",
    "# ab=plots[1,1].imshow(te1.T,extent=[0.8,1.5,-1.1,1.1])\n",
    "# plots[1,1].set_title('T$_e$')\n",
    "# colorbar(ab)\n",
    "# c1 =patches.Circle((0, 0),1, color='black')\n",
    "# plots[1,1].add_patch(c1)\n",
    "\n",
    "# ab=plots[1,2].imshow(v1.T,extent=[0.8,1.5,-1.1,1.1])\n",
    "# plots[1,2].set_title('LOS Speed')\n",
    "# colorbar(ab)\n",
    "# c1 =patches.Circle((0, 0),1, color='black')\n",
    "# plots[1,2].add_patch(c1)\n",
    "\n",
    "# ab=plots[1,3].imshow(vt1.T,extent=[0.8,1.5,-1.1,1.1])\n",
    "# plots[1,3].set_title('Turb. speed')\n",
    "# colorbar(ab)\n",
    "# c1 =patches.Circle((0, 0),1, color='black')\n",
    "# plots[1,3].add_patch(c1)\n",
    "\n",
    "# plt.tight_layout()\n"
   ]
  },
  {
   "cell_type": "code",
   "execution_count": 6,
   "metadata": {},
   "outputs": [],
   "source": [
    "# print(atm.bz.shape)\n",
    "# fig = plt.figure()\n",
    "# #plt.imshow(atm.nne[75,:,:].T)\n",
    "\n",
    "# plt.plot(atm.nne[:,41,108])\n",
    "# #print(atm.nne[:,41,108])"
   ]
  },
  {
   "cell_type": "code",
   "execution_count": 7,
   "metadata": {},
   "outputs": [],
   "source": [
    "# from mpl_toolkits.mplot3d import Axes3D  # noqa: F401 unused import\n",
    "\n",
    "# fig = plt.figure()\n",
    "# ax = fig.gca(projection='3d')\n",
    "# ax.voxels(atm.nne)"
   ]
  },
  {
   "cell_type": "code",
   "execution_count": 8,
   "metadata": {},
   "outputs": [],
   "source": [
    "##save atmos VTK datacubes for paraview rendering\n",
    "#cle_utils.atmos2vtk(atm,\"/home/alin/Documents/physics_prog/cle/python/\",\"test_deg\",bx=1,by=1,bz=1,nne=1,te=1)"
   ]
  },
  {
   "cell_type": "markdown",
   "metadata": {},
   "source": [
    "## Plot and check IQUV and prepare for interpretation"
   ]
  },
  {
   "cell_type": "code",
   "execution_count": 9,
   "metadata": {},
   "outputs": [],
   "source": [
    "### paths for the 3 cases of dipole; each for an ls scheme (2-1=1.5;) mix scheme (2-1=1.457); and extreme example (2-1=2.457)\n",
    "simpath_out60_0  =    '/home/alin/Documents/physics_prog/cle/test_cle_degeneracy/OUT_001_095_090_060_ls'\n",
    "simpath_out60_1  =    '/home/alin/Documents/physics_prog/cle/test_cle_degeneracy/OUT_001_095_090_060_mix'\n",
    "simpath_out60_2  =    '/home/alin/Documents/physics_prog/cle/test_cle_degeneracy/OUT_001_095_090_060_ext'\n",
    "simpath_out90_0  =    '/home/alin/Documents/physics_prog/cle/test_cle_degeneracy/OUT_001_095_090_090_ls'\n",
    "simpath_out90_1  =    '/home/alin/Documents/physics_prog/cle/test_cle_degeneracy/OUT_001_095_090_090_mix'\n",
    "simpath_out90_2  =    '/home/alin/Documents/physics_prog/cle/test_cle_degeneracy/OUT_001_095_090_090_ext'\n",
    "simpath_out125_0 =    '/home/alin/Documents/physics_prog/cle/test_cle_degeneracy/OUT_001_095_090_125_ls'\n",
    "simpath_out125_1 =    '/home/alin/Documents/physics_prog/cle/test_cle_degeneracy/OUT_001_095_090_125_mix'\n",
    "simpath_out125_2 =    '/home/alin/Documents/physics_prog/cle/test_cle_degeneracy/OUT_001_095_090_125_ext'\n",
    "##si10\n",
    "simpath_out90_si10 =    '/home/alin/Documents/physics_prog/cle/test_cle_degeneracy/OUT_001_095_090_090_si10'"
   ]
  },
  {
   "cell_type": "code",
   "execution_count": 10,
   "metadata": {},
   "outputs": [
    {
     "name": "stdout",
     "output_type": "stream",
     "text": [
      "<class 'int'>\n",
      "Wavelength integrated Stokes were written\n"
     ]
    }
   ],
   "source": [
    "s = cle_utils.out_params(simpath_out,kr_out,no_rot_out)"
   ]
  },
  {
   "cell_type": "code",
   "execution_count": 11,
   "metadata": {},
   "outputs": [],
   "source": [
    "##plot IQUV 90\n",
    "# %matplotlib widget\n",
    "\n",
    "# s = cle_utils.out_params(simpath_out90_0,kr_out,no_rot_out)\n",
    "# fig, plots0 = plt.subplots(nrows=1, ncols=4, figsize=(11, 7))\n",
    "# cd=plots0[0].imshow(s.data1.T,extent=[0.8,1.5,-1.1,1.1],vmin=-5,vmax=5,cmap=\"RdBu\")\n",
    "# colorbar(cd)\n",
    "# c1 =patches.Circle((0, 0),1, color='black')\n",
    "# plots0[0].add_patch(c1)\n",
    "# plots0[0].set_title('Stokes I')\n",
    "\n",
    "# ab=plots0[1].imshow(s.data4.T,extent=[0.8,1.5,-1.1,1.1],vmin=-0.15,vmax=0.15,cmap=\"RdBu\")\n",
    "# plots0[1].set_title('Stokes V')\n",
    "# c1 =patches.Circle((0, 0),1, color='black')\n",
    "# plots0[1].add_patch(c1)\n",
    "# colorbar(ab)\n",
    "\n",
    "# ab=plots0[2].imshow(s.data2.T,extent=[0.8,1.5,-1.1,1.1],vmin=-0.03,vmax=0.03,cmap=\"RdBu\")\n",
    "# plots0[2].set_title('Stokes Q')\n",
    "# c1 =patches.Circle((0, 0),1, color='black')\n",
    "# plots0[2].add_patch(c1)\n",
    "# colorbar(ab)\n",
    "\n",
    "# ab=plots0[3].imshow(s.data3.T,extent=[0.8,1.5,-1.1,1.1],vmin=-0.015,vmax=0.015,cmap=\"RdBu\")\n",
    "# colorbar(ab)\n",
    "# plots0[3].set_title('Stokes U')\n",
    "# c1 =patches.Circle((0, 0),1, color='black')\n",
    "# plots0[3].add_patch(c1)\n",
    "\n",
    "\n",
    "# plots0[0].set_ylabel('Z [R$_\\odot$]')\n",
    "# plots0[0].set_xlabel('Y [R$_\\odot$]')\n",
    "# #plt.title('LS Coupling')\n",
    "# plt.tight_layout()\n",
    "\n",
    "\n",
    "# s = cle_utils.out_params(simpath_out90_1,kr_out,no_rot_out)\n",
    "# fig, plots1 = plt.subplots(nrows=2, ncols=2, figsize=(10, 8))\n",
    "# plots1[0,0].imshow(s.data1.T,aspect=0.5)\n",
    "# plots1[0,0].set_title('Stokes I')\n",
    "# plots1[0,1].imshow(s.data4.T,aspect=0.5)\n",
    "# plots1[0,1].set_title('Stokes V')\n",
    "\n",
    "# plots1[1,0].imshow(s.data2.T,aspect=0.5)\n",
    "# plots1[1,0].set_title('Stokes Q')\n",
    "# plots1[1,1].imshow(s.data3.T,aspect=0.5)\n",
    "# plots1[1,1].set_title('Stokes U')\n",
    "# #plt.title('Mixed Coupling')\n",
    "# plt.tight_layout()\n",
    "\n",
    "\n",
    "# s = cle_utils.out_params(simpath_out90_2,kr_out,no_rot_out)\n",
    "# fig, plots2 = plt.subplots(nrows=2, ncols=2, figsize=(10, 8))\n",
    "# plots2[0,0].imshow(s.data1.T,aspect=0.5)\n",
    "# plots2[0,0].set_title('Stokes I')\n",
    "# plots2[0,1].imshow(s.data4.T,aspect=0.5)\n",
    "# plots2[0,1].set_title('Stokes V')\n",
    "\n",
    "# plots2[1,0].imshow(s.data2.T,aspect=0.5)\n",
    "# plots2[1,0].set_title('Stokes Q')\n",
    "# plots2[1,1].imshow(s.data3.T,aspect=0.5)\n",
    "# plots2[1,1].set_title('Stokes U')\n",
    "# #plt.title('Extreme 2-1 Lange G')\n",
    "# plt.tight_layout()"
   ]
  },
  {
   "cell_type": "code",
   "execution_count": 12,
   "metadata": {},
   "outputs": [],
   "source": [
    "##PLOT IQUV 125\n",
    "# %matplotlib widget\n",
    "\n",
    "# s = cle_utils.out_params(simpath_out125_0,kr_out,no_rot_out)\n",
    "# fig, plots0 = plt.subplots(nrows=2, ncols=2, figsize=(10, 8))\n",
    "# plots0[0,0].imshow(s.data1.T,aspect=0.5)\n",
    "# plots0[0,0].set_title('Stokes I')\n",
    "# plots0[0,1].imshow(s.data4.T,aspect=0.5)\n",
    "# plots0[0,1].set_title('Stokes V')\n",
    "\n",
    "# plots0[1,0].imshow(s.data2.T,aspect=0.5)\n",
    "# plots0[1,0].set_title('Stokes Q')\n",
    "# plots0[1,1].imshow(s.data3.T,aspect=0.5)\n",
    "# plots0[1,1].set_title('Stokes U')\n",
    "\n",
    "# #plt.title('LS Coupling')\n",
    "# plt.tight_layout()\n"
   ]
  },
  {
   "cell_type": "code",
   "execution_count": 13,
   "metadata": {},
   "outputs": [],
   "source": [
    "#plot IQUV 60\n",
    "\n",
    "# %matplotlib widget\n",
    "\n",
    "# s = cle_utils.out_params(simpath_out60_0,kr_out,no_rot_out)\n",
    "# fig, plots0 = plt.subplots(nrows=2, ncols=2, figsize=(10, 8))\n",
    "# plots0[0,0].imshow(s.data1.T,aspect=0.5)\n",
    "# plots0[0,0].set_title('Stokes I')\n",
    "# plots0[0,1].imshow(s.data4.T,aspect=0.5)\n",
    "# plots0[0,1].set_title('Stokes V')\n",
    "\n",
    "# plots0[1,0].imshow(s.data2.T,aspect=0.5)\n",
    "# plots0[1,0].set_title('Stokes Q')\n",
    "# plots0[1,1].imshow(s.data3.T,aspect=0.5)\n",
    "# plots0[1,1].set_title('Stokes U')\n",
    "\n",
    "# #plt.title('LS Coupling')\n",
    "# plt.tight_layout()"
   ]
  },
  {
   "cell_type": "code",
   "execution_count": 14,
   "metadata": {},
   "outputs": [],
   "source": [
    "##plot Stokes I for all 3\n",
    "\n",
    "# %matplotlib widget\n",
    "\n",
    "# fig, plots0 = plt.subplots(nrows=2, ncols=3, figsize=(8, 7))\n",
    "\n",
    "# s = cle_utils.out_params(simpath_out60_0,kr_out,no_rot_out)\n",
    "# ss1=s.data1.T\n",
    "# plots0[0,0].imshow(s.data1.T,aspect=0.5,extent=[0.8,1.5,-1.1,1.1])\n",
    "# plots0[0,0].set_title('Stokes I - $\\Theta_{LOS}$= 60')\n",
    "# plots0[0,0].set_ylabel('Z [R$_\\odot$]')\n",
    "# plots0[0,0].set_xlabel('Y [R$_\\odot$]')\n",
    "# c1 =patches.Circle((0, 0),1, color='red')\n",
    "# plots0[0,0].add_patch(c1)\n",
    "\n",
    "# s = cle_utils.out_params(simpath_out90_0,kr_out,no_rot_out)\n",
    "# ss2=s.data1.T\n",
    "# plots0[0,1].imshow(s.data1.T,aspect=0.5,extent=[0.8,1.5,-1.1,1.1])\n",
    "# plots0[0,1].set_title('Stokes I - $\\Theta_{LOS}$= 90')\n",
    "# c1 =patches.Circle((0, 0),1, color='blue')\n",
    "# plots0[0,1].add_patch(c1)\n",
    "\n",
    "\n",
    "# s = cle_utils.out_params(simpath_out125_0,kr_out,no_rot_out)\n",
    "# ss3=s.data1.T\n",
    "# plots0[0,2].imshow(s.data1.T,aspect=0.5,extent=[0.8,1.5,-1.1,1.1])\n",
    "# plots0[0,2].set_title('Stokes I - $\\Theta_{LOS}$= 125')\n",
    "# c1 =patches.Circle((0, 0),1, color='green')\n",
    "# plots0[0,2].add_patch(c1)\n",
    "\n",
    "\n",
    "# plots0[1,1].imshow((ss1+ss2+ss3)/3,aspect=0.5,extent=[0.8,1.5,-1.1,1.1])\n",
    "# plots0[1,1].set_title('Stokes I - Combined')\n",
    "# c1 =patches.Circle((0, 0),1, color='black')\n",
    "# plots0[1,1].add_patch(c1)\n",
    "# plots0[1,1].set_ylabel('Z [R$_\\odot$]')\n",
    "# plots0[1,1].set_xlabel('Y [R$_\\odot$]')\n",
    "\n",
    "# plots0[1,0].axis('off')\n",
    "# plots0[1,2].axis('off')\n",
    "# #plt.title('LS Coupling')\n",
    "# plt.tight_layout()\n"
   ]
  },
  {
   "cell_type": "code",
   "execution_count": 15,
   "metadata": {},
   "outputs": [],
   "source": [
    "##See where roughly the same pixel is in all 3 cases\n",
    "# 90 case\n",
    "# s = cle_utils.out_params(simpath_out90_0,kr_out,no_rot_out)\n",
    "# fig=plt.figure()\n",
    "# print(s.data1.shape)\n",
    "# plt.plot(s.data1[:,108])\n",
    "# print('max=',np.where(s.data1[:,108] == np.max(s.data1[:,108])))"
   ]
  },
  {
   "cell_type": "code",
   "execution_count": 16,
   "metadata": {},
   "outputs": [],
   "source": [
    "##See where roughly the same pixel is in all 3 cases\n",
    "# 60 case\n",
    "# s = cle_utils.out_params(simpath_out60_0,kr_out,no_rot_out)\n",
    "# fig=plt.figure()\n",
    "# print(s.data1.shape)\n",
    "# plt.plot(s.data1[:,108])\n",
    "# print('max=',np.where(s.data1[:,108] == np.max(s.data1[:,108])))"
   ]
  },
  {
   "cell_type": "code",
   "execution_count": 17,
   "metadata": {},
   "outputs": [],
   "source": [
    "##See where roughly the same pixel is in all 3 cases\n",
    "# 125 case\n",
    "# s = cle_utils.out_params(simpath_out125_0,kr_out,no_rot_out)\n",
    "# fig=plt.figure()\n",
    "# print(s.data1.shape)\n",
    "# plt.plot(s.data1[:,108])\n",
    "# print('max=',np.where(s.data1[:,108] == np.max(s.data1[:,108])))"
   ]
  },
  {
   "cell_type": "code",
   "execution_count": 18,
   "metadata": {},
   "outputs": [
    {
     "name": "stdout",
     "output_type": "stream",
     "text": [
      "<class 'int'>\n",
      "Wavelength integrated Stokes were written\n",
      "10746.1631\n",
      "<class 'int'>\n",
      "Wavelength integrated Stokes were written\n",
      "10797.8193\n",
      "<class 'int'>\n",
      "Wavelength integrated Stokes were written\n",
      "10746.1631\n",
      "<class 'int'>\n",
      "Wavelength integrated Stokes were written\n",
      "10797.8193\n",
      "<class 'int'>\n",
      "Wavelength integrated Stokes were written\n",
      "10746.1631\n",
      "<class 'int'>\n",
      "Wavelength integrated Stokes were written\n",
      "10797.8193\n"
     ]
    }
   ],
   "source": [
    "#######LS Coupling\n",
    "\n",
    "#for 90 deg pos; choosing pixel (108;41)\n",
    "kr=0\n",
    "s = cle_utils.out_params(simpath_out90_0,kr,no_rot_out) ## ls 1074\n",
    "print(s.wave)\n",
    "sa=np.array([s.data1[41,108],s.data2[41,108],s.data3[41,108],s.data4[41,108]])\n",
    "\n",
    "kr=1\n",
    "s = cle_utils.out_params(simpath_out90_0,kr,no_rot_out) ## ls 1079\n",
    "print(s.wave)\n",
    "sb=np.array([s.data1[41,108],s.data2[41,108],s.data3[41,108],s.data4[41,108]])\n",
    "s_90_ls=np.concatenate((sa,sb))\n",
    "##________________________________________________________________________________\n",
    "\n",
    "#for 60 deg pos; choosing pixel (108;28)\n",
    "kr=0\n",
    "s = cle_utils.out_params(simpath_out60_0,kr,no_rot_out) ## ls 1074\n",
    "print(s.wave)\n",
    "sa=np.array([s.data1[28,108],s.data2[28,108],s.data3[28,108],s.data4[28,108]])\n",
    "\n",
    "kr=1\n",
    "s = cle_utils.out_params(simpath_out60_0,kr,no_rot_out) ## ls 1079\n",
    "print(s.wave)\n",
    "sb=np.array([s.data1[28,108],s.data2[28,108],s.data3[28,108],s.data4[28,108]])\n",
    "s_60_ls=np.concatenate((sa,sb))\n",
    "##________________________________________________________________________________\n",
    "\n",
    "#for 125 deg pos; choosing pixel (108;24)\n",
    "kr=0\n",
    "s = cle_utils.out_params(simpath_out125_0,kr,no_rot_out) ## ls 1074\n",
    "print(s.wave)\n",
    "sa=np.array([s.data1[24,108],s.data2[24,108],s.data3[24,108],s.data4[24,108]])\n",
    "\n",
    "kr=1\n",
    "s = cle_utils.out_params(simpath_out125_0,kr,no_rot_out) ## ls 1079\n",
    "print(s.wave)\n",
    "sb=np.array([s.data1[24,108],s.data2[24,108],s.data3[24,108],s.data4[24,108]])\n",
    "s_125_ls=np.concatenate((sa,sb))\n"
   ]
  },
  {
   "cell_type": "code",
   "execution_count": 19,
   "metadata": {},
   "outputs": [
    {
     "name": "stdout",
     "output_type": "stream",
     "text": [
      "<class 'int'>\n",
      "Wavelength integrated Stokes were written\n",
      "10746.1631\n",
      "<class 'int'>\n",
      "Wavelength integrated Stokes were written\n",
      "14302.2314\n"
     ]
    }
   ],
   "source": [
    "## LC COUPLING FOR FeXIII and SiX line pair\n",
    "## second for 90 deg pos (for using 2 atoms in LS); choosing pixel (108;41)\n",
    "kr=0\n",
    "s = cle_utils.out_params(simpath_out90_0,kr,no_rot_out) ## ls 1074\n",
    "print(s.wave)\n",
    "sa=np.array([s.data1[41,108],s.data2[41,108],s.data3[41,108],s.data4[41,108]])\n",
    "\n",
    "s = cle_utils.out_params(simpath_out90_si10,kr,no_rot_out) ## ls 1430\n",
    "print(s.wave)\n",
    "sb=np.array([s.data1[41,108],s.data2[41,108],s.data3[41,108],s.data4[41,108]])\n",
    "s_90_2atoms=np.concatenate((sa,sb))\n",
    "##________________________________________________________________________________\n"
   ]
  },
  {
   "cell_type": "code",
   "execution_count": 20,
   "metadata": {},
   "outputs": [
    {
     "name": "stdout",
     "output_type": "stream",
     "text": [
      "<class 'int'>\n",
      "Wavelength integrated Stokes were written\n",
      "10746.1631\n",
      "<class 'int'>\n",
      "Wavelength integrated Stokes were written\n",
      "10797.8193\n",
      "<class 'int'>\n",
      "Wavelength integrated Stokes were written\n",
      "10746.1631\n",
      "<class 'int'>\n",
      "Wavelength integrated Stokes were written\n",
      "10797.8193\n",
      "<class 'int'>\n",
      "Wavelength integrated Stokes were written\n",
      "10746.1631\n",
      "<class 'int'>\n",
      "Wavelength integrated Stokes were written\n",
      "10797.8193\n"
     ]
    }
   ],
   "source": [
    "#######Mixed  Coupling\n",
    "\n",
    "#for 90 deg pos; choosing pixel (108;41)\n",
    "kr=0\n",
    "s = cle_utils.out_params(simpath_out90_1,kr,no_rot_out) ## ls 1074\n",
    "print(s.wave)\n",
    "sa=np.array([s.data1[41,108],s.data2[41,108],s.data3[41,108],s.data4[41,108]])\n",
    "\n",
    "kr=1\n",
    "s = cle_utils.out_params(simpath_out90_1,kr,no_rot_out) ## ls 1079\n",
    "print(s.wave)\n",
    "sb=np.array([s.data1[41,108],s.data2[41,108],s.data3[41,108],s.data4[41,108]])\n",
    "s_90_mix=np.concatenate((sa,sb))\n",
    "##________________________________________________________________________________\n",
    "\n",
    "\n",
    "#for 60 deg pos; choosing pixel (108;28)\n",
    "kr=0\n",
    "s = cle_utils.out_params(simpath_out60_1,kr,no_rot_out) ## ls 1074\n",
    "print(s.wave)\n",
    "sa=np.array([s.data1[28,108],s.data2[28,108],s.data3[28,108],s.data4[28,108]])\n",
    "\n",
    "kr=1\n",
    "s = cle_utils.out_params(simpath_out60_1,kr,no_rot_out) ## ls 1079\n",
    "print(s.wave)\n",
    "sb=np.array([s.data1[28,108],s.data2[28,108],s.data3[28,108],s.data4[28,108]])\n",
    "s_60_mix=np.concatenate((sa,sb))\n",
    "##________________________________________________________________________________\n",
    "\n",
    "\n",
    "#for 125 deg pos; choosing pixel (108;41)\n",
    "kr=0\n",
    "s = cle_utils.out_params(simpath_out125_1,kr,no_rot_out) ## ls 1074\n",
    "print(s.wave)\n",
    "sa=np.array([s.data1[24,108],s.data2[24,108],s.data3[24,108],s.data4[24,108]])\n",
    "\n",
    "kr=1\n",
    "s = cle_utils.out_params(simpath_out125_1,kr,no_rot_out) ## ls 1079\n",
    "print(s.wave)\n",
    "sb=np.array([s.data1[24,108],s.data2[24,108],s.data3[24,108],s.data4[24,108]])\n",
    "s_125_mix=np.concatenate((sa,sb))\n"
   ]
  },
  {
   "cell_type": "code",
   "execution_count": 21,
   "metadata": {},
   "outputs": [
    {
     "name": "stdout",
     "output_type": "stream",
     "text": [
      "<class 'int'>\n",
      "Wavelength integrated Stokes were written\n",
      "10746.1631\n",
      "<class 'int'>\n",
      "Wavelength integrated Stokes were written\n",
      "10797.8193\n",
      "<class 'int'>\n",
      "Wavelength integrated Stokes were written\n",
      "10746.1631\n",
      "<class 'int'>\n",
      "Wavelength integrated Stokes were written\n",
      "10797.8193\n",
      "<class 'int'>\n",
      "Wavelength integrated Stokes were written\n",
      "10746.1631\n",
      "<class 'int'>\n",
      "Wavelength integrated Stokes were written\n",
      "10797.8193\n"
     ]
    }
   ],
   "source": [
    "#######Exttreme 2->1 Lange G value (~2.5)  Coupling\n",
    "\n",
    "#for 90 deg pos; choosing pixel (108;41)\n",
    "kr=0\n",
    "s = cle_utils.out_params(simpath_out90_2,kr,no_rot_out) ## ls 1074\n",
    "print(s.wave)\n",
    "sa=np.array([s.data1[41,108],s.data2[41,108],s.data3[41,108],s.data4[41,108]])\n",
    "\n",
    "kr=1\n",
    "s = cle_utils.out_params(simpath_out90_2,kr,no_rot_out) ## ls 1079\n",
    "print(s.wave)\n",
    "sb=np.array([s.data1[41,108],s.data2[41,108],s.data3[41,108],s.data4[41,108]])\n",
    "s_90_ext=np.concatenate((sa,sb))\n",
    "##________________________________________________________________________________\n",
    "\n",
    "\n",
    "#for 60 deg pos; choosing pixel (108;28)\n",
    "kr=0\n",
    "s = cle_utils.out_params(simpath_out60_2,kr,no_rot_out) ## ls 1074\n",
    "print(s.wave)\n",
    "sa=np.array([s.data1[28,108],s.data2[28,108],s.data3[28,108],s.data4[28,108]])\n",
    "\n",
    "kr=1\n",
    "s = cle_utils.out_params(simpath_out60_2,kr,no_rot_out) ## ls 1079\n",
    "print(s.wave)\n",
    "sb=np.array([s.data1[28,108],s.data2[28,108],s.data3[28,108],s.data4[28,108]])\n",
    "s_60_ext=np.concatenate((sa,sb))\n",
    "##________________________________________________________________________________\n",
    "\n",
    "\n",
    "#for 125 deg pos; choosing pixel (108;24)\n",
    "kr=0\n",
    "s = cle_utils.out_params(simpath_out125_2,kr,no_rot_out) ## ls 1074\n",
    "print(s.wave)\n",
    "sa=np.array([s.data1[24,108],s.data2[24,108],s.data3[24,108],s.data4[24,108]])\n",
    "\n",
    "kr=1\n",
    "s = cle_utils.out_params(simpath_out125_2,kr,no_rot_out) ## ls 1079\n",
    "print(s.wave)\n",
    "sb=np.array([s.data1[24,108],s.data2[24,108],s.data3[24,108],s.data4[24,108]])\n",
    "s_125_ext=np.concatenate((sa,sb))\n"
   ]
  },
  {
   "cell_type": "code",
   "execution_count": 22,
   "metadata": {},
   "outputs": [
    {
     "name": "stdout",
     "output_type": "stream",
     "text": [
      "LS Stokes vector 90: [ 2.788e+00 -2.410e-02  2.783e-03 -9.581e-04  2.110e+00 -5.816e-04\n",
      "  6.708e-05 -7.508e-04]\n",
      "LS Stokes vector 90 2atoms: [ 2.788e+00 -2.410e-02  2.783e-03 -9.581e-04  2.241e-01 -1.346e-03\n",
      "  1.553e-04 -7.872e-05]\n",
      "Mixed Stokes vector 90: [ 2.788e+00 -2.408e-02  2.781e-03 -9.576e-04  2.110e+00 -5.817e-04\n",
      "  6.709e-05 -7.174e-04]\n",
      "Large Lande Stokes vector 90: [ 2.788e+00 -2.408e-02  2.781e-03 -9.576e-04  2.110e+00 -5.817e-04\n",
      "  6.709e-05 -1.467e-03]\n",
      "LS Stokes vector 60: [ 2.663e+00 -2.277e-02  2.687e-03 -2.579e-03  1.948e+00 -5.431e-04\n",
      "  6.407e-05 -2.233e-03]\n",
      "Mixed Stokes vector 60: [ 2.663e+00 -2.276e-02  2.685e-03 -2.578e-03  1.948e+00 -5.432e-04\n",
      "  6.408e-05 -2.133e-03]\n",
      "Large Lande Stokes vector 90: [ 2.663e+00 -2.276e-02  2.685e-03 -2.578e-03  1.948e+00 -5.432e-04\n",
      "  6.408e-05 -4.366e-03]\n",
      "LS Stokes Vector 125: [ 3.074e+00 -1.670e-02  1.935e-03 -1.331e-03  2.299e+00 -4.266e-04\n",
      "  4.935e-05 -9.260e-04]\n",
      "Mixed Stokes Vector 125: [ 3.073e+00 -1.669e-02  1.933e-03 -1.331e-03  2.299e+00 -4.266e-04\n",
      "  4.935e-05 -8.848e-04]\n",
      "Large Lande Stokes vector 90: [ 3.073e+00 -1.669e-02  1.933e-03 -1.331e-03  2.299e+00 -4.266e-04\n",
      "  4.935e-05 -1.808e-03]\n"
     ]
    }
   ],
   "source": [
    "print('LS Stokes vector 90:',s_90_ls)\n",
    "print('LS Stokes vector 90 2atoms:',s_90_2atoms)\n",
    "print('Mixed Stokes vector 90:',s_90_mix)\n",
    "print('Large Lande Stokes vector 90:',s_90_ext)\n",
    "print('LS Stokes vector 60:',s_60_ls)\n",
    "print('Mixed Stokes vector 60:',s_60_mix)\n",
    "print('Large Lande Stokes vector 90:',s_60_ext)\n",
    "print('LS Stokes Vector 125:',s_125_ls)\n",
    "print('Mixed Stokes Vector 125:',s_125_mix)\n",
    "print('Large Lande Stokes vector 90:',s_125_ext)"
   ]
  },
  {
   "cell_type": "markdown",
   "metadata": {},
   "source": [
    "## Scaled down version of DBInvert to process these!"
   ]
  },
  {
   "cell_type": "code",
   "execution_count": 8,
   "metadata": {},
   "outputs": [],
   "source": [
    "# We only use the Fe XIII combination or Fe XIII vs Si X here\n",
    "## Only two line combinations are accepted\n",
    "\n",
    "## Controling parameters\n",
    "## number of lines to be used\n",
    "nuse=2 \n",
    "## switch for either two fe13 (nuse_comb=0) or fe13_1074+si10 (nuse_comb=1)\n",
    "nuse_comb=0\n",
    "\n",
    "#  the number of counts which correspond to the\n",
    "#  largest intensity in each of the nobs observations\n",
    "#  for example: counts = 1.e8 gives rms fluctuations 10^-4 * max(intensity)\n",
    "counts=1.e10\n",
    "## boolean variable to show the influences of photon count uncertainties on the fitting.\n",
    "fiterr=1\n",
    "\n",
    "## Number of db chi^2 fited solutions to presort.\n",
    "## This is also the maximum number of solutions that are displayed/saved\n",
    "partind=32\n",
    "\n",
    "## How far from the best chi^2 fit to accept and print solutions\n",
    "nind=10\n",
    "\n",
    "# to make pdf files in directory \"fitted\" (can be time consuming)\n",
    "iplot=0 \n",
    "\n"
   ]
  },
  {
   "cell_type": "markdown",
   "metadata": {},
   "source": [
    "#### DB file directories for each Lande calculation"
   ]
  },
  {
   "cell_type": "code",
   "execution_count": 10,
   "metadata": {},
   "outputs": [],
   "source": [
    "##Note:\n",
    "## The Fe XIII atom calculations contain 2 lines, \n",
    "## The Si IX and Si X calculations contain 1 line each.\n",
    "\n",
    "\n",
    "##standard db calculations:\n",
    "\n",
    "#d_dir='/home/alin/Documents/physics_prog/cle/test_db_small/fe13/'   ##(the very compact collage2020 database)\n",
    "#d_dir='/home/alin/Documents/physics_prog/cle/test_db_large'  ##(large database with mixed term atom)\n",
    "\n",
    "\n",
    "\n",
    "## Specific degeneracy check db calculations\n",
    "## height 1.001-1.489 R_sun\n",
    "## dx=0.05 dy=0.02 dphi=2deg dtheta=2degs\n",
    "\n",
    "#d_dir='/home/alin/Documents/physics_prog/cle/test_cle_degeneracy/db_deg_fe13_ls/'\n",
    "#d_dir='/home/alin/Documents/physics_prog/cle/test_cle_degeneracy/db_deg_fe13_mix/'\n",
    "#d_dir='/home/alin/Documents/physics_prog/cle/test_cle_degeneracy/db_deg_fe13_ex/'\n",
    "\n",
    "\n",
    "## Very fine db along y axis to check if problem is too ill-posed close to disk.\n",
    "## heigth 1.001-1.256 R_sun\n",
    "## dx=0.05 dy=0.003 dphi=2deg dtheta=2degs\n",
    "########################CLE-DB 2.0.0##################################################\n",
    "#d_dir='/home/alin/Documents/physics_prog/cle/test_cle_degeneracy/db200_deg_121_fe13_ls/'\n",
    "#d_dir='/home/alin/Documents/physics_prog/cle/test_cle_degeneracy/db200_deg_121_fe13_mix/'\n",
    "#d_dir='/home/alin/Documents/physics_prog/cle/test_cle_degeneracy/db200_deg_121_fe13_ex/'\n",
    "## also contains si10\n",
    "#d_dir2='/home/alin/Documents/physics_prog/cle/test_cle_degeneracy/db200_deg_121_si10_ls/'\n",
    "########################CLE-DB 2.0.1##################################################\n",
    "#d_dir='/home/alin/Documents/physics_prog/cle/test_cle_degeneracy/db201_deg_121_fe13_ls/'\n",
    "#d_dir='/home/alin/Documents/physics_prog/cle/test_cle_degeneracy/db201_deg_121_fe13_mix/'\n",
    "## list does not contain ex as it does not offer anything on top of mix\n",
    "## also contains si10\n",
    "#d_dir2='/home/alin/Documents/physics_prog/cle/test_cle_degeneracy/db201_deg_121_si10_ls/'\n",
    "#d_dir='/home/alin/Documents/physics_prog/cle/test_cle_degeneracy/db_201_fe13mix_multiB/' ## first multiB database\n",
    "########################CLE-DB 2.0.2##################################################\n",
    "d_dir='/home/alin/Documents/physics_prog/cle/test_cle_degeneracy/db202_deg_150_fe13/' # extreme lande database for the 3dipole simulation"
   ]
  },
  {
   "cell_type": "markdown",
   "metadata": {},
   "source": [
    "#### Fake observation files"
   ]
  },
  {
   "cell_type": "code",
   "execution_count": 26,
   "metadata": {},
   "outputs": [],
   "source": [
    "##rewrite the sobs array to a pixel of the user's choosing\n",
    "##Not normed; remember to norm in the separate function!\n",
    "    \n",
    "#sobs1=s_90_ls\n",
    "#sobs1=s_90_mix\n",
    "#sobs1=s_90_ext\n",
    "\n",
    "#sobs1=s_90_2atoms\n",
    "\n",
    "#sobs1=s_60_ls\n",
    "#sobs1=s_60_mix\n",
    "#sobs1=s_60_ext\n",
    "\n",
    "#sobs1=s_125_ls\n",
    "#sobs1=s_125_mix\n",
    "#sobs1=s_125_ext\n",
    "\n",
    "##for the 3dipole simulation D1 and D2 points\n",
    "sobs1=[ 2.77147984e+00, -1.30364644e-02, -8.49817523e-03, -5.08774743e-02, 1.90001667e+00, -3.30449505e-04, -2.13886508e-04, -7.47483540e-02] #D1\n",
    "sobs1=[ 2.72472332e+00, -1.47195132e-04, -2.54103877e-05, -1.67518594e-01, 1.67537050e+00, -4.83628247e-06, -8.17960103e-07, -2.43508440e-01] #D2\n"
   ]
  },
  {
   "cell_type": "code",
   "execution_count": 27,
   "metadata": {},
   "outputs": [
    {
     "name": "stdout",
     "output_type": "stream",
     "text": [
      "1.02\n"
     ]
    }
   ],
   "source": [
    "## We need to define the observation apparent height\n",
    "##from the x position of the pixels and the information in grid.dat\n",
    "## 0.8 is the start value for the y grid, 70 is the length size for the y domain (nx= 150 along 1.5 r_sun --> ny=70 along 0.7r_sun)\n",
    "yobs_0=0.8+(1.5-0.8)/70*41\n",
    "yobs_1=0.8+(1.5-0.8)/70*28\n",
    "yobs_2=0.8+(1.5-0.8)/70*24   \n",
    "\n",
    "##yobs for 3dipole simulation\n",
    "yobs_d1=1.11\n",
    "yobs_d2=1.02\n",
    "\n",
    "yobs=yobs_d2   ## choose based on situation for sobs ;0 is for 90, 1 is for 60 and 2 is for 125\n",
    "\n",
    "\n",
    "print(yobs)"
   ]
  },
  {
   "cell_type": "code",
   "execution_count": 28,
   "metadata": {},
   "outputs": [],
   "source": [
    "### test wether the database manipulation works. This vector should return entry 8553567 of the feXIII degeneracy(1.0-1.5 r_sun) database\n",
    "#sobs=np.array([ 1.00000000e+00, -8.59024096e-02,  1.35502615e-02, -8.89804214e-03, 9.32414979e-02, -1.01014557e-03,  1.59340580e-04, -1.63879195e-03]) *( 1. + err*np.random.normal(0.,1,f.shape) )\n",
    "#print(sobs)"
   ]
  },
  {
   "cell_type": "code",
   "execution_count": 29,
   "metadata": {},
   "outputs": [],
   "source": [
    "# # ##process the Fe XIII and/or the Si X Databases \n",
    "# # # ## CLE-DB 2.0.0 \n",
    "\n",
    "# importlib.reload(cle_utils) \n",
    "# if 1<= nuse <= 2:\n",
    "#     g, ned, ngx, nbphi, nbtheta, xed, gxmin,gxmax, bphimin, bphimax,\\\n",
    "#     bthetamin, bthetamax, bfield, nline, nq = cle_utils.readhdr(d_dir+'db.hdr')\n",
    "#     ## get the closest matching database entry\n",
    "#     filen=cle_utils.get_db_entry(yobs,d_dir) \n",
    "#     file = open(d_dir+filen, 'rb')\n",
    "#     print(\"height is: \",yobs,\"\\nDB height is: \",filen,file)\n",
    "\n",
    "#     #\n",
    "#     d = np.fromfile(file=file, dtype=np.float32)\n",
    "#     shape=[ned*ngx*nbphi*nbtheta,nline,5]\n",
    "#     data=np.reshape(d,shape)\n",
    "\n",
    "#     # get stokes data s and alignments\n",
    "#     #\n",
    "#     #align=data[:,:,4]\n",
    "\n",
    "#     # shape of the stokes data sdb (\"s database\")\n",
    "#     #  is (number of calcs, 4*nuse)  \n",
    "    \n",
    "#     s0=data[:,0,:4]\n",
    "\n",
    "#     if nuse == 1:   \n",
    "#         sdb1=np.array((s0))\n",
    "    \n",
    "#     if nuse == 2:\n",
    "#         if nuse_comb == 0:\n",
    "#             s1=np.array((data[:,1,:4]))\n",
    "        \n",
    "#         elif nuse_comb == 1:\n",
    "#             g, ned, ngx, nbphi, nbtheta, xed, gxmin,gxmax, bphimin, bphimax,\\\n",
    "#             bthetamin, bthetamax, bfield, nline, nq = cle_utils.readhdr(d_dir2+'db.hdr')\n",
    "#             ## get the closest matching database entry\n",
    "#             filen=cle_utils.get_db_entry(yobs,d_dir2) \n",
    "#             file = open(d_dir2+filen, 'rb')\n",
    "#             print(\"height is: \",yobs,\"\\nDB height is: \",filen,file)\n",
    "#             #\n",
    "#             d = np.fromfile(file=file, dtype=np.float32)\n",
    "#             shape=[ned*ngx*nbphi*nbtheta,nline,5]\n",
    "#             data=np.reshape(d,shape)\n",
    "#             s1=np.array((data[:,0,:4]))\n",
    "    \n",
    "#         else:\n",
    "#             print(\"line combinations option not understood\")\n",
    "    \n",
    "#         sdb1=np.append(s0,s1,axis=1)\n",
    "\n",
    "# else:\n",
    "#     print(\"Can only solve for one or two line combinations of observations\")\n",
    "\n",
    "# #print(sdb1[4422719,:],sdb1[4341571,:])\n",
    "# print(\"selected database is of the form:\", sdb1.shape)"
   ]
  },
  {
   "cell_type": "code",
   "execution_count": 30,
   "metadata": {},
   "outputs": [],
   "source": [
    "#process the Fe XIII and/or the Si X Databases \n",
    "# CLE-DB 2.0.1 \n",
    "\n",
    "# importlib.reload(cle_utils) \n",
    "# if 1<= nuse <= 2:\n",
    "#     g, ned, ngx, nbphi, nbtheta, nb, xed, gxmin,gxmax, bphimin, bphimax,\\\n",
    "#     bthetamin, bthetamax, bfield, nline, nq = cle_utils.readhdr201(d_dir+'db.hdr')\n",
    "#     ## get the closest matching database entry\n",
    "#     filen=cle_utils.get_db_entry(yobs,d_dir) \n",
    "#     file = open(d_dir+filen, 'rb')\n",
    "#     print(\"height is: \",yobs,\"\\nDB height is: \",filen,file,nb)\n",
    "\n",
    "#     #\n",
    "    \n",
    "#     shap=[4*nline,ned*ngx*nbphi*nbtheta*nb]\n",
    "#     s=np.empty(shap)\n",
    "#     #\n",
    "#     d = np.fromfile(file=file, dtype=np.float32)\n",
    "#     shape=[ned*ngx*nbphi*nbtheta*nb,nline,5]\n",
    "#     data=np.reshape(d,shape)\n",
    "\n",
    "#     # get stokes data s and alignments\n",
    "#     #\n",
    "#     #align=data[:,:,4]\n",
    "\n",
    "#     # shape of the stokes data sdb (\"s database\")\n",
    "#     #  is (number of calcs, 4*nuse)  \n",
    "    \n",
    "#     s0=data[:,0,:4]\n",
    "\n",
    "#     if nuse == 1:   \n",
    "#         sdb1=np.array((s0))\n",
    "    \n",
    "#     if nuse == 2:\n",
    "#         if nuse_comb == 0:\n",
    "#             s1=np.array((data[:,1,:4]))\n",
    "        \n",
    "#         elif nuse_comb == 1:\n",
    "#             g, ned, ngx, nbphi, nbtheta, nb, xed, gxmin,gxmax, bphimin, bphimax,\\\n",
    "#             bthetamin, bthetamax, bfield, nline, nq = cle_utils.readhdr201(d_dir2+'db.hdr')\n",
    "#             ## get the closest matching database entry\n",
    "#             filen=cle_utils.get_db_entry(yobs,d_dir2) \n",
    "#             file = open(d_dir2+filen, 'rb')\n",
    "#             print(\"height is: \",yobs,\"\\nDB height is: \",filen,file)\n",
    "#             #\n",
    "#             d = np.fromfile(file=file, dtype=np.float32)\n",
    "#             shape=[ned*ngx*nbphi*nbtheta,nline,5]\n",
    "#             data=np.reshape(d,shape)\n",
    "#             s1=np.array((data[:,0,:4]))\n",
    "    \n",
    "#         else:\n",
    "#             print(\"line combinations option not understood\")\n",
    "    \n",
    "#         sdb1=np.append(s0,s1,axis=1)\n",
    "\n",
    "# else:\n",
    "#     print(\"Can only solve for one or two line combinations of observations\")\n",
    "\n",
    "# #print(sdb1[4422719,:],sdb1[4341571,:])\n",
    "# print(\"selected database is of the form:\", sdb1.shape)"
   ]
  },
  {
   "cell_type": "code",
   "execution_count": 31,
   "metadata": {},
   "outputs": [
    {
     "name": "stdout",
     "output_type": "stream",
     "text": [
      "height is:  1.02 \n",
      "DB height is:  DB0020.DAT <_io.BufferedReader name='/home/alin/Documents/physics_prog/cle/test_cle_degeneracy/db202_deg_150_fe13/DB0020.DAT'>\n",
      "155 MB in database file\n",
      "DCOMPRESS: 0.269  SECONDS FOR WHERE\n",
      "DCOMPRESS: 0.733  SECONDS FOR EXP\n",
      "DCOMPRESS: 1.002  SECONDS TOTAL\n",
      "selected database is of the form: (9720000, 8)\n"
     ]
    }
   ],
   "source": [
    "# ##process the Fe XIII and/or the Si X Databases \n",
    "# # ## CLE-DB 2.0.2 \n",
    "\n",
    "importlib.reload(cle) \n",
    "if 1<= nuse <= 2:\n",
    "    g=cle.readhdr(d_dir+'db.hdr')\n",
    "    g, ned, ngx, nbphi, nbtheta, xed, gxmin,gxmax, bphimin, bphimax, \\\n",
    "    bthetamin, bthetamax, nline, nq  = cle.parsehdr(g)\n",
    "    ## get the closest matching database entry\n",
    "    filen=cle_utils.get_db_entry(yobs,d_dir) \n",
    "    file = open(d_dir+filen, 'rb')\n",
    "    print(\"height is: \",yobs,\"\\nDB height is: \",filen,file)\n",
    "\n",
    "    #\n",
    "    d=cle.dcompress(np.fromfile(file=file, dtype=np.int16))\n",
    "    shape=[ned*ngx*nbphi*nbtheta,nline,4]\n",
    "    data=np.reshape(d,shape)\n",
    "    \n",
    "    s0=data[:,0,:4]\n",
    "\n",
    "    if nuse == 1:   \n",
    "        sdb1=np.array((s0))\n",
    "    \n",
    "    if nuse == 2:\n",
    "        if nuse_comb == 0:\n",
    "            s1=np.array((data[:,1,:4]))\n",
    "        \n",
    "        elif nuse_comb == 1:\n",
    "            g, ned, ngx, nbphi, nbtheta, xed, gxmin,gxmax, bphimin, bphimax,\\\n",
    "            bthetamin, bthetamax, bfield, nline, nq = cle_utils.readhdr(d_dir2+'db.hdr')\n",
    "            ## get the closest matching database entry\n",
    "            filen=cle_utils.get_db_entry(yobs,d_dir2) \n",
    "            file = open(d_dir2+filen, 'rb')\n",
    "            print(\"height is: \",yobs,\"\\nDB height is: \",filen,file)\n",
    "            #\n",
    "            d = np.fromfile(file=file, dtype=np.float32)\n",
    "            shape=[ned*ngx*nbphi*nbtheta,nline,5]\n",
    "            data=np.reshape(d,shape)\n",
    "            s1=np.array((data[:,0,:4]))\n",
    "    \n",
    "        else:\n",
    "            print(\"line combinations option not understood\")\n",
    "    \n",
    "        sdb1=np.append(s0,s1,axis=1)\n",
    "\n",
    "else:\n",
    "    print(\"Can only solve for one or two line combinations of observations\")\n",
    "\n",
    "#print(sdb1[4422719,:],sdb1[4341571,:])\n",
    "print(\"selected database is of the form:\", sdb1.shape)"
   ]
  },
  {
   "cell_type": "code",
   "execution_count": 32,
   "metadata": {},
   "outputs": [],
   "source": [
    "### scale both the database and observation \n",
    "\n",
    "#\n",
    "# Now, re-scale qu and v by fq and fv to make s roughly (1,1,1,1)\n",
    "# accordingly, the noise magnitudes must be scaled by the same factors:\n",
    "#  Note: this tends to change only the chi2 values by a single multiplier\n",
    "#  thereby not affecting the ordering of the chi2\n",
    "\n",
    "#sobs1=sdb1[302,:]                  ####fake an observation\n",
    "importlib.reload(cle_utils)       ### to parse changes on the imported module\n",
    "sobs,sdb,rms = cle_utils.scale_stokes(sobs1,sdb1,nuse,counts)\n",
    "\n",
    "\n",
    "#print(sobs1)\n",
    "#print(sobs)\n",
    "#print(sdb)\n",
    "#print(np.max(sdb1[:,3]/sdb1[:,0]),np.min(sdb1[:,3]/sdb1[:,0]))\n",
    "\n",
    "#print(0.99**2+0.3**2+0.09**2+0.0001**2+0.48**2+0.1**2+0.004**2+0.00005**2,0.000098)\n",
    "#print(sdb1[295187,:])\n",
    "#print(rms) \n",
    "# plt.figure()\n",
    "# plt.plot(sdb1[:,5])\n",
    "# plt.plot(sdb1[:,6])\n",
    "# [ 6.6671162e-09 -9.2859653e-14 -1.1470989e-13 -5.9653501e-14 3.5679473e-09 -1.4855947e-14 -1.8351609e-14 -3.2077880e-14]LS\n",
    "#[ 6.6673191e-09 -9.2810681e-14 -1.1464938e-13 -5.9742684e-14 3.5680743e-09 -1.4859441e-14 -1.8355921e-14 -3.0707174e-14] MIX\n",
    "#print(-5.9653501e-14/6.6671162e-09, -3.2077880e-14/3.5679473e-09)\n",
    "#print(-5.9742684e-14/6.6673191e-09,-3.0707174e-14/3.5680743e-09)"
   ]
  },
  {
   "cell_type": "code",
   "execution_count": 33,
   "metadata": {},
   "outputs": [],
   "source": [
    "## statistics of chi^2 value versus the photon counts used.\n",
    "# countchi=np.zeros(14)\n",
    "# countchi[0] =np.sum( (sdb1[302,:]/np.max(sdb1[302,:])-sdb1[1954941,:]/np.max(sdb1[1954941,:]))**2)/(sobs1.shape[0])   ##counts e^1\n",
    "# countchi[1] =np.sum( (sdb1[302,:]/np.max(sdb1[302,:])-sdb1[1204953,:]/np.max(sdb1[1204953,:]))**2)/(sobs1.shape[0])  #1204953\n",
    "# countchi[2] =np.sum( (sdb1[302,:]/np.max(sdb1[302,:])-sdb1[1946747,:]/np.max(sdb1[1946747,:]))**2)/(sobs1.shape[0])\n",
    "# countchi[3] =np.sum( (sdb1[302,:]/np.max(sdb1[302,:])-sdb1[1063755,:]/np.max(sdb1[1063755,:]))**2)/(sobs1.shape[0])\n",
    "# countchi[4] =np.sum( (sdb1[302,:]/np.max(sdb1[302,:])-sdb1[15810,:]/np.max(sdb1[15810,:]))**2)/(sobs1.shape[0])\n",
    "# countchi[5] =np.sum( (sdb1[302,:]/np.max(sdb1[302,:])-sdb1[9436,:]/np.max(sdb1[9436,:]))**2)/(sobs1.shape[0])        ##counts e^6\n",
    "# countchi[6] =np.sum( (sdb1[302,:]/np.max(sdb1[302,:])-sdb1[1052689,:]/np.max(sdb1[1052689,:]))**2)/(sobs1.shape[0])\n",
    "# countchi[7] =np.sum( (sdb1[302,:]/np.max(sdb1[302,:])-sdb1[1879424,:]/np.max(sdb1[1879424,:]))**2)/(sobs1.shape[0])\n",
    "# countchi[8] =np.sum( (sdb1[302,:]/np.max(sdb1[302,:])-sdb1[393,:]/np.max(sdb1[393,:]))**2)/(sobs1.shape[0])\n",
    "# countchi[9] =np.sum( (sdb1[302,:]/np.max(sdb1[302,:])-sdb1[301,:]/np.max(sdb1[301,:]))**2)/(sobs1.shape[0])     ##counts e^10\n",
    "# countchi[10]=np.sum( (sdb1[302,:]/np.max(sdb1[302,:])-sdb1[302,:]/np.max(sdb1[302,:]))**2)/(sobs1.shape[0])+0.3e-10\n",
    "# countchi[11]=np.sum( (sdb1[302,:]/np.max(sdb1[302,:])-sdb1[302,:]/np.max(sdb1[302,:]))**2)/(sobs1.shape[0])+0.3e-10\n",
    "# countchi[12]=np.sum( (sdb1[302,:]/np.max(sdb1[302,:])-sdb1[302,:]/np.max(sdb1[302,:]))**2)/(sobs1.shape[0])+0.3e-10\n",
    "# countchi[13]=np.sum( (sdb1[302,:]/np.max(sdb1[302,:])-sdb1[302,:]/np.max(sdb1[302,:]))**2)/(sobs1.shape[0])+0.3e-10   ##counts e^14\n",
    "\n",
    "# plt.figure()\n",
    "# cou=np.array(([1e1,1e2,1e3,1e4,1e5,1e6,1e7,1e8,1e9,1e10,1e11,1e12,1e13,1e14]))\n",
    "# plt.plot(cou,np.log(countchi))\n",
    "# plt.yscale('symlog')\n",
    "# plt.xscale('log')\n",
    "# plt.xlabel(\"Counts\")\n",
    "# plt.ylabel(\"Log $\\chi^2$\")\n",
    "# #plt.ylim([-1e-19,1e-3])\n",
    "# print(countchi)"
   ]
  },
  {
   "cell_type": "code",
   "execution_count": 34,
   "metadata": {},
   "outputs": [],
   "source": [
    "## check the magnetic field strength in the database and obs\n",
    "## see the additional notebook that checks this!"
   ]
  },
  {
   "cell_type": "code",
   "execution_count": 35,
   "metadata": {},
   "outputs": [
    {
     "name": "stdout",
     "output_type": "stream",
     "text": [
      "(9720000, 8) (9720000, 8)\n",
      "best s:\n",
      " 5945174 [ 1.0000e+00 -4.3276e+00  3.2557e+01 -9.7797e-04  6.1448e-01 -4.8542e-01\n",
      "  3.6519e+00 -1.1798e-03] \n",
      " 6707116 [ 1.0000e+00 -4.3276e+00  3.2557e+01 -9.7797e-04  6.1448e-01 -4.8542e-01\n",
      "  3.6519e+00 -1.1798e-03]\n",
      "OBS s:\n",
      " [ 1.     -0.5835  0.15   -0.6148  0.6149 -0.214   2.5469 -0.8938]\n",
      "Calculation time: 0.75  seconds\n"
     ]
    }
   ],
   "source": [
    "##fit the database to your Stokes FeXIII pair\n",
    "start=time.time()\n",
    "\n",
    "#\n",
    "nc=sobs.shape[0]\n",
    "x=sobs\n",
    "\n",
    "#1.    (Im - Io)^2 + (Qm - Qo)^2 + (Um - Uo)^2 +(Vm - Vo)^2\n",
    "dif=(sdb-x)\n",
    "if fiterr == 0:   ##don't include the rms in the chi2 fitting\n",
    "    sdif=dif*dif\n",
    "else:\n",
    "    sdif=dif*dif/rms/rms\n",
    "  \n",
    "chi2 = np.sum(sdif, axis=1)/(nc-1)\n",
    "print(dif.shape,sdif.shape)\n",
    "\n",
    "#  Here is a minimal search algorithm- a mere partition and then sorting of chi2\n",
    "#\n",
    "ind = np.argpartition(chi2, partind)[:partind]\n",
    "asrt= ind[np.argsort(chi2[ind])]\n",
    "#\n",
    "\n",
    "\n",
    "firstchi2=chi2[asrt[0]]\n",
    "si=0\n",
    "ix=asrt[si]\n",
    "print(\"best s:\\n\",ix,sdb[ix,:],\"\\n\",asrt[1],sdb[asrt[1],:])\n",
    "\n",
    "#print(\"other s\",sdb_a[512,ix,:])\n",
    "print(\"OBS s:\\n\",x)\n",
    "dt= \"{:3.2f}\".format(time.time()-start)\n",
    "print(\"Calculation time:\",dt,' seconds')\n"
   ]
  },
  {
   "cell_type": "code",
   "execution_count": 139,
   "metadata": {},
   "outputs": [],
   "source": [
    "\n",
    "# fig, plots1 = plt.subplots(nrows=1, ncols=2, figsize=(8, 6))\n",
    "# plots1[0].plot(chi2)\n",
    "# plots1[0].set_yscale('log')\n",
    "# plots1[1].hist(chi2,bins=1000);"
   ]
  },
  {
   "cell_type": "code",
   "execution_count": 94,
   "metadata": {},
   "outputs": [
    {
     "data": {
      "application/vnd.jupyter.widget-view+json": {
       "model_id": "15d549ba115a49cb9e6ba09127718e67",
       "version_major": 2,
       "version_minor": 0
      },
      "text/plain": [
       "Canvas(toolbar=Toolbar(toolitems=[('Home', 'Reset original view', 'home', 'home'), ('Back', 'Back to previous …"
      ]
     },
     "metadata": {},
     "output_type": "display_data"
    }
   ],
   "source": [
    "# plt.figure()\n",
    "# plt.plot(chi2)\n",
    "# #plt.ylim([1e-2,4e4])\n",
    "# #plt.ylim([1e2,4e10])\n",
    "# # plt.yscale('log')# \n",
    "# plt.xlabel(\"Database entry\")\n",
    "# plt.ylabel(\"Log $\\chi^2$\")\n",
    "# plt.annotate(\"Fe XIII 1074nm and 1079nm line pair\",xy=[1e5,2e4])\n",
    "# plt.annotate(\"Mixed LS+jj coupling scheme\",xy=[1e5,1e4])\n",
    "# plt.annotate(\"Photon counts ~10$^{11}$\",xy=[1e5,0.5e4])\n",
    "# plt.tick_params(axis=\"both\",direction=\"in\",which=\"both\")"
   ]
  },
  {
   "cell_type": "code",
   "execution_count": 36,
   "metadata": {},
   "outputs": [
    {
     "name": "stdout",
     "output_type": "stream",
     "text": [
      "      O       C      chi2         Ne        y         x       phi      theta       |B|     POS AZ   LOS THETA\n",
      "      0  5945174   +1.68e+07    +8.11     +1.02     -1.20     +6.21     +1.55     +1.00   -75.88     +4.15\n",
      "      0  6707116   +1.68e+07    +8.05     +1.02     +1.25     +0.11     +1.62     +1.00  +116.76     +6.75\n",
      "      0  6707114   +1.68e+07    +8.05     +1.02     +1.25     +0.11     +1.55     +1.00   +80.47     +6.12\n",
      "      0  5945176   +1.68e+07    +8.11     +1.02     -1.20     +6.21     +1.62     +1.00  -127.07     +5.04\n",
      "      0  6301845   +1.68e+07    +9.60     +1.02     -0.03     +0.00     +1.59     +1.00  +180.00     +1.01\n",
      "      0  6334245   +1.68e+07    +9.59     +1.02     +0.08     +0.00     +1.59     +1.00  +180.00     +1.01\n",
      "      0  6301844   +1.68e+07    +9.60     +1.02     -0.03     +0.00     +1.55     +1.00    +0.00     +1.01\n",
      "      0  6334244   +1.68e+07    +9.59     +1.02     +0.08     +0.00     +1.55     +1.00    +0.00     +1.01\n",
      "      0  6334246   +1.68e+07    +9.59     +1.02     +0.08     +0.00     +1.62     +1.00  +180.00     +3.03\n",
      "      0  6301846   +1.68e+07    +9.60     +1.02     -0.03     +0.00     +1.62     +1.00  +180.00     +3.03\n",
      "      0  6334335   +1.68e+07    +9.59     +1.02     +0.08     +0.04     +1.59     +1.00  +116.70     +2.25\n",
      "      0  6317955   +1.68e+07    +9.60     +1.02     -0.03     +6.28     +1.59     +1.00  -180.00     +1.01\n",
      "      0  6350355   +1.68e+07    +9.59     +1.02     +0.08     +6.28     +1.59     +1.00  -180.00     +1.01\n",
      "      0  6301935   +1.68e+07    +9.60     +1.02     -0.03     +0.04     +1.59     +1.00  +116.70     +2.25\n",
      "      0  6301934   +1.68e+07    +9.60     +1.02     -0.03     +0.04     +1.55     +1.00   +63.30     +2.25\n",
      "      0  6350356   +1.68e+07    +9.59     +1.02     +0.08     +6.28     +1.62     +1.00  -180.00     +3.03\n",
      "      0  6317956   +1.68e+07    +9.60     +1.02     -0.03     +6.28     +1.62     +1.00  -180.00     +3.03\n",
      "      0  6334334   +1.68e+07    +9.59     +1.02     +0.08     +0.04     +1.55     +1.00   +63.30     +2.25\n",
      "      0  6317954   +1.68e+07    +9.60     +1.02     -0.03     +6.28     +1.55     +1.00    -0.00     +1.01\n",
      "      0  6334336   +1.68e+07    +9.59     +1.02     +0.08     +0.04     +1.62     +1.00  +146.49     +3.64\n",
      "      0  6301936   +1.68e+07    +9.60     +1.02     -0.03     +0.04     +1.62     +1.00  +146.49     +3.64\n",
      "      0  6350354   +1.68e+07    +9.59     +1.02     +0.08     +6.28     +1.55     +1.00    -0.00     +1.01\n",
      "      0  6301843   +1.68e+07    +9.60     +1.02     -0.03     +0.00     +1.52     +1.00    +0.00     +3.03\n",
      "      0  6334247   +1.68e+07    +9.59     +1.02     +0.08     +0.00     +1.66     +1.00  +180.00     +5.06\n",
      "      0  6334243   +1.68e+07    +9.59     +1.02     +0.08     +0.00     +1.52     +1.00    +0.00     +3.03\n",
      "      0  6301847   +1.68e+07    +9.60     +1.02     -0.03     +0.00     +1.66     +1.00  +180.00     +5.06\n",
      "      0  6317865   +1.68e+07    +9.60     +1.02     -0.03     +6.25     +1.59     +1.00  -116.70     +2.25\n",
      "      0  6334425   +1.68e+07    +9.59     +1.02     +0.08     +0.07     +1.59     +1.00  +104.12     +4.15\n",
      "      0  6350265   +1.68e+07    +9.59     +1.02     +0.08     +6.25     +1.59     +1.00  -116.70     +2.25\n",
      "      0  6302025   +1.68e+07    +9.60     +1.02     -0.03     +0.07     +1.59     +1.00  +104.12     +4.15\n",
      "      0  6707025   +1.68e+07    +8.05     +1.02     +1.25     +0.07     +1.59     +1.00  +104.12     +4.15\n",
      "      0  5945265   +1.68e+07    +8.11     +1.02     -1.20     +6.25     +1.59     +1.00  -116.70     +2.25\n"
     ]
    }
   ],
   "source": [
    "outdir='../test_cle_degeneracy/fitted/'\n",
    "oindex1=0\n",
    "os.system(\"rm \"+outdir+str(oindex1)+\".txt\")\n",
    "Fobj = open(outdir+str(oindex1)+\".txt\",\"a\")\n",
    "Fobj.write(\"      O      C     chi2         Ne         y        x       phi      theta       |B| POS AZ  LOS THETA\")\n",
    "Fobj.write(\"\\n\")\n",
    "print(\"      O       C      chi2         Ne        y         x       phi      theta       |B|     POS AZ   LOS THETA\")\n",
    "\n",
    "if(iplot > 0): \n",
    "    fig, (ax1, ax2) = plt.subplots(2, 1,figsize=(10,10))\n",
    "    lab=['I','Q','U','V']\n",
    "    lab+=lab\n",
    "    lab+=lab\n",
    "\n",
    "\n",
    "si=0\n",
    "ix=asrt[si]\n",
    "\n",
    "s2d=180./np.pi\n",
    "\n",
    "while ((chi2[ix]/firstchi2) < nind and (si <= partind-1)):\n",
    "    ix=asrt[si]\n",
    "    dd=chi2[ix]\n",
    "    ddi= \"{:0.2e}\".format(dd)\n",
    "    if(dd/firstchi2 < nind):\n",
    "        np.savetxt(Fobj,[oindex1,ix], fmt='%7i', newline=\" \")\n",
    "        np.savetxt(Fobj,[chi2[ix]], fmt='%+.2e', newline=\" \")\n",
    "        np.savetxt(Fobj,[cle.physa(ix,yobs,g,1)],fmt='%+9.2f', newline=\" \")\n",
    "        Fobj.write(\"\\n\")\n",
    "        a1,a2,a3,a4,a5,a6=cle.physa(ix,yobs,g,1)\n",
    "        print('%7i  %7i  '%(oindex1,ix),end=\" \")\n",
    "        print('%+.2e'%chi2[ix],end=\"\")\n",
    "        print('%+9.2f %+9.2f %+9.2f %+9.2f %+9.2f %+9.2f'%(a1,a2,a3,a4,a5,a6),end=\"\")\n",
    "        los=np.arccos(np.sin(a5)*np.cos(a4))*s2d\n",
    "        pos=np.arctan2(np.sin(a5)*np.sin(a4),np.cos(a5))*s2d\n",
    "        print('%+9.2f %+9.2f'%(pos,los))\n",
    "        #np.savetxt(Fobj, [pos,los],fmt='%+7.2f', newline=\" \")\n",
    "    if(iplot > 0):\n",
    "        text=\"fit=\"+str(ix)+\" $\\chi^2$=\"+ddi\n",
    "        if(si ==0):\n",
    "            text=\"Obs sp=\"+str(oindex1)\n",
    "            x1=np.copy(x)\n",
    "            if (sdb.shape[1] >8 ): \n",
    "                x1[4:8]=x1[4:8]*mx1/(x1[4]*mx1) \n",
    "                x1[8:12]=x1[8:12]*mx2/(x1[8]*mx2)\n",
    "            ax1.plot(x1,'.',label=text)\n",
    "        if(si == 1):   \n",
    "            text= \"fit=\"+str(ix)+\" $\\chi^2$=\"+ddi\n",
    "            sdb1=np.copy(sdb[ix,:]) \n",
    "            if (sdb.shape[1] >8 ):        \n",
    "                sdb1[4:8]=sdb1[4:8]*mx1/(sdb1[4]*mx1) \n",
    "                sdb1[8:12]=sdb1[8:12]*mx2/(sdb1[8]*mx2)\n",
    "            ax1.plot(sdb1,'.',label=text)\n",
    "            ax1.errorbar(np.arange(nc),x,yerr=rms,fmt='none')\n",
    "            ax1.legend(fontsize=7)\n",
    "            ax1.set_xticks(np.arange(sdb.shape[1]))\n",
    "            ax1.set_xticklabels(lab[:sdb.shape[1]])\n",
    "            ax1.text(x=0.5,y=0.9,s=\"Fe ${XIII}$ 1074.7nm\",size=7.5)\n",
    "            if (sdb.shape[1] >4 ):\n",
    "                ax1.axvline( x=3.5, ymin=-0.25, ymax=1)\n",
    "                ax1.text(x=4.5,y=0.9,s=\"Fe ${XIII}$ 1079.8nm\",size=7.5)\n",
    "            if (sdb.shape[1] >8 ):\n",
    "                ax1.axvline( x=7.5, ymin=-0.25, ymax=1)\n",
    "                ax1.text(x=8.5,y=0.9,s=\"Si ${IX}$ 3934.3nm\",size=7.5)\n",
    "        if(si ==0): \n",
    "            ax2.plot(dif[ix,:],'g.-',label=\"(O-N)/$\\sigma$\")\n",
    "            ax2.legend(fontsize=7)\n",
    "            ax2.set_xticks(np.arange(sdb.shape[1]))\n",
    "            ax2.set_xticklabels(lab)\n",
    "            ax2.text(x=0.5,y=0.9,s=\"Fe ${XIII}$ 1074.7nm\",size=7.5)   \n",
    "            if (sdb.shape[1] >4 ):\n",
    "                ax2.axvline( x=3.5, ymin=-0.25, ymax=1)\n",
    "                ax2.text(x=4.5,y=0.9,s=\"Fe ${XIII}$ 1079.8nm\",size=7.5)\n",
    "            if (sdb.shape[1] >8 ):\n",
    "                ax2.axvline( x=7.5, ymin=-0.25, ymax=1)\n",
    "                ax2.text(x=8.5,y=0.9,s=\"Si ${IX}$ 3934.3nm\",size=7.5)\n",
    "    si=si+1\n",
    "    \n",
    "\n",
    "# a1,a2,a3,a4,a5,a6=physa(oindex1,yobs,g1)     \n",
    "# print('\\x1b[31mObservation Physics:        %+9.2f %+9.2f %+9.2f %+9.2f %+9.2f %+9.2f\\x1b[0m'%(a1,a2,a3,a4,a5,a6))   \n",
    "# Fobj.write(\"Observation: \\n\")         \n",
    "# np.savetxt(Fobj,[0000,0000], fmt='%7i', newline=\" \")\n",
    "# np.savetxt(Fobj,[0000], fmt='%7i', newline=\" \")\n",
    "# np.savetxt(Fobj,[physa(oindex1,yobs,g1) ],fmt='%+9.2f', newline=\" \")\n",
    "# Fobj.write(\"\\n\")\n",
    "# if(iplot > 0):\n",
    "#     filen=outdir+'fit'+str(oindex1)\n",
    "#     print(\"Saving \", filen+\".pdf\")\n",
    "#     savefig(filen+\".pdf\")\n",
    "#     #plt.close()\n",
    "#\n",
    "Fobj.close()"
   ]
  },
  {
   "cell_type": "markdown",
   "metadata": {},
   "source": [
    "### Read an atmos file from DB\n",
    "\n",
    "This has the purpose to understand what a 1G field strength pixel means in terms of CLE\n",
    "Assuming the bx by and bz components are in maxwell units, e.g. 1000 ~1G"
   ]
  },
  {
   "cell_type": "code",
   "execution_count": 35,
   "metadata": {},
   "outputs": [
    {
     "name": "stdout",
     "output_type": "stream",
     "text": [
      "Length of buffer is 302474\n",
      "(15, 24, 15)\n"
     ]
    }
   ],
   "source": [
    "##put everything from ATMOS in a variable\n",
    "atm=cle_utils.atmos_params('/home/alin/Documents/physics_prog/cle/test_cle_degeneracy/db_test_ATMOS/ATMOS')\n",
    "\n",
    "print(np.shape(atm.bx))\n",
    "\n",
    "\n",
    "#Integrated profiles and magnetic field components\n",
    "bx1=np.sum(atm.bx,axis=0)\n",
    "by1=np.sum(atm.by,axis=0)\n",
    "bz1=np.sum(atm.bz,axis=0)\n",
    "nne1=np.sum(atm.nne,axis=0)\n",
    "te1=np.average(atm.te,axis=0)\n",
    "v1=np.average(atm.v,axis=0)\n",
    "vt1=np.average(atm.vt,axis=0)\n",
    "\n",
    "btot=np.sqrt(bx1*bx1+by1*by1+bz1*bz1)"
   ]
  },
  {
   "cell_type": "code",
   "execution_count": 36,
   "metadata": {},
   "outputs": [
    {
     "data": {
      "application/vnd.jupyter.widget-view+json": {
       "model_id": "061c073f7065498f8ec072cc81d0685a",
       "version_major": 2,
       "version_minor": 0
      },
      "text/plain": [
       "Canvas(toolbar=Toolbar(toolitems=[('Home', 'Reset original view', 'home', 'home'), ('Back', 'Back to previous …"
      ]
     },
     "metadata": {},
     "output_type": "display_data"
    },
    {
     "data": {
      "text/plain": [
       "<matplotlib.image.AxesImage at 0x7f755a7c2ef0>"
      ]
     },
     "execution_count": 36,
     "metadata": {},
     "output_type": "execute_result"
    }
   ],
   "source": [
    "plt.figure()\n",
    "plt.imshow(btot.T,aspect=0.5)\n",
    "#plt.imshow(vt1,aspect=0.5)\n",
    "# for i in range(0,32):\n",
    "#     for j in range(0,14):\n",
    "#         for k in range(0,6):\n",
    "#             if (atm.bx[i,j,k] != 0):\n",
    "#                 print(i,j,k)"
   ]
  },
  {
   "cell_type": "code",
   "execution_count": 37,
   "metadata": {},
   "outputs": [
    {
     "data": {
      "application/vnd.jupyter.widget-view+json": {
       "model_id": "93e6d8e5dc5244d0984d3425985bb726",
       "version_major": 2,
       "version_minor": 0
      },
      "text/plain": [
       "Canvas(toolbar=Toolbar(toolitems=[('Home', 'Reset original view', 'home', 'home'), ('Back', 'Back to previous …"
      ]
     },
     "metadata": {},
     "output_type": "display_data"
    },
    {
     "data": {
      "text/plain": [
       "<matplotlib.image.AxesImage at 0x7f75a5987fd0>"
      ]
     },
     "execution_count": 37,
     "metadata": {},
     "output_type": "execute_result"
    }
   ],
   "source": [
    "### s = cle_utils.out_params('/home/alin/Documents/physics_prog/cle/test_cle_degeneracy/db_test_ATMOS/OUT',kr_out,no_rot_out)\n",
    "plt.figure()\n",
    "plt.imshow(s.data4.T,aspect=0.5)"
   ]
  },
  {
   "cell_type": "markdown",
   "metadata": {},
   "source": [
    "###We now need to address the field scaling to compare with the database."
   ]
  },
  {
   "cell_type": "code",
   "execution_count": 38,
   "metadata": {},
   "outputs": [
    {
     "name": "stdout",
     "output_type": "stream",
     "text": [
      "(24, 15)\n",
      "1006.5749575302418\n"
     ]
    }
   ],
   "source": [
    "## the 4 pixels that correspond to a 1G field!\n",
    "print(np.shape(btot))\n",
    "print(np.sum(btot[18:20,4:6])/4)"
   ]
  },
  {
   "cell_type": "code",
   "execution_count": 39,
   "metadata": {},
   "outputs": [],
   "source": [
    "## lets compute the b_los from the Stokes information"
   ]
  },
  {
   "cell_type": "code",
   "execution_count": 40,
   "metadata": {},
   "outputs": [
    {
     "ename": "NameError",
     "evalue": "name 'sdb2' is not defined",
     "output_type": "error",
     "traceback": [
      "\u001b[0;31m---------------------------------------------------------------------------\u001b[0m",
      "\u001b[0;31mNameError\u001b[0m                                 Traceback (most recent call last)",
      "\u001b[0;32m<ipython-input-40-475fdb109035>\u001b[0m in \u001b[0;36m<module>\u001b[0;34m\u001b[0m\n\u001b[1;32m     15\u001b[0m \u001b[0;31m#dlmd_d = omegat*alamb*1e-8/cc               #Doppler width in frequency units!   1e-8 -->conversion A to cm\u001b[0m\u001b[0;34m\u001b[0m\u001b[0;34m\u001b[0m\u001b[0;34m\u001b[0m\u001b[0m\n\u001b[1;32m     16\u001b[0m \u001b[0mdlmd_d\u001b[0m \u001b[0;34m=\u001b[0m \u001b[0momegat\u001b[0m\u001b[0;34m/\u001b[0m\u001b[0;34m(\u001b[0m\u001b[0;36m1e-8\u001b[0m\u001b[0;34m*\u001b[0m \u001b[0malamb\u001b[0m\u001b[0;34m)\u001b[0m               \u001b[0;31m#Doppler width in wavelength units!  1e-8 -->conversion A to cm\u001b[0m\u001b[0;34m\u001b[0m\u001b[0;34m\u001b[0m\u001b[0m\n\u001b[0;32m---> 17\u001b[0;31m \u001b[0mSV\u001b[0m     \u001b[0;34m=\u001b[0m \u001b[0msdb2\u001b[0m\u001b[0;34m[\u001b[0m\u001b[0;36m7\u001b[0m\u001b[0;34m]\u001b[0m\u001b[0;34m\u001b[0m\u001b[0;34m\u001b[0m\u001b[0m\n\u001b[0m\u001b[1;32m     18\u001b[0m \u001b[0mSI\u001b[0m     \u001b[0;34m=\u001b[0m \u001b[0msdb2\u001b[0m\u001b[0;34m[\u001b[0m\u001b[0;36m4\u001b[0m\u001b[0;34m]\u001b[0m\u001b[0;34m\u001b[0m\u001b[0;34m\u001b[0m\u001b[0m\n\u001b[1;32m     19\u001b[0m \u001b[0mSQ\u001b[0m     \u001b[0;34m=\u001b[0m \u001b[0msdb2\u001b[0m\u001b[0;34m[\u001b[0m\u001b[0;36m5\u001b[0m\u001b[0;34m]\u001b[0m\u001b[0;34m\u001b[0m\u001b[0;34m\u001b[0m\u001b[0m\n",
      "\u001b[0;31mNameError\u001b[0m: name 'sdb2' is not defined"
     ]
    }
   ],
   "source": [
    "\n",
    "pc= 6.6261e-27 ##plank  cm^2 g s^-1\n",
    "bm=9.274e-21 ##bohr magneton erg G^-1        \n",
    "cc=2.99792458e10 #cm s-1 \n",
    "me= 9.1095e-28   #g\n",
    "ee=4.8032e-10    #esu  g1/2 cm3/2 s−1\n",
    "kb=1.38064852e-16  #erg/K\n",
    "te= 10**6.22\n",
    "mion=55.845*1.672621E-24  #  g    for FeXIII \n",
    "omegat=math.sqrt(2*kb*te/mion)     #thermal velocity without microturbulence\n",
    "\n",
    "\n",
    "\n",
    "landeg = 1.5\n",
    "alamb  = 10746.8\n",
    "#dlmd_d = omegat*alamb*1e-8/cc               #Doppler width in frequency units!   1e-8 -->conversion A to cm\n",
    "dlmd_d = omegat/(1e-8* alamb)               #Doppler width in wavelength units!  1e-8 -->conversion A to cm\n",
    "SV     = sdb2[7]\n",
    "SI     = sdb2[4]\n",
    "SQ     = sdb2[5]\n",
    "SU     = sdb2[6]\n",
    "L      = np.sqrt(SQ**2+SU**2)\n",
    "F      = 0\n",
    "sin2theta = 0\n",
    "\n",
    " ## only needed if you use different atom combinations\n",
    "F1      = 0.0   ## Fe XIII any line\n",
    "F2      = 0.5   ## Si X ; Dima & Schad 2020\n",
    "SV1     = sdb2[3]\n",
    "SV2     = sdb2[7]\n",
    "SI1     = sdb2[0]\n",
    "SI2     = sdb2[4]\n",
    "SQ1     = sdb2[1]\n",
    "SQ2     = sdb2[5]\n",
    "SU1     = sdb2[2]\n",
    "SU2     = sdb2[6]\n",
    "L1      = np.sqrt(SQ1**2+SU1**2)\n",
    "L2      = np.sqrt(SQ2**2+SU2**2)\n",
    "landeg1 = 1.5\n",
    "landeg2 = 1.5\n",
    "sin2theta=(2/3)*( (F1*L1*SV2) - (F2*L2*SV1) )/ (landeg2*SV1*(SI2+L2) - landeg1*SV2*(SI2+L2))\n",
    "##-----------------------------------------------------\n",
    "\n",
    "blos_d=(pc/bm) * (-SV) / ((SI+L)*landeg + (2/3) * F2 * (L/sin2theta))  # eq 14 Dima & Schad 2020 LOS magnetic field.; CGS\n",
    "blos_p= -8*math.pi*me*cc*SV*dlmd_d/(3*(SI+L)*ee)   #eq 14 Plowman, 2014: LOS magnetic field |B|cos(theta); units are cgs \n",
    "\n",
    "print(sin2theta)\n",
    "print('dima :',blos_d)\n",
    "print('plowman:',blos_p)"
   ]
  },
  {
   "cell_type": "code",
   "execution_count": null,
   "metadata": {},
   "outputs": [],
   "source": [
    "plt.figure()\n",
    "#plt.plot(sdb[:,0]/sdb[:,3])\n",
    "print(sobs[0]/sobs[3])"
   ]
  },
  {
   "cell_type": "code",
   "execution_count": null,
   "metadata": {},
   "outputs": [],
   "source": []
  },
  {
   "cell_type": "code",
   "execution_count": null,
   "metadata": {},
   "outputs": [],
   "source": []
  },
  {
   "cell_type": "code",
   "execution_count": null,
   "metadata": {},
   "outputs": [],
   "source": []
  },
  {
   "cell_type": "code",
   "execution_count": null,
   "metadata": {},
   "outputs": [],
   "source": []
  },
  {
   "cell_type": "code",
   "execution_count": null,
   "metadata": {},
   "outputs": [],
   "source": []
  },
  {
   "cell_type": "code",
   "execution_count": null,
   "metadata": {},
   "outputs": [],
   "source": []
  },
  {
   "cell_type": "code",
   "execution_count": null,
   "metadata": {},
   "outputs": [],
   "source": []
  },
  {
   "cell_type": "code",
   "execution_count": null,
   "metadata": {},
   "outputs": [],
   "source": []
  },
  {
   "cell_type": "code",
   "execution_count": null,
   "metadata": {},
   "outputs": [],
   "source": []
  },
  {
   "cell_type": "code",
   "execution_count": null,
   "metadata": {},
   "outputs": [],
   "source": []
  },
  {
   "cell_type": "code",
   "execution_count": null,
   "metadata": {},
   "outputs": [],
   "source": []
  },
  {
   "cell_type": "code",
   "execution_count": null,
   "metadata": {},
   "outputs": [],
   "source": []
  },
  {
   "cell_type": "code",
   "execution_count": null,
   "metadata": {},
   "outputs": [],
   "source": []
  },
  {
   "cell_type": "code",
   "execution_count": null,
   "metadata": {},
   "outputs": [],
   "source": []
  }
 ],
 "metadata": {
  "kernelspec": {
   "display_name": "Python 3",
   "language": "python",
   "name": "python3"
  },
  "language_info": {
   "codemirror_mode": {
    "name": "ipython",
    "version": 3
   },
   "file_extension": ".py",
   "mimetype": "text/x-python",
   "name": "python",
   "nbconvert_exporter": "python",
   "pygments_lexer": "ipython3",
   "version": "3.7.3"
  }
 },
 "nbformat": 4,
 "nbformat_minor": 4
}
