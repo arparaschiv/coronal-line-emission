{
 "cells": [
  {
   "cell_type": "code",
   "execution_count": 18,
   "id": "5216c5ca-dd51-4ebb-bf01-d60f23409854",
   "metadata": {},
   "outputs": [],
   "source": [
    "## test different functions and modules \n",
    "import pickle\n",
    "import importlib\n",
    "from numba.typed import List\n",
    "import constants as consts\n",
    "import ctrlparams \n",
    "import time\n",
    "\n",
    "from matplotlib import pyplot as plt\n",
    "%matplotlib widget"
   ]
  },
  {
   "cell_type": "markdown",
   "id": "5ebbf90b-e341-454d-9949-0541b72e94c2",
   "metadata": {},
   "source": [
    "## 1. Test the CLEDB_PREPINV module with faked synthetic data. "
   ]
  },
  {
   "cell_type": "code",
   "execution_count": 22,
   "id": "15f6bb9f-a919-4853-93cb-a5d0c40b46fd",
   "metadata": {},
   "outputs": [],
   "source": [
    "## Import the constants and control parameter classes\n",
    "\n",
    "importlib.reload(consts)\n",
    "#consts=constants.Constants(\"fe-xiii_1074\")\n",
    "\n",
    "importlib.reload(ctrlparams)\n",
    "params=ctrlparams.ctrlparams()\n"
   ]
  },
  {
   "cell_type": "code",
   "execution_count": null,
   "id": "2d66d408-f00f-4e4d-8a57-8c323ac7251b",
   "metadata": {},
   "outputs": [],
   "source": []
  },
  {
   "cell_type": "code",
   "execution_count": 3,
   "id": "398acf43-64d2-4a11-bb85-ff41cbebfd5c",
   "metadata": {},
   "outputs": [],
   "source": [
    "import CLEDB_PREPINV.CLEDB_PREPINV as prepinv  ##imports from the CLEDB_PREPINV subdirectory"
   ]
  },
  {
   "cell_type": "code",
   "execution_count": 4,
   "id": "95802f99-578e-4f34-bb5b-3c13aa972501",
   "metadata": {},
   "outputs": [
    {
     "data": {
      "text/plain": [
       "[None, None]"
      ]
     },
     "execution_count": 4,
     "metadata": {},
     "output_type": "execute_result"
    }
   ],
   "source": [
    "with open('obsstokes_3dipole_hires_fullspectra.pkl','rb') as f:\n",
    "    sobs1,sobs2,sobs3,sobsa,waveA,waveB = pickle.load(f)  \n",
    "## arrange the two observation \"files\" in a simple list;un-necesary step given the shape of sobs array, but it mimicks a file/header structure.\n",
    "sobs_lst=[sobs1[:,:,:,0:4],sobs1[:,:,:,4:8]]  ## standard python list; does not work well with numba\n",
    "## set a proper numba typed list\n",
    "sobs_in = List()                              ## this is the List object implemented by numba; the claim is that it is a faster performing object\n",
    "[sobs_in.append(x) for x in sobs_lst]"
   ]
  },
  {
   "cell_type": "markdown",
   "id": "18d4a9d7-c74d-4eac-b8ba-a8a7d2ab78e5",
   "metadata": {},
   "source": [
    "## CLEDB_PREP: observation preprocessing timings"
   ]
  },
  {
   "cell_type": "code",
   "execution_count": 31,
   "id": "81e4ea8d-eb92-4240-9f85-354df83bdf6b",
   "metadata": {},
   "outputs": [
    {
     "name": "stdout",
     "output_type": "stream",
     "text": [
      "Full array: 34.038135  TOTAL SECONDS FOR OBS. PREPROCESS\n"
     ]
    }
   ],
   "source": [
    "## preprocess the observation\n",
    "#importlib.reload(prepinv)\n",
    "start=time.time()\n",
    "sobs_tot,yobs,rms,background,keyvals,sobs_totrot,aobs=prepinv.sobs_preprocess(sobs_in,params)\n",
    "print(\"Full array:\",\"{:4.6f}\".format(time.time()-start),' TOTAL SECONDS FOR OBS. PREPROCESS') "
   ]
  },
  {
   "cell_type": "markdown",
   "id": "937dff74-971d-495f-873f-e05a47703363",
   "metadata": {},
   "source": [
    "## CLEDB_PREP: database preprocessing timings"
   ]
  },
  {
   "cell_type": "code",
   "execution_count": 6,
   "id": "f942e4e4-0907-41f9-8a72-cdff98e13343",
   "metadata": {},
   "outputs": [
    {
     "name": "stdout",
     "output_type": "stream",
     "text": [
      "Full array: 2.138113  TOTAL SECONDS FOR 10^8 CALCULATIONS DATABASE PREPROCESS\n"
     ]
    }
   ],
   "source": [
    "##select and pre-read the database files based on the observation preprocessing\n",
    "start=time.time()\n",
    "db_enc,database,dbhdr=prepinv.sdb_preprocess(yobs,keyvals,params)\n",
    "print(\"Full array:\",\"{:4.6f}\".format((time.time()-start)/14),' TOTAL SECONDS FOR 10^8 CALCULATIONS DATABASE PREPROCESS') ## /14 comes from loading 14 databases"
   ]
  },
  {
   "cell_type": "markdown",
   "id": "65738bc7-3130-4004-b6f0-e4d74b5f614c",
   "metadata": {},
   "source": [
    "## 2. Test the CLEDB_PROC module with the same faked synthetic data. "
   ]
  },
  {
   "cell_type": "code",
   "execution_count": 11,
   "id": "25e92c57-4f88-44a9-ac28-43f08ceafc57",
   "metadata": {},
   "outputs": [],
   "source": [
    "import CLEDB_PROC.CLEDB_PROC as procinv"
   ]
  },
  {
   "cell_type": "markdown",
   "id": "2538d9f4-329b-4fff-847b-45b0c9250655",
   "metadata": {},
   "source": [
    "## CLEDB_PROC: SPECTRO_PROC 2-line calculation timings"
   ]
  },
  {
   "cell_type": "code",
   "execution_count": 24,
   "id": "92428d9b-404b-4f1f-b0ed-9c336718ed92",
   "metadata": {},
   "outputs": [
    {
     "name": "stdout",
     "output_type": "stream",
     "text": [
      "Full array: 76.814932  TOTAL SECONDS FOR SPECTROSCOPY PROCESSING\n"
     ]
    }
   ],
   "source": [
    "start=time.time()\n",
    "importlib.reload(procinv)\n",
    "specout=procinv.spectro_proc(sobs_in,sobs_tot,rms,background,keyvals,consts,params)\n",
    "print(\"Full array:\",\"{:4.6f}\".format((time.time()-start)),' TOTAL SECONDS FOR SPECTROSCOPY PROCESSING')"
   ]
  },
  {
   "cell_type": "code",
   "execution_count": null,
   "id": "20459d92-e890-4e38-9a41-5898ef901498",
   "metadata": {},
   "outputs": [],
   "source": []
  },
  {
   "cell_type": "code",
   "execution_count": 30,
   "id": "b76bd275-8aa6-4337-96ed-1b45f40a26dd",
   "metadata": {},
   "outputs": [
    {
     "data": {
      "text/plain": [
       "[None]"
      ]
     },
     "execution_count": 30,
     "metadata": {},
     "output_type": "execute_result"
    }
   ],
   "source": [
    "## blos timing; keep commented\n",
    "\n",
    "\n",
    "# ## fake 1 line\n",
    "# ## set a proper numba typed list\n",
    "# sobs_lst=[sobsa[:,:,:,0:4]]                   ## standard python lists will be deprecated by numba\n",
    "# sobs_in = List()                              ## this is the List object implemented by numba; It utilizes memory in a column-like fashion.\n",
    "# [sobs_in.append(x) for x in sobs_lst]         ## Numba developers claim that it is a significantly faster performing object\n"
   ]
  },
  {
   "cell_type": "markdown",
   "id": "57eeb1be-1c0d-4360-898e-88727e375c07",
   "metadata": {},
   "source": [
    "## CLEDB_PROC: BLOS_PROC 1-line calculation timings"
   ]
  },
  {
   "cell_type": "code",
   "execution_count": 33,
   "id": "d81bcd0f-5b11-4c28-903b-fad9f16aaab0",
   "metadata": {},
   "outputs": [
    {
     "name": "stderr",
     "output_type": "stream",
     "text": [
      "<ipython-input-33-3fb43ef012de>:3: RuntimeWarning: invalid value encountered in double_scalars\n",
      "  blosout=procinv.blos_proc(sobs_tot,rms,keyvals,consts,params)\n"
     ]
    },
    {
     "name": "stdout",
     "output_type": "stream",
     "text": [
      "Full array: 1.761549  TOTAL SECONDS FOR LOS FIELD PROCESSING\n"
     ]
    }
   ],
   "source": [
    "# #importlib.reload(procinv)       ## If module is modified, reload the contents \n",
    "# start=time.time()\n",
    "# blosout=procinv.blos_proc(sobs_tot,rms,keyvals,consts,params)\n",
    "# print(\"Full array:\",\"{:4.6f}\".format((time.time()-start)),' TOTAL SECONDS FOR LOS FIELD PROCESSING')"
   ]
  },
  {
   "cell_type": "code",
   "execution_count": null,
   "id": "e70b5336-7a81-41fc-b082-9f7764a66834",
   "metadata": {},
   "outputs": [],
   "source": [
    "importlib.reload(procinv)\n",
    "#sobs_1rot=np.zeros((600,280,8))\n",
    "#for xx in range(600):\n",
    "#    for yy in range(280):\n",
    "#        sobs_1rot[xx,yy,:]=sobs_totrot[xx,yy,:]/sobs_totrot[xx,yy,0]\n",
    "invout,sfound=procinv.cledb_invproc(sobs_totrot,database,db_enc,yobs,aobs,rms,dbhdr,keyvals,params.nsearch,params.maxchisq,params.bcalc,params.reduced,params.verbose)"
   ]
  },
  {
   "cell_type": "code",
   "execution_count": 37,
   "id": "36fff60d-37d4-4bec-970d-5e98c7811af1",
   "metadata": {},
   "outputs": [
    {
     "name": "stderr",
     "output_type": "stream",
     "text": [
      "<ipython-input-37-5a39d8f79c87>:2: RuntimeWarning: More than 20 figures have been opened. Figures created through the pyplot interface (`matplotlib.pyplot.figure`) are retained until explicitly closed and may consume too much memory. (To control this warning, see the rcParam `figure.max_open_warning`).\n",
      "  plt.figure(figsize=(8, 8))\n"
     ]
    },
    {
     "data": {
      "application/vnd.jupyter.widget-view+json": {
       "model_id": "4b2288e6302e4bbaa0dbb2a70edfc5e3",
       "version_major": 2,
       "version_minor": 0
      },
      "text/plain": [
       "Canvas(toolbar=Toolbar(toolitems=[('Home', 'Reset original view', 'home', 'home'), ('Back', 'Back to previous …"
      ]
     },
     "metadata": {},
     "output_type": "display_data"
    },
    {
     "name": "stdout",
     "output_type": "stream",
     "text": [
      "[[ 1.00000000e+00 -1.79847191e-01 -3.03860906e-02  6.34799826e-05\n",
      "   1.75657578e-01 -3.08502419e-03 -5.21500906e-04  9.60061965e-06]\n",
      " [ 1.00000000e+00 -1.79847191e-01 -3.03860906e-02 -6.34799826e-05\n",
      "   1.75657578e-01 -3.08502419e-03 -5.21500906e-04 -9.60061965e-06]\n",
      " [ 1.00000000e+00 -1.78157886e-01 -3.23812587e-02  7.87918352e-05\n",
      "   1.74366258e-01 -1.83288209e-03 -3.33137255e-04  1.17665826e-05]\n",
      " [ 1.00000000e+00 -1.78157886e-01 -3.23812587e-02 -7.87918352e-05\n",
      "   1.74366258e-01 -1.83288209e-03 -3.33137255e-04 -1.17665826e-05]]\n",
      "[ 1.00000000e+00 -1.79763806e-01  1.70828613e-02  4.74984142e-04\n",
      "  1.72989153e-01 -4.22201132e-03  4.01490097e-04  7.51123317e-05]\n"
     ]
    }
   ],
   "source": [
    "##Check inversion code output\n",
    "plt.figure(figsize=(8, 8))\n",
    "plt.imshow(invout[280:380,75:175,0,10])#,vmin=-1.5,vmax=1.5)\n",
    "print(sfound[339,136,0:4,:])\n",
    "print(sobs_totrot[339,136,:])"
   ]
  },
  {
   "cell_type": "code",
   "execution_count": 27,
   "id": "dc6dd510-7cc7-42d7-877b-705a9c135fd6",
   "metadata": {},
   "outputs": [],
   "source": [
    "## do custom magfield inversion to check that all is good.\n",
    "with open('obsstokes_3dipole_hires.pkl','rb') as f:\n",
    "     sobs_a,yobs_a,rms1,xxl,yyl = pickle.load(f)  \n",
    "\n"
   ]
  },
  {
   "cell_type": "code",
   "execution_count": 13,
   "id": "fef20030-e959-40f4-b2e6-cffaae3420a1",
   "metadata": {},
   "outputs": [
    {
     "data": {
      "application/vnd.jupyter.widget-view+json": {
       "model_id": "51e42bf94a054206b2d1f29f4aaec375",
       "version_major": 2,
       "version_minor": 0
      },
      "text/plain": [
       "Canvas(toolbar=Toolbar(toolitems=[('Home', 'Reset original view', 'home', 'home'), ('Back', 'Back to previous …"
      ]
     },
     "metadata": {},
     "output_type": "display_data"
    },
    {
     "name": "stdout",
     "output_type": "stream",
     "text": [
      "9720000 (10, 60, 180, 90, 8)\n"
     ]
    }
   ],
   "source": [
    "plt.figure()\n",
    "plt.imshow(aobs)\n",
    "print(10*60*180*90,database[13].shape)"
   ]
  },
  {
   "cell_type": "markdown",
   "id": "25ad7a9a-9916-4f4c-bb45-22edd8298b15",
   "metadata": {},
   "source": [
    "## CLEDB_INVPROC/CLEDB_MATCH 2-line 1 pixel calculation timings"
   ]
  },
  {
   "cell_type": "code",
   "execution_count": 29,
   "id": "2fa95de9-3db1-4755-9b2f-31cf4efdbfd1",
   "metadata": {},
   "outputs": [
    {
     "name": "stdout",
     "output_type": "stream",
     "text": [
      "1 PIXEL -   4  SOLUTIONS:  1.378482 TOTAL SECONDS FOR FULL DB SEARCH AND SORT\n",
      "1 PIXEL -   8  SOLUTIONS:  1.502928 TOTAL SECONDS FOR FULL DB SEARCH AND SORT\n",
      "1 PIXEL -  12  SOLUTIONS:  1.615763 TOTAL SECONDS FOR FULL DB SEARCH AND SORT\n",
      "1 PIXEL -  16  SOLUTIONS:  1.734762 TOTAL SECONDS FOR FULL DB SEARCH AND SORT\n",
      "1 PIXEL -  24  SOLUTIONS:  1.965352 TOTAL SECONDS FOR FULL DB SEARCH AND SORT\n",
      "-----------------------------------------------------\n",
      "1 PIXEL -   4  SOLUTIONS:  0.279699 TOTAL SECONDS FOR REDUCED DB SEARCH AND SORT\n",
      "1 PIXEL -   8  SOLUTIONS:  0.585961 TOTAL SECONDS FOR REDUCED DB SEARCH AND SORT\n",
      "1 PIXEL -  12  SOLUTIONS:  1.004150 TOTAL SECONDS FOR REDUCED DB SEARCH AND SORT\n",
      "1 PIXEL -  16  SOLUTIONS:  1.367449 TOTAL SECONDS FOR REDUCED DB SEARCH AND SORT\n",
      "1 PIXEL -  24  SOLUTIONS:  2.303643 TOTAL SECONDS FOR REDUCED DB SEARCH AND SORT\n"
     ]
    }
   ],
   "source": [
    "a,b=procinv.cledb_match(database[13][6,32,113,24,:],1.02,0,database[13],dbhdr,np.ones((8))*1e-5,8,params.maxchisq,params.bcalc,1,params.verbose) ##drirun \n",
    "\n",
    "for ii in [4,8,12,16,24]:\n",
    "    start=time.time()\n",
    "    for i in range(10): ##run each 10 times to average execution\n",
    "        a1,b1=procinv.cledb_match(database[13][6,32,113,24,:],1.02,0,database[13],dbhdr,np.ones((8))*1e-5,ii,params.maxchisq,params.bcalc,0,params.verbose)\n",
    "    print('1 PIXEL - ',\"{:2d}\".format(ii),' SOLUTIONS: ',\"{:4.6f}\".format((time.time()-start)/10),'TOTAL SECONDS FOR FULL DB SEARCH AND SORT') \n",
    "print(\"-----------------------------------------------------\")\n",
    "for ii in [4,8,12,16,24]:\n",
    "    start=time.time()\n",
    "    for i in range(10): ##run each 10 times to average execution\n",
    "        a1,b1=procinv.cledb_match(database[13][6,32,113,24,:],1.02,0,database[13],dbhdr,np.ones((8))*1e-5,ii,params.maxchisq,params.bcalc,1,params.verbose)\n",
    "    print('1 PIXEL - ',\"{:2d}\".format(ii),' SOLUTIONS: ',\"{:4.6f}\".format((time.time()-start)/10),'TOTAL SECONDS FOR REDUCED DB SEARCH AND SORT')  "
   ]
  },
  {
   "cell_type": "code",
   "execution_count": 94,
   "id": "285a7434-fad1-4895-94f6-9090c44a358a",
   "metadata": {},
   "outputs": [
    {
     "name": "stdout",
     "output_type": "stream",
     "text": [
      "6291696 6291696 0.0\n",
      "6360594 6360594 0.0\n",
      "6296013 6296013 0.004951004468097\n",
      "6356277 6356277 0.004951004468097\n",
      "6291654 6291654 0.008549076115655\n",
      "6360636 6360636 0.008549076115655\n",
      "8900568 8900568 0.014300826714871\n",
      "9583722 9583722 0.014300826714871\n",
      "6295977 6295977 0.023756576666324\n",
      "6356313 6356313 0.023756576666324\n",
      "8900658 8900658 0.025857593767297\n",
      "9583632 9583632 0.025857593767297\n",
      "8900622 8900622 0.026062257352975\n",
      "9583668 9583668 0.026062257352975\n",
      "6296068 6296068 0.031144483935458\n",
      "6356222 6356222 0.031144483935458\n",
      "6295978 6295978 0.036280073954302\n",
      "6356312 6356312 0.036280073954302\n",
      "6296012 6296012 0.040029260653506\n",
      "6356278 6356278 0.040029260653506\n",
      "6360637 6360637 0.040967506325883\n",
      "6291653 6291653 0.041548883142173\n",
      "9583812 9583812 0.041870663138101\n",
      "8900478 8900478 0.041870784273414\n",
      "6296067 6296067 0.04287114442879\n",
      "6356223 6356223 0.04287114442879\n",
      "8900712 8900712 0.045160186320657\n",
      "9583578 9583578 0.045160186320657\n",
      "6291743 6291743 0.045943778364601\n",
      "6360547 6360547 0.045943778364601\n",
      "8900532 8900532 0.046154951205455\n",
      "9583758 9583758 0.046155252158443\n",
      "6291744 6291744 0.046259493588371\n",
      "6360546 6360546 0.046259493588371\n",
      "6296014 6296014 0.046431392115228\n",
      "6356276 6356276 0.046431392115228\n",
      "6296103 6296103 0.056710745326433\n",
      "6356187 6356187 0.056710745326433\n"
     ]
    }
   ],
   "source": [
    "importlib.reload(procinv)\n",
    "#invout,sfound=procinv.cledb_invproc(sobs_a,database,db_enc,yobs_a,aobs,rms,dbhdr,keyvals,params.nsearch,params.maxchisq,params.bcalc,params.reduced,params.verbose)\n"
   ]
  },
  {
   "cell_type": "code",
   "execution_count": 11,
   "id": "c7753d17-633c-4f14-bfeb-a1a49730e69a",
   "metadata": {},
   "outputs": [
    {
     "name": "stdout",
     "output_type": "stream",
     "text": [
      "11.725557  TOTAL SECONDS FOR DBINVERT \n"
     ]
    }
   ],
   "source": [
    "import time\n",
    "start=time.time()\n",
    "for i in range(10):\n",
    "    a,b=procinv.cledb_match(database[13][6,32,113,24,:],1.02,0,database[13],dbhdr,np.ones((8))*1e-5,4,params.maxchisq,params.bcalc,0,params.verbose)\n",
    "    c=i\n",
    "print(\"{:4.6f}\".format(time.time()-start),' TOTAL SECONDS FOR DBINVERT ')  "
   ]
  },
  {
   "cell_type": "code",
   "execution_count": 95,
   "id": "37ad1a95-76de-4947-91d9-18ed2e00875e",
   "metadata": {},
   "outputs": [
    {
     "name": "stdout",
     "output_type": "stream",
     "text": [
      "[592304. 586176. 592429. 592101. 592421. 592093. 586184. 586301.] 565408 (73, 37, 14, 2)\n",
      "[ 1.000000e+01  6.000000e+01  1.800000e+02  9.000000e+01 -1.500000e+00  2.300000e+00 -1.510000e+00  1.510000e+00  0.000000e+00  6.283185e+00  0.000000e+00  3.141593e+00  1.000000e+00  1.074627e+04] (6, 32, 113, 24)\n",
      "[ 1.000000e+01  6.000000e+01  1.800000e+02  9.000000e+01 -1.500000e+00  2.300000e+00 -1.510000e+00  1.510000e+00  0.000000e+00  6.283185e+00  0.000000e+00  3.141593e+00  1.000000e+00  1.074627e+04]\n",
      "[10. 60.]\n",
      "        Index          chi2            density           y                x              B             btheta            bhi             bx              by             bz\n",
      "[[ 5.92304000e+05  0.00000000e+00  8.23258148e+00  1.02000000e+00  1.10050847e+00  2.17306537e+03  2.03589235e+00  0.00000000e+00 -0.00000000e+00  0.00000000e+00  2.17306537e+03]\n",
      " [ 5.86176000e+05  8.54907612e-03  8.49744725e+00  1.02000000e+00  8.95762706e-01  5.29712227e+03  4.21219106e-01  0.00000000e+00  0.00000000e+00  0.00000000e+00  5.29712227e+03]\n",
      " [ 5.92429000e+05  4.09675063e-02  8.23258148e+00  1.02000000e+00  1.10050847e+00  1.24089773e+00  2.56241623e+00  1.76493988e-01 -1.82343177e-01  1.19250977e-01  1.22162078e+00]\n",
      " [ 5.92101000e+05  4.09675063e-02  8.23258148e+00  1.02000000e+00  1.10050847e+00  1.63154297e+01  1.12325095e+00  1.76493988e-01  1.23968807e+00  2.58251534e+00  1.60619748e+01]\n",
      " [ 5.92421000e+05  4.59437784e-02  8.23258148e+00  1.02000000e+00  1.10050847e+00  1.15874433e+00  2.52731464e+00  1.76493988e-01 -1.66258325e-01  1.17262956e-01  1.14074361e+00]\n",
      " [ 5.92093000e+05  4.59437784e-02  8.23258148e+00  1.02000000e+00  1.10050847e+00  8.15900914e+00  1.08814936e+00  1.76493988e-01  6.64883578e-01  1.26891050e+00  8.03226158e+00]\n",
      " [ 5.86184000e+05  4.62594936e-02  8.49744725e+00  1.02000000e+00  8.95762706e-01  5.29712227e+03  4.56320699e-01  0.00000000e+00  0.00000000e+00  0.00000000e+00  5.29712227e+03]\n",
      " [ 5.86301000e+05  6.27804130e-02  8.49744725e+00  1.02000000e+00  8.95762706e-01  2.74065073e+00  9.47742990e-01  1.76493988e-01  2.80789214e-01  3.90783624e-01  2.69807561e+00]]\n",
      "--------------------------------------------------------------------------------------------------------------------------------------------------------------------------\n",
      "[[ 6.29169600e+06  0.00000000e+00 -3.02003402e+02  1.02000000e+00  9.98135587e-01  9.99798868e-01  1.47426687e+00  0.00000000e+00  0.00000000e+00  0.00000000e+00  9.99798868e-01]\n",
      " [ 6.36059400e+06  0.00000000e+00 -1.45567331e+02  1.02000000e+00  3.83898303e-01  9.99798868e-01  4.91422291e-01  7.05975950e-02  6.21790597e-02  3.32792570e-02  9.97308394e-01]\n",
      " [ 6.29601300e+06  4.95100447e-03 -3.02192518e+02  1.02000000e+00  1.15169491e+00  9.92450465e-01  1.43916528e+00  1.76493988e-01  2.28709995e-02  1.72746127e-01  9.77033069e-01]\n",
      " [ 6.35627700e+06  4.95100447e-03 -1.45377994e+02  1.02000000e+00  2.30338982e-01  9.92450465e-01  4.91422291e-01  1.76493988e-01  1.53632857e-01  8.22268355e-02  9.77033069e-01]\n",
      " [ 6.29165400e+06  8.54907612e-03 -3.02003402e+02  1.02000000e+00  9.98135587e-01  9.99798868e-01  1.26365732e+00  2.11792785e-01  6.35414852e-02  2.00335208e-01  9.77458982e-01]\n",
      " [ 6.36063600e+06  8.54907612e-03 -1.45567331e+02  1.02000000e+00  3.83898303e-01  9.99798868e-01  6.66930252e-01  1.41195190e-01  1.10549991e-01  8.70326646e-02  9.89849378e-01]\n",
      " [ 8.90056800e+06  1.43008267e-02 -3.02574730e+02  1.02000000e+00 -1.50999999e+00  1.01359053e+00  6.00237227e+00  0.00000000e+00  0.00000000e+00 -0.00000000e+00  1.01359053e+00]\n",
      " [ 9.58372200e+06  1.43008267e-02 -1.46861500e+02  1.02000000e+00  1.30525423e+00  1.01359053e+00  2.28160349e+00  7.05975950e-02 -4.66483190e-02  5.41834403e-02  1.01106570e+00]\n",
      " [ 6.29597700e+06  2.37565767e-02 -3.02192518e+02  1.02000000e+00  1.15169491e+00  9.92450465e-01  1.29875891e+00  3.52987975e-02  9.41103324e-03  3.37370037e-02  9.91832230e-01]\n",
      " [ 6.35631300e+06  2.37565767e-02 -1.45377994e+02  1.02000000e+00  2.30338982e-01  9.92450465e-01  6.66930252e-01  3.52987975e-02  2.75200178e-02  2.16656776e-02  9.91832230e-01]\n",
      " [ 8.90065800e+06  2.58575938e-02 -3.02524854e+02  1.02000000e+00 -1.45881355e+00  9.93496922e-01  7.02031844e-02  7.05975950e-02  6.99076220e-02  4.91581618e-03  9.91022145e-01]\n",
      " [ 9.58363200e+06  2.58575938e-02 -1.46861500e+02  1.02000000e+00  1.30525423e+00  9.93496922e-01  1.89548598e+00  0.00000000e+00 -0.00000000e+00  0.00000000e+00  9.93496922e-01]\n",
      " [ 8.90062200e+06  2.60622574e-02 -3.02574730e+02  1.02000000e+00 -1.50999999e+00  1.01359053e+00  6.21298182e+00  2.11792785e-01  2.12545024e-01 -1.49459637e-02  9.90942479e-01]\n",
      " [ 9.58366800e+06  2.60622574e-02 -1.46861500e+02  1.02000000e+00  1.30525423e+00  1.01359053e+00  2.03589235e+00  1.41195190e-01 -6.39748483e-02  1.27487725e-01  1.00350379e+00]\n",
      " [ 6.29606800e+06  3.11444839e-02 -3.02192518e+02  1.02000000e+00  1.15169491e+00  1.01145642e+00  1.68487643e+00  1.41195190e-01 -1.62028187e-02  1.41413520e-01  1.00139092e+00]\n",
      " [ 6.35622200e+06  3.11444839e-02 -1.45377994e+02  1.02000000e+00  2.30338982e-01  1.01145642e+00  2.45711145e-01  2.11792785e-01  2.06235084e-01  5.17193056e-02  9.88856055e-01]\n",
      " [ 6.29597800e+06  3.62800740e-02 -3.02192518e+02  1.02000000e+00  1.15169491e+00  9.68683786e-01  1.29875891e+00  7.05975950e-02  1.83598814e-02  6.58171500e-02  9.66270819e-01]\n",
      " [ 6.35631200e+06  3.62800740e-02 -1.45377994e+02  1.02000000e+00  2.30338982e-01  9.68683786e-01  6.66930252e-01  0.00000000e+00  0.00000000e+00  0.00000000e+00  9.68683786e-01]\n",
      " [ 6.29601200e+06  4.00292607e-02 -3.02192518e+02  1.02000000e+00  1.15169491e+00  9.68683786e-01  1.43916528e+00  1.41195190e-01  1.78921038e-02  1.35140208e-01  9.59043938e-01]\n",
      " [ 6.35627800e+06  4.00292607e-02 -1.45377994e+02  1.02000000e+00  2.30338982e-01  9.68683786e-01  4.91422291e-01  2.11792785e-01  1.79532857e-01  9.60889425e-02  9.47039147e-01]\n",
      " [ 6.36063700e+06  4.09675063e-02 -1.45567331e+02  1.02000000e+00  3.83898303e-01  1.03300125e+00  6.66930252e-01  1.76493988e-01  1.42509510e-01  1.12193427e-01  1.01695391e+00]\n",
      " [ 6.29165300e+06  4.15488831e-02 -3.02003402e+02  1.02000000e+00  9.98135587e-01  1.03300125e+00  1.26365732e+00  1.76493988e-01  5.48351355e-02  1.72885608e-01  1.01695391e+00]\n",
      " [ 9.58381200e+06  4.18706631e-02 -1.46861500e+02  1.02000000e+00  1.30525423e+00  1.03518081e+00  2.66772101e+00  1.41195190e-01 -1.29624929e-01  6.64776478e-02  1.02487921e+00]\n",
      " [ 8.90047800e+06  4.18707843e-02 -3.02574730e+02  1.02000000e+00 -1.50999999e+00  1.03518081e+00  5.58115316e+00  2.11792785e-01  1.66150879e-01 -1.40525129e-01  1.01205033e+00]\n",
      " [ 6.29606700e+06  4.28711444e-02 -3.02192518e+02  1.02000000e+00  1.15169491e+00  1.03627231e+00  1.68487643e+00  1.05896393e-01 -1.24683944e-02  1.08820544e-01  1.03046733e+00]\n",
      " [ 6.35622300e+06  4.28711444e-02 -1.45377994e+02  1.02000000e+00  2.30338982e-01  1.03627231e+00  2.45711145e-01  2.47091583e-01  2.45843902e-01  6.16523417e-02  1.00479852e+00]\n",
      " [ 8.90071200e+06  4.51601863e-02 -3.02524854e+02  1.02000000e+00 -1.45881355e+00  9.93496922e-01  3.15914330e-01  0.00000000e+00  0.00000000e+00  0.00000000e+00  9.93496922e-01]\n",
      " [ 9.58357800e+06  4.51601863e-02 -1.46861500e+02  1.02000000e+00  1.30525423e+00  9.93496922e-01  1.64977483e+00  7.05975950e-02 -5.52908097e-03  6.98617931e-02  9.91022145e-01]\n",
      " [ 6.29174300e+06  4.59437784e-02 -3.02003402e+02  1.02000000e+00  9.98135587e-01  9.97693791e-01  1.64977483e+00  2.47091583e-01 -1.92523731e-02  2.43260194e-01  9.67391712e-01]\n",
      " [ 6.36054700e+06  4.59437784e-02 -1.45567331e+02  1.02000000e+00  3.83898303e-01  9.97693791e-01  2.80812738e-01  1.05896393e-01  1.01324209e-01  2.92253946e-02  9.92104925e-01]\n",
      " [ 8.90053200e+06  4.61549512e-02 -3.02574730e+02  1.02000000e+00 -1.50999999e+00  1.03518081e+00  5.82686431e+00  1.41195190e-01  1.30771632e-01 -6.41925253e-02  1.02487921e+00]\n",
      " [ 9.58375800e+06  4.61552522e-02 -1.46861500e+02  1.02000000e+00  1.30525423e+00  1.03518081e+00  2.42200986e+00  2.11792785e-01 -1.63659111e-01  1.43419392e-01  1.01205033e+00]\n",
      " [ 6.29174400e+06  4.62594936e-02 -3.02003402e+02  1.02000000e+00  9.98135587e-01  9.65626031e-01  1.68487643e+00  0.00000000e+00 -0.00000000e+00  0.00000000e+00  9.65626031e-01]\n",
      " [ 6.36054600e+06  4.62594936e-02 -1.45567331e+02  1.02000000e+00  3.83898303e-01  9.65626031e-01  2.80812738e-01  7.05975950e-02  6.54462616e-02  1.88769580e-02  9.63220681e-01]\n",
      " [ 6.29601400e+06  4.64313921e-02 -3.02192518e+02  1.02000000e+00  1.15169491e+00  1.01894552e+00  1.43916528e+00  2.11792785e-01  2.81134353e-02  2.12342581e-01  9.96177816e-01]\n",
      " [ 6.35627600e+06  4.64313921e-02 -1.45377994e+02  1.02000000e+00  2.30338982e-01  1.01894552e+00  4.91422291e-01  1.41195190e-01  1.26423935e-01  6.76641725e-02  1.00880549e+00]\n",
      " [ 6.29610300e+06  5.67107453e-02 -3.02192518e+02  1.02000000e+00  1.15169491e+00  1.03627231e+00  1.82528279e+00  2.47091583e-01 -6.38072997e-02  2.45293424e-01  1.00479852e+00]\n",
      " [ 6.35618700e+06  5.67107453e-02 -1.45377994e+02  1.02000000e+00  2.30338982e-01  1.03627231e+00  1.05304777e-01  1.05896393e-01  1.08925767e-01  1.15129913e-02  1.03046733e+00]]\n"
     ]
    }
   ],
   "source": [
    "np.set_printoptions(linewidth=200)\n",
    "#print(b)\n",
    "# print(database[13][6,32,113,24,:])\n",
    "\n",
    "# diff=(database[13][6,32,113,20:29,:]-database[13][6,32,113,24,:]) /1.e-5\n",
    "# print(diff)\n",
    "# diff*=diff\n",
    "\n",
    "# print(diff)\n",
    "# chisq = np.empty((diff.shape[0]))\n",
    "# np.round_( np.sum( diff, axis=1),15,chisq)\n",
    "# print(chisq)\n",
    "\n",
    "\n",
    "# asrt = procinv.cledb_partsort(chisq,8)\n",
    "# asrt2= np.argsort(chisq)[:8]\n",
    "# print(asrt)\n",
    "# print(asrt2)\n",
    "print(a[:8,0],procinv.cledb_invparams(6,32,113,24,dbhdr[0]),procinv.cledb_params(6360594,dbhdr[0]))\n",
    "dbhdr1=dbhdr[0][:]\n",
    "dbhdr1[3]=90\n",
    "print(dbhdr1,procinv.cledb_params(6360594,dbhdr1))\n",
    "print(dbhdr[0])\n",
    "print([dbhdr[0][0:2],[12]][0])\n",
    "print(\"        Index          chi2            density           y                x              B             btheta            bhi             bx              by             bz\")\n",
    "print(a[:8,:])\n",
    "print(\"--------------------------------------------------------------------------------------------------------------------------------------------------------------------------\")\n",
    "print(a1[:38,:])"
   ]
  },
  {
   "cell_type": "code",
   "execution_count": 30,
   "id": "bceade41-59a3-45da-9272-ffb45d92e3c1",
   "metadata": {},
   "outputs": [
    {
     "data": {
      "application/vnd.jupyter.widget-view+json": {
       "model_id": "4bae3206390a4063841d3336dcabb002",
       "version_major": 2,
       "version_minor": 0
      },
      "text/plain": [
       "Canvas(toolbar=Toolbar(toolitems=[('Home', 'Reset original view', 'home', 'home'), ('Back', 'Back to previous …"
      ]
     },
     "metadata": {},
     "output_type": "display_data"
    },
    {
     "name": "stdout",
     "output_type": "stream",
     "text": [
      "[0. 0. 0. 0. 0. 0. 0. 0.]\n"
     ]
    }
   ],
   "source": [
    "##Check inversion code output\n",
    "plt.figure(figsize=(8, 8))\n",
    "plt.imshow(invout[:,:,2,4],vmin=-1.5,vmax=1.5)\n",
    "print(sfound[339,136,0,:])\n",
    "#print(sobs_1rot[339,136,:])"
   ]
  },
  {
   "cell_type": "code",
   "execution_count": null,
   "id": "cd4fd9b0-ac05-4cdc-8820-11f1e45421b7",
   "metadata": {},
   "outputs": [],
   "source": []
  },
  {
   "cell_type": "code",
   "execution_count": null,
   "id": "311213d5-a3a5-447f-bee2-bfe6dc316dbf",
   "metadata": {},
   "outputs": [],
   "source": []
  },
  {
   "cell_type": "code",
   "execution_count": 101,
   "id": "4c83aeab-7e88-4990-95a9-797e0c164988",
   "metadata": {},
   "outputs": [
    {
     "data": {
      "application/vnd.jupyter.widget-view+json": {
       "model_id": "",
       "version_major": 2,
       "version_minor": 0
      },
      "text/plain": [
       "Canvas(toolbar=Toolbar(toolitems=[('Home', 'Reset original view', 'home', 'home'), ('Back', 'Back to previous …"
      ]
     },
     "metadata": {},
     "output_type": "display_data"
    },
    {
     "name": "stdout",
     "output_type": "stream",
     "text": [
      "[ 1.07451937e+03 -1.07488620e-01 -2.99862350e+01  2.14926472e+00\n",
      " -1.03812321e-02  9.85277253e-04 -3.71063845e-02  1.42352790e-02\n",
      "  1.74022018e-01  8.68633618e-02  4.81287401e-03  2.25902800e-02]\n",
      "[ 1.07452168e+03 -1.05176602e-01 -2.93412483e+01  2.14926472e+00\n",
      " -1.03812321e-02  9.85277253e-04 -3.71063845e-02  1.42352790e-02\n",
      "  1.74690852e-01  8.73462306e-02  4.81287401e-03  2.25902800e-02]\n"
     ]
    }
   ],
   "source": [
    "## Check spectroscopy\n",
    "plt.figure(figsize=(8, 8))\n",
    "plt.ticklabel_format(useOffset=False)\n",
    "plt.imshow(specout[:,:,0,11])\n",
    "print(specout[331,109,0,:])\n",
    "print(specout2[331,109,0,:])\n",
    "#print(specout[331,109,0,8]-specout[331,109,0,9]-0.09676675740797457)"
   ]
  },
  {
   "cell_type": "code",
   "execution_count": 92,
   "id": "622a9419-84f1-4842-8520-81770e18d3a4",
   "metadata": {},
   "outputs": [
    {
     "name": "stdout",
     "output_type": "stream",
     "text": [
      "1074.519324444502 0.17416170397456915\n"
     ]
    },
    {
     "data": {
      "application/vnd.jupyter.widget-view+json": {
       "model_id": "bd979384ed204e32ad1b275cf6033721",
       "version_major": 2,
       "version_minor": 0
      },
      "text/plain": [
       "Canvas(toolbar=Toolbar(toolitems=[('Home', 'Reset original view', 'home', 'home'), ('Back', 'Back to previous …"
      ]
     },
     "metadata": {},
     "output_type": "display_data"
    },
    {
     "name": "stdout",
     "output_type": "stream",
     "text": [
      "-30.020342734990486 -29.361801583709216\n"
     ]
    }
   ],
   "source": [
    "\n",
    "# ## Simple Gaussian Function for spectra fitting\n",
    "def obs_gaussfit(x,ymax,mean,sigma, offset):\n",
    "# ## Simple Gaussian Function\n",
    "    return ymax*np.exp(-(x-mean)**2/(2*sigma**2)) + offset\n",
    "from scipy.optimize import curve_fit\n",
    "gfit,gcov = curve_fit(obs_gaussfit,waveA[::-1]/10+1074.62686,sobs1[331,109,:,0],p0=[np.max(sobs1[331,109,:,0]),1074.5,0.2/2.35,0.0],maxfev=10000)\n",
    "print(gfit[1],2*np.sqrt(2*np.log(2))*gfit[2])\n",
    "\n",
    "plt.figure()\n",
    "plt.plot(waveA[::-1]/10+1074.62686,sobs1[331,109,:,0],'b')\n",
    "# plt.annotate('CDF', xy=(1.07450612e+03,2), xytext=(1.07450612e+03,1),arrowprops=dict(facecolor='black',arrowstyle=\"->\"))\n",
    "# plt.annotate('G', xy=(1.07451917e+03,2), xytext=(1.07451917e+03,1),arrowprops=dict(facecolor='black',arrowstyle=\"->\"))\n",
    "plt.plot(waveA[::-1]/10+1074.62686,obs_gaussfit(waveA[::-1]/10+1074.62686,np.max(sobs1[331,109,:,0]),specout2[331,109,0,0],specout2[331,109,0,8]/2.35,0.0),color=\"r\",label=\"CDF\")\n",
    "plt.plot(waveA[::-1]/10+1074.62686,obs_gaussfit(waveA[::-1]/10+1074.62686,*gfit),\"g*\",label=\"Gauss_custom\")\n",
    "plt.plot(waveA[::-1]/10+1074.62686,obs_gaussfit(waveA[::-1]/10+1074.62686,np.max(sobs1[331,109,:,0]),specout[331,109,0,0],specout[331,109,0,8]/2.35,0.0),\"y*\",label=\"Gauss_auto\")\n",
    "plt.axvline(x=gfit[1],color=\"g\")\n",
    "plt.axvline(x=specout2[331,109,0,0],color=\"r\")\n",
    "plt.legend()\n",
    "print((gfit[1]-1074.62686)*3e5/1074.62686,(specout2[331,109,0,0]-1074.62686)*3e5/1074.62686)"
   ]
  },
  {
   "cell_type": "code",
   "execution_count": null,
   "id": "455a138b-7c36-423e-9ccd-b86493cefd57",
   "metadata": {},
   "outputs": [],
   "source": [
    "\n",
    "# ## Simple Gaussian Function for spectra fitting\n",
    "def obs_gaussfit(x,ymax,mean,sigma, offset):\n",
    "# ## Simple Gaussian Function\n",
    "    return ymax*np.exp(-(x-mean)**2/(2*sigma**2)) + offset\n",
    "from scipy.optimize import curve_fit\n",
    "gfit,gcov = curve_fit(obs_gaussfit,waveB/10+1079.78047,sobs1[331,109,:,4],p0=[np.max(sobs1[331,109,:,4]),1079.8,0.2/2.35,0.0],maxfev=10000)\n",
    "print(gfit[1],2*np.sqrt(2*np.log(2))*gfit[2])\n",
    "\n",
    "plt.figure()\n",
    "plt.plot(waveB/10+1079.78047,sobs1[331,109,:,4],'b')\n",
    "# plt.annotate('CDF', xy=(1.07450612e+03,2), xytext=(1.07450612e+03,1),arrowprops=dict(facecolor='black',arrowstyle=\"->\"))\n",
    "# plt.annotate('G', xy=(1.07451917e+03,2), xytext=(1.07451917e+03,1),arrowprops=dict(facecolor='black',arrowstyle=\"->\"))\n",
    "#plt.plot(waveB/10+1079.78047,obs_gaussfit(waveB/10+1079.78047,np.max(sobs1[331,109,:,4]),specout2[331,109,0,0],specout2[331,109,0,8]/2.35,0.0),color=\"r\",label=\"CDF\")\n",
    "plt.plot(waveB/10+1079.78047,obs_gaussfit(waveB/10+1079.78047,*gfit),\"g*\",label=\"Gauss_custom\")\n",
    "plt.plot(waveB/10+1079.78047,obs_gaussfit(waveB/10+1079.78047,np.max(sobs1[331,109,:,4]),specout[331,109,1,0],specout[331,109,1,8]/2.35,0.0),\"y*\",label=\"Gauss_auto\")\n",
    "plt.axvline(x=gfit[1],color=\"g\")\n",
    "plt.axvline(x=specout[331,109,1,0],color=\"r\")\n",
    "plt.legend()\n",
    "#print((gfit[1]-1079.78047)*3e5/1079.78047,(specout2[331,109,0,0]-1079.78047)*3e5/1079.78047)"
   ]
  },
  {
   "cell_type": "code",
   "execution_count": 24,
   "id": "9c2242cd-9692-4ab9-aeb8-1e570bf6661e",
   "metadata": {},
   "outputs": [
    {
     "name": "stdout",
     "output_type": "stream",
     "text": [
      "(600, 280, 8)\n"
     ]
    },
    {
     "data": {
      "application/vnd.jupyter.widget-view+json": {
       "model_id": "e44b2163ae2249a3a5dbaacf4681fe17",
       "version_major": 2,
       "version_minor": 0
      },
      "text/plain": [
       "Canvas(toolbar=Toolbar(toolitems=[('Home', 'Reset original view', 'home', 'home'), ('Back', 'Back to previous …"
      ]
     },
     "metadata": {},
     "output_type": "display_data"
    },
    {
     "name": "stdout",
     "output_type": "stream",
     "text": [
      "[1.00000000e+00 4.10233436e-01 7.00886590e-03 5.10528257e-04\n",
      " 1.89793421e-01 5.10227433e-02 8.49688898e-04 8.81079442e-05] [ 1.76905741e-03 -5.36222210e-04 -8.76758558e-06  6.38626216e-07\n",
      "  6.24599028e-05 -1.20937501e-05 -1.97727590e-07  2.05031337e-08]\n"
     ]
    }
   ],
   "source": [
    "##check the array\n",
    "print(rms.shape)\n",
    "plt.figure(figsize=(8, 8))\n",
    "plt.imshow(rms[:,:,7])\n",
    "plt.imshow(sobs_tot[:,:,1])\n",
    "print(rms[333,138,0]/rms[333,138,:],sobs_tot[333,138,:])"
   ]
  },
  {
   "cell_type": "code",
   "execution_count": 7,
   "id": "951287f6-a9f7-4ec8-8a5f-38e78b7ac636",
   "metadata": {},
   "outputs": [
    {
     "name": "stdout",
     "output_type": "stream",
     "text": [
      "(600, 280, 30, 4)\n"
     ]
    },
    {
     "data": {
      "application/vnd.jupyter.widget-view+json": {
       "model_id": "627fed798fe4426fbbf808d57a297f97",
       "version_major": 2,
       "version_minor": 0
      },
      "text/plain": [
       "Canvas(toolbar=Toolbar(toolitems=[('Home', 'Reset original view', 'home', 'home'), ('Back', 'Back to previous …"
      ]
     },
     "metadata": {},
     "output_type": "display_data"
    },
    {
     "data": {
      "application/vnd.jupyter.widget-view+json": {
       "model_id": "da4b44659baa412aade1354b800d972e",
       "version_major": 2,
       "version_minor": 0
      },
      "text/plain": [
       "Canvas(toolbar=Toolbar(toolitems=[('Home', 'Reset original view', 'home', 'home'), ('Back', 'Back to previous …"
      ]
     },
     "metadata": {},
     "output_type": "display_data"
    },
    {
     "data": {
      "text/plain": [
       "<matplotlib.image.AxesImage at 0x7f6c37b40280>"
      ]
     },
     "execution_count": 7,
     "metadata": {},
     "output_type": "execute_result"
    }
   ],
   "source": [
    "##check the array\n",
    "print(sobs_in[0].shape)\n",
    "plt.figure(figsize=(8, 8))\n",
    "#plt.imshow(sobs_in[0][:,:,18,0]) ## stokes I of second line; first line is all only \"1\".\n",
    "\n",
    "plt.imshow(aobs)\n",
    "#plt.imshow(sobs_tot[:,:,3]-sobs_totrot[:,:,3])\n",
    "# plt.plot(sobs_in[1][319,126,:,0])\n",
    "# cdf=invprep.obs_cdf(sobs_in[1][319,126,:,0])\n",
    "# plt.plot(cdf/cdf[-1])\n",
    "# cdf[:]=cdf[:]/cdf[-1]\n",
    "# l0=np.where(np.abs(cdf-0.05) == np.abs(cdf-0.05).min() )[0][0] \n",
    "# r0=np.where(np.abs(cdf-0.95) == np.abs(cdf-0.95).min() )[0][-1]\n",
    "# print(l0,r0)\n",
    "#sobs_in[0].shape[0:3]\n",
    "fig, plots = plt.subplots(nrows=1, ncols=2, figsize=(11, 9))\n",
    "plots[0].imshow(sobs_tot[:,:,2])\n",
    "plots[1].imshow(sobs_totrot[:,:,2])"
   ]
  },
  {
   "cell_type": "code",
   "execution_count": null,
   "id": "89a63d45-e492-46b3-9c9f-0e5197df0f47",
   "metadata": {},
   "outputs": [],
   "source": []
  }
 ],
 "metadata": {
  "kernelspec": {
   "display_name": "Python 3",
   "language": "python",
   "name": "python3"
  },
  "language_info": {
   "codemirror_mode": {
    "name": "ipython",
    "version": 3
   },
   "file_extension": ".py",
   "mimetype": "text/x-python",
   "name": "python",
   "nbconvert_exporter": "python",
   "pygments_lexer": "ipython3",
   "version": "3.8.5"
  }
 },
 "nbformat": 4,
 "nbformat_minor": 5
}
